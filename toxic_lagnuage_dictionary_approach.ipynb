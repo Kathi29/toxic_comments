{
 "cells": [
  {
   "cell_type": "code",
   "execution_count": 5,
   "metadata": {},
   "outputs": [],
   "source": [
    "import pandas as pd\n",
    "pd.set_option(\"display.max_colwidth\", None)\n",
    "toxic_comments = pd.read_csv(\"russian_comments_from_2ch_pikabu.csv\")\n",
    "\n",
    "import warnings\n",
    "warnings.simplefilter(action='ignore', category=FutureWarning)"
   ]
  },
  {
   "cell_type": "code",
   "execution_count": 6,
   "metadata": {},
   "outputs": [
    {
     "name": "stderr",
     "output_type": "stream",
     "text": [
      "[nltk_data] Downloading package stopwords to\n",
      "[nltk_data]     /Users/ekaterinakastaleva/nltk_data...\n",
      "[nltk_data]   Package stopwords is already up-to-date!\n"
     ]
    }
   ],
   "source": [
    "import numpy as np\n",
    "import re\n",
    "import nltk\n",
    "nltk.download(\"stopwords\")\n",
    "from nltk.corpus import stopwords\n",
    "from pymystem3 import Mystem\n",
    "from string import punctuation"
   ]
  },
  {
   "cell_type": "code",
   "execution_count": 7,
   "metadata": {},
   "outputs": [
    {
     "data": {
      "text/html": [
       "<div>\n",
       "<style scoped>\n",
       "    .dataframe tbody tr th:only-of-type {\n",
       "        vertical-align: middle;\n",
       "    }\n",
       "\n",
       "    .dataframe tbody tr th {\n",
       "        vertical-align: top;\n",
       "    }\n",
       "\n",
       "    .dataframe thead th {\n",
       "        text-align: right;\n",
       "    }\n",
       "</style>\n",
       "<table border=\"1\" class=\"dataframe\">\n",
       "  <thead>\n",
       "    <tr style=\"text-align: right;\">\n",
       "      <th></th>\n",
       "      <th>comment</th>\n",
       "      <th>toxic</th>\n",
       "      <th>translated</th>\n",
       "    </tr>\n",
       "  </thead>\n",
       "  <tbody>\n",
       "    <tr>\n",
       "      <th>0</th>\n",
       "      <td>Верблюдов-то за что? Дебилы, бл...\\n</td>\n",
       "      <td>1.0</td>\n",
       "      <td>Camels, for what? Morons, bl ...</td>\n",
       "    </tr>\n",
       "    <tr>\n",
       "      <th>1</th>\n",
       "      <td>Хохлы, это отдушина затюканого россиянина, мол, вон, а у хохлов еще хуже. Если бы хохлов не было, кисель их бы придумал.\\n</td>\n",
       "      <td>1.0</td>\n",
       "      <td>Ukrainians, this is an outlet vent zatyukanogo Russians, they say, out, and Ukrainians worse. If there were no Ukrainians, jelly would have invented them.</td>\n",
       "    </tr>\n",
       "    <tr>\n",
       "      <th>2</th>\n",
       "      <td>Собаке - собачья смерть\\n</td>\n",
       "      <td>1.0</td>\n",
       "      <td>Dog - Dog Death</td>\n",
       "    </tr>\n",
       "    <tr>\n",
       "      <th>3</th>\n",
       "      <td>Страницу обнови, дебил. Это тоже не оскорбление, а доказанный факт - не-дебил про себя во множественном числе писать не будет. Или мы в тебя верим - это ты и твои воображаемые друзья?\\n</td>\n",
       "      <td>1.0</td>\n",
       "      <td>Refresh the page, moron. This is also not an insult, but a proven fact - I will not write a non-moron to myself in the plural. Or do we believe in you - are you and your imaginary friends?</td>\n",
       "    </tr>\n",
       "    <tr>\n",
       "      <th>4</th>\n",
       "      <td>тебя не убедил 6-страничный пдф в том, что Скрипалей отравила Россия? Анализировать и думать пытаешься? Ватник что ли?)\\n</td>\n",
       "      <td>1.0</td>\n",
       "      <td>did not convince you of the 6-page pdf that Skripale was poisoned by Russia? Are you trying to analyze and think? Padded jacket or what?)</td>\n",
       "    </tr>\n",
       "    <tr>\n",
       "      <th>...</th>\n",
       "      <td>...</td>\n",
       "      <td>...</td>\n",
       "      <td>...</td>\n",
       "    </tr>\n",
       "    <tr>\n",
       "      <th>14407</th>\n",
       "      <td>Вонючий совковый скот прибежал и ноет. А вот и сторонник демократии и свободы слова закукарекал.\\n</td>\n",
       "      <td>1.0</td>\n",
       "      <td>Smelly soviet cattle came running and aching. And here the supporter of democracy and freedom of speech crowed.</td>\n",
       "    </tr>\n",
       "    <tr>\n",
       "      <th>14408</th>\n",
       "      <td>А кого любить? Гоблина тупорылого что-ли? Или какую-нибудь продажную суку из демшизы? Нет уж, спасибо не надо.\\n</td>\n",
       "      <td>1.0</td>\n",
       "      <td>And whom to love? Goblin blunt or what? Or some corrupt demshiz bitch? No, thanks, no.</td>\n",
       "    </tr>\n",
       "    <tr>\n",
       "      <th>14409</th>\n",
       "      <td>Посмотрел Утомленных солнцем 2. И оказалось, что это хороший фильм, такая высокобюджетная артхаусятина, к которой могут быть претензии только потому, что спиздили-распилили и вообще ТАК НЕ БЫВАЕТ. Ну нахуй этих критиков. Обзоры длиннее фильмов, петросянство хуже рашкокомедий, ебанутая ненависть и доебки по мелочам.\\n</td>\n",
       "      <td>0.0</td>\n",
       "      <td>I watched Burnt by the Sun 2. And it turned out that this is a good film, such a high-budget arthouse, to which there can be a complaint only because it was spit-sawed and in general SO DO NOT HAPPEN. Well fuck these critics. Reviews are longer than films, Petrosianism is worse than rash comedies, fucked hatred and trivialities.</td>\n",
       "    </tr>\n",
       "    <tr>\n",
       "      <th>14410</th>\n",
       "      <td>КРЫМОТРЕД НАРУШАЕТ ПРАВИЛА РАЗДЕЛА Т.К В НЕМ НЕТ ОБСУЖДЕНИЯ ПОЛИТИКИ. СВОБОДНОЕ ОБЩЕНИЕ ЭТО В b. ЭТО ТОЖЕ САМОЕ ЕСЛИ Я НА ДОСКЕ О ПОЛИТИКЕ СОЗДАМ ТРЕД О ТОМ КАК ПЛОХО БЕЗ ТЯНОЧКИ. ТАК ЧТО УЕБЫВАЙТЕ В Б ИЛИ НВР СО СВОИМ ЧАТИКОМ ПРЕСТАРЕЛЫХ ГОМОСЕКОВ!\\n</td>\n",
       "      <td>1.0</td>\n",
       "      <td>CRIMEA THREAD VIOLATES THE RULES OF SECTION. TK THERE IS NO POLICY DISCUSSION IN IT. FREE COMMUNICATION THIS IN b. THIS IS ALSO THE MOST IF I AM ON THE POLICY BOARD CREATING THREADS ABOUT BAD WITHOUT A TANCH. SO VISIT TO B or NVR WITH YOUR CHATIK OF THE ELDER GOMOSEKS!</td>\n",
       "    </tr>\n",
       "    <tr>\n",
       "      <th>14411</th>\n",
       "      <td>До сих пор пересматриваю его видео. Орамбо кстати на своем канале пилит похожий контент, но качеством похуже, там же и Шуран не редко светится, храню хрупкую надежду что когда-то он вернется, такая годнота ведь.\\n</td>\n",
       "      <td>0.0</td>\n",
       "      <td>Still reviewing his video. Orambo, by the way, is sawing similar content on its channel, but its quality is worse, Shuran also shines not infrequently in the same place, I keep the fragile hope that he will return someday, such a good thing after all.</td>\n",
       "    </tr>\n",
       "  </tbody>\n",
       "</table>\n",
       "<p>14412 rows × 3 columns</p>\n",
       "</div>"
      ],
      "text/plain": [
       "                                                                                                                                                                                                                                                                                                                              comment  \\\n",
       "0                                                                                                                                                                                                                                                                                                Верблюдов-то за что? Дебилы, бл...\\n   \n",
       "1                                                                                                                                                                                                          Хохлы, это отдушина затюканого россиянина, мол, вон, а у хохлов еще хуже. Если бы хохлов не было, кисель их бы придумал.\\n   \n",
       "2                                                                                                                                                                                                                                                                                                           Собаке - собачья смерть\\n   \n",
       "3                                                                                                                                           Страницу обнови, дебил. Это тоже не оскорбление, а доказанный факт - не-дебил про себя во множественном числе писать не будет. Или мы в тебя верим - это ты и твои воображаемые друзья?\\n   \n",
       "4                                                                                                                                                                                                           тебя не убедил 6-страничный пдф в том, что Скрипалей отравила Россия? Анализировать и думать пытаешься? Ватник что ли?)\\n   \n",
       "...                                                                                                                                                                                                                                                                                                                               ...   \n",
       "14407                                                                                                                                                                                                                              Вонючий совковый скот прибежал и ноет. А вот и сторонник демократии и свободы слова закукарекал.\\n   \n",
       "14408                                                                                                                                                                                                                А кого любить? Гоблина тупорылого что-ли? Или какую-нибудь продажную суку из демшизы? Нет уж, спасибо не надо.\\n   \n",
       "14409  Посмотрел Утомленных солнцем 2. И оказалось, что это хороший фильм, такая высокобюджетная артхаусятина, к которой могут быть претензии только потому, что спиздили-распилили и вообще ТАК НЕ БЫВАЕТ. Ну нахуй этих критиков. Обзоры длиннее фильмов, петросянство хуже рашкокомедий, ебанутая ненависть и доебки по мелочам.\\n   \n",
       "14410                                                                     КРЫМОТРЕД НАРУШАЕТ ПРАВИЛА РАЗДЕЛА Т.К В НЕМ НЕТ ОБСУЖДЕНИЯ ПОЛИТИКИ. СВОБОДНОЕ ОБЩЕНИЕ ЭТО В b. ЭТО ТОЖЕ САМОЕ ЕСЛИ Я НА ДОСКЕ О ПОЛИТИКЕ СОЗДАМ ТРЕД О ТОМ КАК ПЛОХО БЕЗ ТЯНОЧКИ. ТАК ЧТО УЕБЫВАЙТЕ В Б ИЛИ НВР СО СВОИМ ЧАТИКОМ ПРЕСТАРЕЛЫХ ГОМОСЕКОВ!\\n   \n",
       "14411                                                                                                           До сих пор пересматриваю его видео. Орамбо кстати на своем канале пилит похожий контент, но качеством похуже, там же и Шуран не редко светится, храню хрупкую надежду что когда-то он вернется, такая годнота ведь.\\n   \n",
       "\n",
       "       toxic  \\\n",
       "0        1.0   \n",
       "1        1.0   \n",
       "2        1.0   \n",
       "3        1.0   \n",
       "4        1.0   \n",
       "...      ...   \n",
       "14407    1.0   \n",
       "14408    1.0   \n",
       "14409    0.0   \n",
       "14410    1.0   \n",
       "14411    0.0   \n",
       "\n",
       "                                                                                                                                                                                                                                                                                                                                         translated  \n",
       "0                                                                                                                                                                                                                                                                                                                 Camels, for what? Morons, bl ...   \n",
       "1                                                                                                                                                                                       Ukrainians, this is an outlet vent zatyukanogo Russians, they say, out, and Ukrainians worse. If there were no Ukrainians, jelly would have invented them.   \n",
       "2                                                                                                                                                                                                                                                                                                                                  Dog - Dog Death   \n",
       "3                                                                                                                                                     Refresh the page, moron. This is also not an insult, but a proven fact - I will not write a non-moron to myself in the plural. Or do we believe in you - are you and your imaginary friends?   \n",
       "4                                                                                                                                                                                                        did not convince you of the 6-page pdf that Skripale was poisoned by Russia? Are you trying to analyze and think? Padded jacket or what?)   \n",
       "...                                                                                                                                                                                                                                                                                                                                             ...  \n",
       "14407                                                                                                                                                                                                                              Smelly soviet cattle came running and aching. And here the supporter of democracy and freedom of speech crowed.   \n",
       "14408                                                                                                                                                                                                                                                       And whom to love? Goblin blunt or what? Or some corrupt demshiz bitch? No, thanks, no.   \n",
       "14409   I watched Burnt by the Sun 2. And it turned out that this is a good film, such a high-budget arthouse, to which there can be a complaint only because it was spit-sawed and in general SO DO NOT HAPPEN. Well fuck these critics. Reviews are longer than films, Petrosianism is worse than rash comedies, fucked hatred and trivialities.   \n",
       "14410                                                                CRIMEA THREAD VIOLATES THE RULES OF SECTION. TK THERE IS NO POLICY DISCUSSION IN IT. FREE COMMUNICATION THIS IN b. THIS IS ALSO THE MOST IF I AM ON THE POLICY BOARD CREATING THREADS ABOUT BAD WITHOUT A TANCH. SO VISIT TO B or NVR WITH YOUR CHATIK OF THE ELDER GOMOSEKS!   \n",
       "14411                                                                                  Still reviewing his video. Orambo, by the way, is sawing similar content on its channel, but its quality is worse, Shuran also shines not infrequently in the same place, I keep the fragile hope that he will return someday, such a good thing after all.   \n",
       "\n",
       "[14412 rows x 3 columns]"
      ]
     },
     "execution_count": 7,
     "metadata": {},
     "output_type": "execute_result"
    }
   ],
   "source": [
    "toxic_comments"
   ]
  },
  {
   "cell_type": "code",
   "execution_count": 8,
   "metadata": {},
   "outputs": [],
   "source": [
    "toxic_comments.columns=[ \"comment\", \"toxic\",\"translated\"]"
   ]
  },
  {
   "cell_type": "code",
   "execution_count": 9,
   "metadata": {},
   "outputs": [
    {
     "data": {
      "text/plain": [
       "Index(['comment', 'toxic'], dtype='object')"
      ]
     },
     "execution_count": 9,
     "metadata": {},
     "output_type": "execute_result"
    }
   ],
   "source": [
    "toxic_comments=toxic_comments[[\"comment\",\"toxic\"]]\n",
    "toxic_comments.columns"
   ]
  },
  {
   "cell_type": "code",
   "execution_count": 10,
   "metadata": {},
   "outputs": [
    {
     "name": "stdout",
     "output_type": "stream",
     "text": [
      "4826\n",
      "9586\n",
      "9600\n"
     ]
    }
   ],
   "source": [
    "only_toxic_comments = toxic_comments[toxic_comments[\"toxic\"]==1.0]\n",
    "print(len(only_toxic_comments))\n",
    "normal_comments = toxic_comments[toxic_comments[\"toxic\"]==0.0]\n",
    "print(len(normal_comments))\n",
    "normal_comments = normal_comments.iloc[:int(4800)]\n",
    "only_toxic_comments = only_toxic_comments.iloc[:int(4800)]\n",
    "toxic_dataset = pd.concat([only_toxic_comments, normal_comments])\n",
    "print(len(toxic_dataset))"
   ]
  },
  {
   "cell_type": "code",
   "execution_count": 11,
   "metadata": {},
   "outputs": [
    {
     "name": "stdout",
     "output_type": "stream",
     "text": [
      "0       1.0\n",
      "1       1.0\n",
      "2       1.0\n",
      "3       1.0\n",
      "4       1.0\n",
      "       ... \n",
      "8065    0.0\n",
      "8066    0.0\n",
      "8067    0.0\n",
      "8068    0.0\n",
      "8069    0.0\n",
      "Name: toxic, Length: 9600, dtype: float64\n",
      "9600\n"
     ]
    }
   ],
   "source": [
    "y = toxic_dataset.toxic\n",
    "print(y)\n",
    "print(len(y))"
   ]
  },
  {
   "cell_type": "code",
   "execution_count": 12,
   "metadata": {},
   "outputs": [],
   "source": [
    "toxic_dataset=toxic_dataset.comment"
   ]
  },
  {
   "cell_type": "code",
   "execution_count": 13,
   "metadata": {},
   "outputs": [],
   "source": [
    "toxic_dataset = toxic_dataset.str.lower()"
   ]
  },
  {
   "cell_type": "code",
   "execution_count": 14,
   "metadata": {},
   "outputs": [
    {
     "name": "stdout",
     "output_type": "stream",
     "text": [
      "5                                     для каких стан является эталоном современная система здравоохранения рф? для зимбабве? ты тупой? хохлы\\n\n",
      "7     упад т! там нельзя строить! технологий нет! разворуют как всегда! уже трещинами пош л! тупые китазы не могут ничего нормально сделать!\\n\n",
      "8                                                                                                                ебать тебя разносит, шизик.\\n\n",
      "9                                                                                                                    обосрался, сиди обтекай\\n\n",
      "10                                                                       зачем ты пишешь хуйню, дегенерат? поцелуй в губы ! поцелую в засос.\\n\n",
      "Name: comment, dtype: object\n"
     ]
    }
   ],
   "source": [
    "print(toxic_dataset[5:10])"
   ]
  },
  {
   "cell_type": "code",
   "execution_count": 15,
   "metadata": {},
   "outputs": [],
   "source": [
    "def remove_links(column):\n",
    "    return re.sub('((www.[^s]+)|(https?://[^s]+))', ' ',column)"
   ]
  },
  {
   "cell_type": "code",
   "execution_count": 16,
   "metadata": {},
   "outputs": [],
   "source": [
    "toxic_dataset = toxic_dataset.apply(lambda column: remove_links(column))\n",
    "toxic_copy = toxic_dataset.copy()"
   ]
  },
  {
   "cell_type": "code",
   "execution_count": 17,
   "metadata": {},
   "outputs": [],
   "source": [
    "russian_stopwords = stopwords.words(\"russian\")"
   ]
  },
  {
   "cell_type": "code",
   "execution_count": 18,
   "metadata": {},
   "outputs": [
    {
     "name": "stdout",
     "output_type": "stream",
     "text": [
      "['и', 'в', 'во', 'не', 'что', 'он', 'на', 'я', 'с', 'со', 'как', 'а', 'то', 'все', 'она', 'так', 'его', 'но', 'да', 'ты', 'к', 'у', 'же', 'вы', 'за', 'бы', 'по', 'только', 'ее', 'мне', 'было', 'вот', 'от', 'меня', 'еще', 'нет', 'о', 'из', 'ему', 'теперь', 'когда', 'даже', 'ну', 'вдруг', 'ли', 'если', 'уже', 'или', 'ни', 'быть', 'был', 'него', 'до', 'вас', 'нибудь', 'опять', 'уж', 'вам', 'ведь', 'там', 'потом', 'себя', 'ничего', 'ей', 'может', 'они', 'тут', 'где', 'есть', 'надо', 'ней', 'для', 'мы', 'тебя', 'их', 'чем', 'была', 'сам', 'чтоб', 'без', 'будто', 'чего', 'раз', 'тоже', 'себе', 'под', 'будет', 'ж', 'тогда', 'кто', 'этот', 'того', 'потому', 'этого', 'какой', 'совсем', 'ним', 'здесь', 'этом', 'один', 'почти', 'мой', 'тем', 'чтобы', 'нее', 'сейчас', 'были', 'куда', 'зачем', 'всех', 'никогда', 'можно', 'при', 'наконец', 'два', 'об', 'другой', 'хоть', 'после', 'над', 'больше', 'тот', 'через', 'эти', 'нас', 'про', 'всего', 'них', 'какая', 'много', 'разве', 'три', 'эту', 'моя', 'впрочем', 'хорошо', 'свою', 'этой', 'перед', 'иногда', 'лучше', 'чуть', 'том', 'нельзя', 'такой', 'им', 'более', 'всегда', 'конечно', 'всю', 'между']\n"
     ]
    },
    {
     "data": {
      "text/plain": [
       "151"
      ]
     },
     "execution_count": 18,
     "metadata": {},
     "output_type": "execute_result"
    }
   ],
   "source": [
    "print(russian_stopwords)\n",
    "len(russian_stopwords)"
   ]
  },
  {
   "cell_type": "code",
   "execution_count": 19,
   "metadata": {},
   "outputs": [],
   "source": [
    "import spacy\n",
    "from spacy import displacy\n",
    "from collections import Counter\n",
    "nlp = spacy.load('ru_core_news_sm')\n",
    "def prep(column, threshold = 1):\n",
    "    threshold = threshold\n",
    "    tokens = [word.lemma_ for word in nlp(column.lower())]\n",
    "    tokens = [token for token in tokens if token not in russian_stopwords\\\n",
    "             and token !=\" \" \\\n",
    "             and token.strip() not in punctuation]\n",
    "    column = \" \".join([word for word in tokens if len(word) > threshold])\n",
    "    return re.sub('[0-9]+', '', column)"
   ]
  },
  {
   "cell_type": "code",
   "execution_count": 20,
   "metadata": {},
   "outputs": [],
   "source": [
    "toxic_dataset = toxic_dataset.apply(lambda column: prep(column))"
   ]
  },
  {
   "cell_type": "code",
   "execution_count": 21,
   "metadata": {},
   "outputs": [
    {
     "name": "stdout",
     "output_type": "stream",
     "text": [
      "5              стан являться эталон современный система здравоохранение рф зимбабве тупой хохол\n",
      "7     упад строить технология разворуют трещинами пош тупой китазы мочь ничто нормально сделать\n",
      "8                                                                         ебать разносить шизик\n",
      "9                                                                        обосрался сиди обтекай\n",
      "10                                            писать хуйню дегенерат поцелуй губа поцелую засос\n",
      "Name: comment, dtype: object\n"
     ]
    }
   ],
   "source": [
    "print(toxic_dataset[5:10])"
   ]
  },
  {
   "cell_type": "code",
   "execution_count": 22,
   "metadata": {},
   "outputs": [],
   "source": [
    "#toxic_comments['toxic'].value_counts()"
   ]
  },
  {
   "cell_type": "code",
   "execution_count": 23,
   "metadata": {},
   "outputs": [],
   "source": [
    "#np.sum(toxic_comments.isnull().any(axis=1))"
   ]
  },
  {
   "cell_type": "markdown",
   "metadata": {},
   "source": [
    "# TF-IDF Vectorizer\n"
   ]
  },
  {
   "cell_type": "code",
   "execution_count": 24,
   "metadata": {},
   "outputs": [],
   "source": [
    "from sklearn.feature_extraction.text import TfidfVectorizer "
   ]
  },
  {
   "cell_type": "code",
   "execution_count": 25,
   "metadata": {},
   "outputs": [],
   "source": [
    "vectorizer = TfidfVectorizer(\n",
    "ngram_range = (1,3),\n",
    "use_idf = True,\n",
    "smooth_idf = True,\n",
    "norm = 'l2',\n",
    "decode_error = 'replace',\n",
    "max_features = 10000,\n",
    "max_df = .9,\n",
    "min_df = 0\n",
    ")"
   ]
  },
  {
   "cell_type": "markdown",
   "metadata": {},
   "source": [
    "# Dictionary"
   ]
  },
  {
   "cell_type": "code",
   "execution_count": 26,
   "metadata": {},
   "outputs": [],
   "source": [
    "with open(\"Dicitonary_hate_speech.txt\", 'r') as file:\n",
    "    dictionary = file.read().split(\"\\n\")[1:]\n",
    "neg_words = list(set(dictionary))[1:]"
   ]
  },
  {
   "cell_type": "code",
   "execution_count": 27,
   "metadata": {},
   "outputs": [
    {
     "data": {
      "text/plain": [
       "1562"
      ]
     },
     "execution_count": 27,
     "metadata": {},
     "output_type": "execute_result"
    }
   ],
   "source": [
    "len(neg_words)"
   ]
  },
  {
   "cell_type": "code",
   "execution_count": 28,
   "metadata": {},
   "outputs": [],
   "source": [
    "def score(text):\n",
    "    for words in text:\n",
    "        words = text.split(\" \")\n",
    "        total = len(words)\n",
    "        pos = len([word for word in words if word not in neg_words])\n",
    "        neg = len([word for word in words if word in neg_words])\n",
    "        if total > 0:\n",
    "            return (pos - neg) / total\n",
    "        else:\n",
    "            return 0"
   ]
  },
  {
   "cell_type": "code",
   "execution_count": 29,
   "metadata": {},
   "outputs": [],
   "source": [
    "toxic_dataset_score = toxic_dataset.apply(lambda column: score(column)).fillna(0)"
   ]
  },
  {
   "cell_type": "code",
   "execution_count": 30,
   "metadata": {},
   "outputs": [
    {
     "name": "stdout",
     "output_type": "stream",
     "text": [
      "0.6666666666666666\n"
     ]
    }
   ],
   "source": [
    "print(toxic_dataset_score[1])"
   ]
  },
  {
   "cell_type": "code",
   "execution_count": 31,
   "metadata": {},
   "outputs": [
    {
     "name": "stdout",
     "output_type": "stream",
     "text": [
      "[[0. 0. 0. ... 0. 0. 0.]\n",
      " [0. 0. 0. ... 0. 0. 0.]\n",
      " [0. 0. 0. ... 0. 0. 0.]\n",
      " ...\n",
      " [0. 0. 0. ... 0. 0. 0.]\n",
      " [0. 0. 0. ... 0. 0. 0.]\n",
      " [0. 0. 0. ... 0. 0. 0.]]\n"
     ]
    }
   ],
   "source": [
    "X = vectorizer.fit_transform(toxic_dataset).toarray()\n",
    "print(X)"
   ]
  },
  {
   "cell_type": "code",
   "execution_count": 32,
   "metadata": {},
   "outputs": [
    {
     "data": {
      "text/plain": [
       "119442"
      ]
     },
     "execution_count": 32,
     "metadata": {},
     "output_type": "execute_result"
    }
   ],
   "source": [
    "np.count_nonzero(X)"
   ]
  },
  {
   "cell_type": "code",
   "execution_count": 33,
   "metadata": {},
   "outputs": [],
   "source": [
    "pos_map = {v: k for k, v in enumerate(vectorizer.get_feature_names_out())}\n",
    "idf_vals = vectorizer.idf_\n",
    "idf_dict = {k: idf_vals[k] for k in pos_map.values()}"
   ]
  },
  {
   "cell_type": "code",
   "execution_count": 34,
   "metadata": {},
   "outputs": [
    {
     "data": {
      "text/plain": [
       "(10000, 9600)"
      ]
     },
     "execution_count": 34,
     "metadata": {},
     "output_type": "execute_result"
    }
   ],
   "source": [
    "X.T.shape"
   ]
  },
  {
   "cell_type": "code",
   "execution_count": 35,
   "metadata": {},
   "outputs": [],
   "source": [
    "from nltk.tokenize import TweetTokenizer\n",
    "tweet_tokenizer = TweetTokenizer()\n",
    "list_of_tok_tweets = []\n",
    "for f in toxic_dataset:\n",
    "    tweets = tweet_tokenizer.tokenize(f)\n",
    "    list_of_tok_tweets.append(tweets)"
   ]
  },
  {
   "cell_type": "code",
   "execution_count": 36,
   "metadata": {},
   "outputs": [],
   "source": [
    "list_of_tweet_tags = []\n",
    "for f in list_of_tok_tweets:\n",
    "    tags = nlp(\" \".join(f))\n",
    "    list_of_tweet_tags.append(\" \".join([token.tag_ for token in tags]))"
   ]
  },
  {
   "cell_type": "code",
   "execution_count": 37,
   "metadata": {},
   "outputs": [
    {
     "data": {
      "text/plain": [
       "['NOUN VERB NOUN ADJ NOUN NOUN PROPN PROPN ADJ NOUN',\n",
       " 'NOUN VERB NOUN VERB NOUN PROPN ADJ NOUN NOUN PRON ADV VERB',\n",
       " 'VERB VERB NOUN',\n",
       " 'VERB NOUN PROPN',\n",
       " 'VERB NOUN NOUN NOUN NOUN PROPN VERB']"
      ]
     },
     "execution_count": 37,
     "metadata": {},
     "output_type": "execute_result"
    }
   ],
   "source": [
    "list_of_tweet_tags[5:10]"
   ]
  },
  {
   "cell_type": "code",
   "execution_count": 38,
   "metadata": {},
   "outputs": [],
   "source": [
    "pos_vectorizer = TfidfVectorizer(\n",
    "ngram_range = (1,3),\n",
    "tokenizer=None,\n",
    "preprocessor = None,\n",
    "lowercase = False,\n",
    "use_idf = True,\n",
    "smooth_idf = True,\n",
    "norm = \"l2\",\n",
    "decode_error = 'replace',\n",
    "max_features = 5000,\n",
    "max_df = .75,\n",
    "min_df = 5\n",
    ")"
   ]
  },
  {
   "cell_type": "code",
   "execution_count": 39,
   "metadata": {},
   "outputs": [],
   "source": [
    "pos = pos_vectorizer.fit_transform(pd.Series(list_of_tweet_tags)).toarray()\n",
    "pos_vocab = {v: i for i, v in enumerate(pos_vectorizer.get_feature_names_out())}"
   ]
  },
  {
   "cell_type": "code",
   "execution_count": 40,
   "metadata": {},
   "outputs": [
    {
     "data": {
      "application/vnd.jupyter.widget-view+json": {
       "model_id": "5e9f3432c8b84768809a30a2742c389d",
       "version_major": 2,
       "version_minor": 0
      },
      "text/plain": [
       "HBox(children=(HTML(value='Downloading'), FloatProgress(value=0.0, max=1104.0), HTML(value='')))"
      ]
     },
     "metadata": {},
     "output_type": "display_data"
    },
    {
     "name": "stdout",
     "output_type": "stream",
     "text": [
      "\n"
     ]
    }
   ],
   "source": [
    "#Quelle: https://huggingface.co/sismetanin/rubert-ru-sentiment-rusentiment\n",
    "#from polyglot.text import Text as T\n",
    "\n",
    "import textstat\n",
    "textstat.set_lang('ru')\n",
    "\n",
    "from transformers import pipeline\n",
    "classifier = pipeline(model='sismetanin/rubert-ru-sentiment-rusentiment', max_length=512, truncation=True)"
   ]
  },
  {
   "cell_type": "code",
   "execution_count": 41,
   "metadata": {},
   "outputs": [],
   "source": [
    "def feature(text, cleaned):\n",
    "    #polarity = classifier(text)[0]['score']\n",
    "    syllables = textstat.syllable_count(cleaned)\n",
    "    num_chars = sum(len(w) for w in cleaned)\n",
    "    num_chars_total = len(text)\n",
    "    num_terms = len(text.split())\n",
    "    num_words = len(cleaned.split())\n",
    "    avg_syl = round(float((syllables + 0.001))/ float(num_words + 0.001),4)\n",
    "    num_unique_terms = len(set(cleaned.split()))\n",
    "    FKRA = round(float(0.39 * float(num_words)/1.0) + float(11.8 * avg_syl) - 15.59,1)\n",
    "    FRE = round(206.835 - 1.015 * (float(num_words)/1.0) - (84.6 * float(avg_syl)),2)\n",
    "    features = [FKRA, FRE, syllables, avg_syl, num_chars, num_chars_total, num_terms, num_words, num_unique_terms]\n",
    "    return features"
   ]
  },
  {
   "cell_type": "code",
   "execution_count": 42,
   "metadata": {},
   "outputs": [],
   "source": [
    "other_features = pd.concat([toxic_dataset, toxic_copy.rename(\"original\")], axis = 1).apply(lambda row: feature(row['original'], row['comment']), axis=1)"
   ]
  },
  {
   "cell_type": "code",
   "execution_count": 43,
   "metadata": {},
   "outputs": [],
   "source": [
    "all_features = np.concatenate([X, pos, np.array(list(other_features))], axis = 1)"
   ]
  },
  {
   "cell_type": "code",
   "execution_count": 44,
   "metadata": {},
   "outputs": [],
   "source": [
    "all_f = np.array(toxic_dataset_score)"
   ]
  },
  {
   "cell_type": "code",
   "execution_count": 45,
   "metadata": {},
   "outputs": [],
   "source": [
    "all_ff= np.reshape(all_f, (-1, 1))"
   ]
  },
  {
   "cell_type": "code",
   "execution_count": 46,
   "metadata": {},
   "outputs": [],
   "source": [
    "all_features_dict = np.concatenate([all_features, all_ff], axis=1)"
   ]
  },
  {
   "cell_type": "code",
   "execution_count": 47,
   "metadata": {},
   "outputs": [
    {
     "name": "stdout",
     "output_type": "stream",
     "text": [
      "9600\n",
      "9600\n"
     ]
    }
   ],
   "source": [
    "print(len(all_features_dict))\n",
    "print(len(y))"
   ]
  },
  {
   "cell_type": "code",
   "execution_count": 48,
   "metadata": {},
   "outputs": [],
   "source": [
    "from sklearn.model_selection import train_test_split"
   ]
  },
  {
   "cell_type": "code",
   "execution_count": 49,
   "metadata": {},
   "outputs": [],
   "source": [
    "features_concat = np.concatenate((all_features_dict, toxic_copy.to_numpy().reshape((-1,1))), axis=1)"
   ]
  },
  {
   "cell_type": "code",
   "execution_count": 50,
   "metadata": {},
   "outputs": [],
   "source": [
    "X_train, X_test, y_train, y_test = train_test_split(features_concat, y, test_size=0.2, random_state=2)"
   ]
  },
  {
   "cell_type": "code",
   "execution_count": 51,
   "metadata": {},
   "outputs": [],
   "source": [
    "X_train = X_train[:, :-1]\n",
    "X_test_comments = X_test[:, -1]\n",
    "X_test = X_test[:, :-1]"
   ]
  },
  {
   "cell_type": "code",
   "execution_count": 52,
   "metadata": {},
   "outputs": [
    {
     "name": "stdout",
     "output_type": "stream",
     "text": [
      "shape of input - training set (7680, 11058)\n",
      "shape of output - training set (7680,)\n",
      "shape of input - testing set (1920, 11058)\n",
      "shape of output - testing set (1920,)\n"
     ]
    }
   ],
   "source": [
    "print(\"shape of input - training set\", X_train.shape)\n",
    "print(\"shape of output - training set\", y_train.shape)\n",
    "print(\"shape of input - testing set\" , X_test.shape)\n",
    "print(\"shape of output - testing set\", y_test.shape)"
   ]
  },
  {
   "cell_type": "markdown",
   "metadata": {},
   "source": [
    "# Generating Model"
   ]
  },
  {
   "cell_type": "code",
   "execution_count": 53,
   "metadata": {},
   "outputs": [],
   "source": [
    "#Quelle: https://vitalflux.com/classification-model-svm-classifier-python-example/\n",
    "from sklearn import svm\n",
    "from sklearn.preprocessing import StandardScaler\n",
    "from sklearn.linear_model import Perceptron, LogisticRegression\n",
    "from sklearn.svm import SVC\n",
    "from sklearn import metrics"
   ]
  },
  {
   "cell_type": "code",
   "execution_count": 54,
   "metadata": {},
   "outputs": [],
   "source": [
    "sc=StandardScaler()"
   ]
  },
  {
   "cell_type": "code",
   "execution_count": 55,
   "metadata": {},
   "outputs": [],
   "source": [
    "sc.fit(X_train)\n",
    "X_train_std = sc.transform(X_train)\n",
    "X_test_std = sc.transform(X_test)"
   ]
  },
  {
   "cell_type": "code",
   "execution_count": 56,
   "metadata": {},
   "outputs": [],
   "source": [
    "svc=SVC(C=1.0, random_state=1, kernel='sigmoid')"
   ]
  },
  {
   "cell_type": "code",
   "execution_count": 57,
   "metadata": {},
   "outputs": [
    {
     "data": {
      "text/plain": [
       "SVC(kernel='sigmoid', random_state=1)"
      ]
     },
     "execution_count": 57,
     "metadata": {},
     "output_type": "execute_result"
    }
   ],
   "source": [
    "svc.fit(X_train_std, y_train)"
   ]
  },
  {
   "cell_type": "code",
   "execution_count": 58,
   "metadata": {},
   "outputs": [],
   "source": [
    "prediction = svc.predict(X_test_std)"
   ]
  },
  {
   "cell_type": "code",
   "execution_count": 59,
   "metadata": {},
   "outputs": [
    {
     "name": "stdout",
     "output_type": "stream",
     "text": [
      "Die Genauigkeit beträgt 0.79\n"
     ]
    }
   ],
   "source": [
    "print(\"Die Genauigkeit beträgt %.2f\" %metrics.accuracy_score(y_test, prediction))"
   ]
  },
  {
   "cell_type": "code",
   "execution_count": 60,
   "metadata": {},
   "outputs": [
    {
     "name": "stdout",
     "output_type": "stream",
     "text": [
      "[[736 190]\n",
      " [204 790]]\n"
     ]
    }
   ],
   "source": [
    "from sklearn.metrics import classification_report, confusion_matrix\n",
    "conf_matrix = confusion_matrix(y_test, prediction)\n",
    "print(conf_matrix)"
   ]
  },
  {
   "cell_type": "code",
   "execution_count": 61,
   "metadata": {},
   "outputs": [
    {
     "data": {
      "image/png": "[encoded data removed]",
      "text/plain": [
       "<Figure size 720x720 with 2 Axes>"
      ]
     },
     "metadata": {
      "needs_background": "light"
     },
     "output_type": "display_data"
    }
   ],
   "source": [
    "from matplotlib import pyplot as plt\n",
    "from mlxtend.plotting import plot_confusion_matrix\n",
    "fig, ax = plot_confusion_matrix(conf_mat = conf_matrix, figsize = (10,10),\n",
    "                               show_absolute = True,\n",
    "                               show_normed = True,\n",
    "                               colorbar = True)\n",
    "plt.show()"
   ]
  },
  {
   "cell_type": "code",
   "execution_count": 62,
   "metadata": {},
   "outputs": [],
   "source": [
    "false_negatives = X_test_comments[((1 - prediction).astype(\"int8\") & np.array(y_test.astype(\"int8\"))) ==1 ]"
   ]
  },
  {
   "cell_type": "code",
   "execution_count": 63,
   "metadata": {},
   "outputs": [
    {
     "data": {
      "text/plain": [
       "['договорились же. а вы что предлагаете, сбросить атомную бомбу на хайфу?\\n',\n",
       " 'я просто общаюсь пидораха пидораха скотоублюдии пидорашки народ такой дранный я просто общаюсь hohlyatus vulgaris\\n',\n",
       " 'и у меня гамно залежалось, тоже отправлю\\n',\n",
       " 'проблема в том, что треды удаляют без объяснения причин. и да, это проблема.\\n',\n",
       " 'была же информацию что пиндосы собирают генетические материалы россиян... задумайтесь...\\n',\n",
       " 'спать пора, а то я куни пони прочитал, думаю совсем ебнулись что-ли.\\n',\n",
       " 'такой всепропальщик типа тебя- хуже пидораса. всё него не по-настоящему, всё не имеет смысла, потому что придумано хитрованским жыдом, который с бедного русака профит стрижет. и чтобы жид не обогатился случайно за твой счет, нужно и дальше продолжать гнить в рфии, даже не думая о переменах. это напоминает какой-то 1984 - всё уже уничтожены, никакие перемены невозможны, и всех за яйца держит партия. что тогда делать-то? присоединяюсь к вопросу . вангую, окажется, что ты какой-нибудь красножопый пидорас-космополит, и срочно нужно всем начинать топить за секретную партию октябрят-дзержинцев , состоящую из школьников.\\n',\n",
       " 'кто, кроме сакрамара помнит о свинье гнидине?\\n',\n",
       " ', у вас тут посетителя в реале забанили. почините обратно.\\n',\n",
       " 'мы тупо вторглись и хапнули кусок другой страны пыне нужен был его флот, а хохлы грозили разорвать договор аренды. крым целиком забрали просто заодно. так что это была защита стратегических интересов страны.\\n',\n",
       " 'и это все равно все еще лучше быдлоалкаша с митинского радиорынка.\\n',\n",
       " 'тред одного из самых умственноотсталых представителей русской гитарной школы, юрия шильникова, который не может сыграть нормально ни квинту, ни одну из существующих пентатоник, вечно выёбывается на хэммета и слэша компенсируя этим свой низкий гитарный скилл и милипиздрический писюн размером с лягушачью лапку. пидор всея ютуба и скучное унылое говно, от тупого пиздежа которого у людей начинает идти кровь из ушей. также имеет суперпосредственную недогруппу, в которой пытается что-то ковырять и сосать в один и тот же момент, с весьма унылыми запилами на 6й струне и неебически скучным вокалом тёлки ака нуки2.0, люди говорят, что по звучанию группа походит на слот, но на самом деле это просто говно мёртвой собаки. леди и джентльмены, встречайте фредхуеглист',\n",
       " 'казимирко и сам как дерьмовая система.\\n',\n",
       " 'привезли на при мку к ашоту теперь ты хозяин железной горы\\n',\n",
       " 'то есть что напустили дохера аллах-бабахов желающих только получать пособие, курить дурь и опиздюливать трахать местных - это ладно, а вот что трудолюбивые китайские бизнесмены им сетевую аппаратуру приличную поставят - это азазаз, трагедь и нидапустим.\\n',\n",
       " 'он с бухлом мешал, наверное.\\n',\n",
       " 'ах , ты ссука.. как передает общую атмосферу. очень тонкий подтекст. и очень толсто передал все, что нужно.\\n',\n",
       " 'вблизи львова во вторник, 19 марта, стадо кабанов на автодороге международного значения повлекло дтп, в результате которого получила технические повреждения легковушка, а два кабана погибли на месте происшествия. об этом в среду, 20 марта, сообщил депутат львовского горсовета игорь зинкевич в facebook. как уточнил координатор оо варта-1, которая сотрудничает с правоохранительными органами, дорожно-транспортное происшествие произошло на международной трассе киев - чоп, в селе деревач пустомытовского района. в 23:30 в селе деревач стадо кабанов перебегало дорогу, и одно авто влетело в это стадо. в результате дтп у renault duster разбита передняя часть автомобиля, два кабана погибли. полиция на месте происшествия оформила дтп , - информировал зинкевич. накануне на автодороге чернигов - киев произошло дорожно-транспортное происшествие с участием трех автомобилей и лося. напомним, в течение 2018 года в украине произошло 550 дтп с участием животных.\\n',\n",
       " 'ну не, у тебя бомбит от того что богатые люди деньги на кокс и шлюх тратят и еще что-то там эппл говна в жопы заливает, видимо заставляет нищих ниггеров покупать свою продукцию и оббирает до нитки. ты же просто социалист, который понял что планчик не работает, но который все равно хочет зарегулировать, обложить налогами, залезть каждому в карман и указывать на что тратить деньги, а потом обосраться и получить венесуэлу недоумевая от зарплат как в африке и вереща на плохого барина. расовый состав погибших детей пожалуйста.\\n',\n",
       " 'в каждом посте, где обсуждают многодетное быдло, находятся те, кто жалуется на нормальных, которые не могут иметь детей. не сами нормальные с патологическими врождёнными патологиями, которые очевидно в курсе, почему у них детей, а совершенно сторонние люди, которые уверены, что беспричинно люди не могут завести детей.\\n',\n",
       " 'во всем прав. до сих пор он приносит тонны анальной боли всем сортам срынкоскота, от нацидауна до либералошвали. особенно сильно с него горят различные лживые творческие илитки, изрыгая тонны пиздежа про миллиарда расстрелянных, т.к. они не могли при нем поплевывать в холопов. полыхания этих животных наблюдать приятнее всего.\\n',\n",
       " 'не был влиятельным да он и сейчас не особо, разве что обзавелся : хомячками с пятачками\\n',\n",
       " 'это кто там? шаолиньские монахи?\\n',\n",
       " 'какой символизм! колючая проволока как последний заслон здравого смысла. брёвна как первые шаги к пагубной привычке. вращающее бревно как собственно сигарета. пламя с двух сторон символизирующее, что пока горит сигарета с одной стороны ты сжигаешь себя с другой. акулы как символ рака лёгких поджидающий тебя на твоём пути курильщика. срочно в музей этот шедевр! gifx\\n',\n",
       " 'если не бросит - в течении пары лет будет в топе полит ютуба. какой бы тупой пиздой не была ебабельная телка и какую бы дичь она не несла, если она будет работать на свою популярность, хайпить, не забивая хуй - она будет популярна. прямо как мариговори. тоже безмозглая тупая пизда. только у той есть некоторый артистизм и не просто привлекательная внешность, а сексапильное поведение и более острая сексуальная провокация. у этой сучки внешка лучше, а вот с харизмой сильно хуже. надеюсь в будущем таких экспертов начнут щемить за эти самые сексуальные провокации зрителей. иначе они займут огромную часть околополитики.\\n',\n",
       " 'проиграл, когда кто-то из них собрал в конфе сильный состав активистов (хохловский, ткаченко, иоган себастьян) и эталоннейших тп, которые цитировали тп-бинго и приводили факты из передач по рен тв в качестве научных аргументов, понятное дело, что шахматы с курицами кончились тем, что они перевернули фигуры, насрали на доску и довольно захлопали крыльями, но тут кто-то выпустил глав петуха меганыча и он на их курином языке им прокукарекал что-то понятное, что они тут же заткнулись и слились, лол.\\n',\n",
       " 'только дебил пойдет регаться как самозанятый. всем же понятно что эти 4-6 подрастут, когда норм кол-во баранов зарегистрируется. а остальных вычислят при помощи ml. а хули, норм выборка есть, по ней можно обучить ml-модель и запалить остальных далбоебов. не хотите так запалиться? меняйте схемы получения бабла или устраиваетесь на низкооплачиваемую(или высокооплачиваемую тогда и не надо быть самозанятым) халявную работу официально, для того чтоб не вызывать подозрений. кстати, вангую что появятся конторки которые за бабло в месяц будут устривать на халявную работу официально. для прикрытия.\\n',\n",
       " '50к в год это либо он тебе в уши ссыт чтобы ты не завидовал, либо я даже не знаю, в рабстве в каком-то бодишопе? это не средний американец, это лох какой-то. туда даже наши боди шопы перевозят людей на 80к в год и это с учетом визы которая запрещает смену работодателя (т.е. условия там средние а не лучшие, все равно никуда не денешься). ты бы зашел на glassdoor про медианные зарплаты почитал и не позорился со своими выдуманными знакомыми. так и что там со страховками, цифры то хоть смог прочитать? короче методичка у тебя хорошая, но те кто в теме сразу видят какой ты пиздабол.\\n',\n",
       " 'все они немного сволочь! а некоторые даже больше!\\n',\n",
       " 'типичный пикабушник помесь филолога с писателем)\\n',\n",
       " 'прошлые треды можно найти в гугле четверг рыбный день приш л в столовую пустые прилавки\\n',\n",
       " 'каждый сам для себя это решит. как ему умереть и умереть ли вообще. рещая за свою жизнь и смерть ты становишься истинно свободным.\\n',\n",
       " 'не, такая вата непосредственно над головой - не комильфо. даже зашитая досками, всё равно будет немного пылить, и в итоге всё это будет в легких глазах тарелках...\\n',\n",
       " 'да я заебался уже все это ахуенные истории банить.\\n',\n",
       " 'что-то понася совсем понесло. смешно выглядят потуги разных балбесов-драчунов с рингов на имидж брутальности и некой традиционной (?) мужественности. они ведь, как и девицы с шоссе, зарабатывают на хлеб в трусах и физическим трудом, в контакте с телом других мужчин. и за этот контакт они получают деньги.\\n',\n",
       " 'самое забавное что этого дегенерата нельзя оскорблять, иначе сгуха... забавно да? самое мягкое что вертиться на языке это конченный фашистский недоразвитый ублюдочный шлюхин сынок, но сказать это невозможно так как закон это запрещает\\n',\n",
       " 'бляяяяяяяяяяяяяяяяяяяяяяяяяяяяяяяяяяяяяяяяя\\n',\n",
       " 'среди боевиков были и снайперы с ближнего востока.\\n',\n",
       " 'дед карлик гном и сам леваков неплохо сливает но дело в том что это борьба с мельницами, ибо обещание что мы отнимем у богачей и дадим народу всегда будет пользоваться популярностью\\n',\n",
       " 'за крыжопник и двор, аардом в упор.\\n',\n",
       " 'спать пора,первый час,завтра дел много, восемь дней дома не был, кот усиленно вылизывается ,к погуляшкам готовится, если ты мужик- с праздником тебя, а я спать\\n',\n",
       " 'пиздешь подпиндоссной либерасни. благодаря полезным санкциям, россия вырвалась в лидеры в сфере высокотехнологичного производства.\\n',\n",
       " 'крохотный то крохотный, да пикабушник\\n',\n",
       " 'зачем же всех под одну гребёнку, быдлан?\\n',\n",
       " 'защита от химки, яо и противотанковых средств это явно не от народа, дурачка та не включай тут как бы фиделя вспомнить, учитывая врагов, защита лишней не бывает...\\n',\n",
       " 'с тваей мамкай)0) азаза\\n',\n",
       " 'совершенно нет, поскольку тут нет ничего касательно леволиберальной повестки. зачем вы записываете ебанутых истеричек-обиженок в леволибералы?',\n",
       " 'а у тебя писечка поперек, или это только от мамы передаться может?\\n',\n",
       " 'можешь отсыпать пару грузовиков со склада брака? складские площадя освободите)\\n',\n",
       " 'ебанутый что ли. недоношенных что ли. а появятся на улицах они через пару месяцев, им еще ходить научиться надо.\\n',\n",
       " 'паук мухлюет, сквозь стены ходит\\n',\n",
       " 'в этой истории никто не знал, чем кончится, пока не нажрался до такой степени, чтобы такой исход стал вероятен. никто не хочет шлюх ровно до того момента, пока их не захочет, как ни странно. ведь все люди на свете точно знают наперёд исход событий. были бы все алкаши и шлюхоёбы - можно было бы это предугадать, а так и мыслей-то таких не было. стечение обстоятельств. последний этап можно поменять например на посрались и устроили поножовщину - там тоже производители ножей, алкоголя и владельцы саун будут виноваты?) хуйню не неси. это не про перекладывание ответственности, это про роль случайности в судьбе.\\n',\n",
       " 'может ты не в курсе, но в обеих половинках кореи правила одинаковая гебнявая мразь. просто в южной она отвалила от власти в 80-х\\n',\n",
       " 'я такого еще и не видел , каким надо быть дибилом-камикадзе туда залезть да еще в полный рост работать . в беларуси такой хуйни не увидишь\\n',\n",
       " 'я всё прочитал,и даже комментарии,я теперь кулхацкер?\\n',\n",
       " 'цитата... а негодные - могут в тылу работать.\\n',\n",
       " 'и да не ципрофлоксацин а цефалоспорины естественно, замена. два ляпа в одном сообщении.\\n',\n",
       " 'кыс-кыс-кыс или как там надо.и за ушком почесать.\\n',\n",
       " 'не имеет никакого шанса откупиться в наших условиях. а мост может и не окупится, но имеет стратегическое значегие\\n',\n",
       " 'кикбоксера хана батыя руководить калмыкией -бату хасиков, у нас тут регион пустеет, нужно решить проблему с безработицей и трудоустройством. -тебе че, в ебыч прописать? ты мой заместитель или чей? вот и пиздуй работать. - я уже согласовал со всеми отделами план вывода региона из кризиса, нужно чтоб вы посмотрели и поставили подпись. - че это за таблицы? а это что за цифра? пиши понятным языком, а то защеку тебе щяс подпись поставлю.\\n',\n",
       " 'встретил бы я тебя на улице, ох и поплакал бы ты горькими слезами.\\n',\n",
       " 'как же дупы полыхают ололол\\n',\n",
       " 'история конечно жуть, и бабу на кол посадить изо всех сил... но, я дико извиняюсь, кто из животинок таки тимоша ?)\\n',\n",
       " 'чтд, у тебя абсолютное непонимание того, что такое экспозиция.\\n',\n",
       " 'вот фак из вронг виз ю?\\n',\n",
       " 'а как же новость о том что доверие к перзиденту пукину охуенно выросло?\\n',\n",
       " 'хуйню несёшь ты. как ещё можно назвать кромсание человека на части? какие аргументы вообще тут могут быть? тут и так всё ясно.',\n",
       " 'а апелляшку небось без заявления на восстановление сроков подали и давай с судьей устно общаться. было бы заявление на восстановление с доказательствами отсидки в тот период, ни один судья бы апелляшку не отфутболил.\\n',\n",
       " 'а какой уровень у тех кто тренды про хохлов создаёт?\\n',\n",
       " 'пидорахен я салоед, ващет. там, где у критика лихие шутки на все случаи, у блядины - кликушество и хейтерство. у критика только беззубый детский американский юмор. у батикова тоже клоунады хватает, впрочем. пидорашке показали говно и палки через объектив дорогой камеры, и говно с палками тут же стало дорогим реквизитом. нихуя. понятно, что у блохеров реквизит плохенький будет, но у критика в роликах хуета хуже аниме-феста твоего города. пикрелейтед.\\n',\n",
       " 'а что с ним не так? заводы мы вывезли к себе, за счет домбассян получили прирост к росстату, хохлы в жопе, осталось только территорию захватить чтобы выкачивать сланцевый газ. ну можно и не сейчас захватывать, газ от этого не испортится, лет через 10-15-20 напасть под предлогом социальной помощи. еще одно приднестровье, пойдет, главное чтобы не выебывались.\\n',\n",
       " 'когда бренды это одно, но когда первый раз вижу - сниму штаны и телефон, то как то стрем. уже шлюх и то по интернету, с отзывами ищут\\n',\n",
       " 'о сектантов завезли. раскол мудэ произошёл?\\n',\n",
       " 'ну и ? пиздюлей не получал что ли ? у меня мелкий говнистый. пару раз чего-то вякнул не по делу фоксу, тот ему веко повредил. ну и всё, теперь с опаской, постоит подумает предварительно. эрделю тому вообще пофиг все эти разборки, как на идиотов смотрит если кто-то цепляется к нему.\\n',\n",
       " 'блять, чувак, реально, прекращай это пить, это не молоко или ты просто долбоеб. с нормального молока прет так же как с плотного покура, просто дольше, а ты походу хлещешь какую-то поеботу и тебе становится плохо, что аж парализует лол.\\n',\n",
       " 'ух, аш встал на эту чуханку и её жирок.\\n',\n",
       " 'хороший миф. дерматологи не согласятся, но кто слушает этих старых пердунов, когда можно подсадить клиента на дорого шампунь со слабым антигрибковым компонентом.\\n',\n",
       " 'да ну, кем считается то? у нас, швабов, пожестче будет, я (лично) так думаю\\n',\n",
       " 'дамочка хочу с вами пообщаться\\n',\n",
       " 'ну вот и кончились добрые дела с даунятами и собачками, опять пошёл кликбейт: лев против - перепалка с быдлом в парке лев против - охрана храма христа спасителя курит и матерится около детей лев против - пьяный пассажир устроил дебош в самолете.\\n',\n",
       " 'мы так другану одному на др проститутку заказали. тоже магом нестал.\\n',\n",
       " 'ствол хуже, потому что пока ты поднимешь, снимешь с предохранителя итд ты уже труп. с 2 метров боец с ножом успевает нанести удар неготовому противнику, вооружённому пистолетом прежде чем тот начнёт стрелять. большим холодным оружием можно отмахнуться намного быстрее, да и оппонент другую тактику изберёт. время на основании видоса из ютуба,где 2 инструктора по стрельбе и бою на ножах решили проверить, насколько реально от внезапного нападения с пестом отбиться.\\n',\n",
       " 'потому что нищий нацист-это коммунист.у гитлера немцы в очередях не стояли и неграм с арабами не помогали.ну то есть помогали но в меру\\n',\n",
       " 'видать, умел играть. в отличие от.',\n",
       " 'ты хуй, никого не волнует, что ты там имел ввиду. дядя слишком сильно рванул вперед и надорвался. что дальше: самолет, ракета?\\n',\n",
       " '1 8- звиздуляйтнунг!!!! это сколько же детей на стороне этот хряк начпехал ....\\n',\n",
       " 'о, проход в хохлы, лахта бздит. давай проход в пыню - во сколько раз дороже такой же мост построили бы при пыняномике нынешней? даже предположим, что он будет построен так же хорошо. в 10 раз?\\n',\n",
       " 'а в твоем блять не стояли! вы же пердуны старый все высоко духовные интеллектуалы.\\n',\n",
       " 'зачем рыться в своих диалогах и удалять лишнее? поставил пароль и не паришься. в конце концов это личное дело каждого человека и каждой пары. удобно им так, зачем пристал?\\n',\n",
       " 'даже твоей мамаше-шлюхе? или она продолжит до 60 на панели стоять? серьёзно, как твоя мамаша отнеслась к повышению возраста выхода на пенсию?\\n',\n",
       " 'х новостях ни разу - ни разу не было такого, чтобы пиздюки не напиздели с три короба в свою поль ты тупенький? тебе даже видео показали, а ты оправдываешь нападавшего.\\n',\n",
       " 'а не для здоровья нации. здоровье нации это в первую очередь развитая медицина и диагностика заболеваний. не дай бог тебе попасть в пидорашенскую поликлинику с чем-нибудь тяжелее орви - будешь по месяцу ждать очереди на диагностику, а диагноз тебе поставят года через два, если ты не сдохнешь как падаль в канаве.\\n',\n",
       " 'европы и сша это ещё ладно, но ещё больше трудятся во всяких чуркистанах.\\n',\n",
       " 'до крымнаша таких проблем не было, может не столько рыночек виноват, сколько гебешная мразь?\\n',\n",
       " 'выглядит как злая тройка. посередине мелкий, мозг компании. и сбоку два тупых амбала\\n',\n",
       " 'это потому, что мы в ней просрали. если просрали - значит это плохая война и ее мы не хотим повторить . все остальные - хотим, потому и оправдываем. у имперца всё очень просто.',\n",
       " 'поясняю за била. те, кто его смотрит отморозки, или быдло. они просто не могут представить, что могут оказаться в такой ситуации. а для них омежки это скот, но когда затрагивают их чсв совершенно безобидным пранком, когда облили водой раздвиженцев, то быдло и отморозки встают в позу и говорят о нарушение границ. тем, кому припекает омежки, которые из-за низкой самооценки неосознанно представляют себя на месте героев пранка. а потом в своих влажных фантазия избивают этого пранкера или пытают его. а нормальные люди просто это не смотрят. а если и посмотрят то просто скажут, что он дурак. бил же трус и быдло -- доебывается обычно до слабых, что свойственно гопоте. очень удивилась, что у него так много лайков на видосах. ну видимо это те, кто любят хованского, мопса и прочих быдлоютуберов. не удивлюсь, что била смотрят в основном не из приличных городов, а из всяких мухасрансков. вывод, русские терпилы будут терпеть до конца. как лев против или стопхам(который уже окуклился). включу либераста, как видите это типичный руssкий мир, мы готовы превозносить любое быдло в герои, а потом оправдывать его. с билом ниче не случится, я гарантирую это. он явно не тупой и точно знает, где граница дозволенного, то есть мы не увидим его с лгбт-флагом в чечне, например. так что, дорогие руssкие сосите и дальше хуй и терпите. мимо проходила\\n',\n",
       " 'точно. еле до мусорки его допер, тяжеленный\\n',\n",
       " 'трамп, кстати, наименее фашиствующий из них\\n',\n",
       " 'ебать какокое убогое поделие.\\n',\n",
       " 'жертвовать здоровьем ради извращенца, ну нафиг..\\n',\n",
       " 'с сотовой связью тоже самое скоро будет.',\n",
       " 'видимо у вас проблемы со зрением, товарищ сви нья, вам всё конкретно описали, разжевали, положили в рот, и осталось только проглотить, но вам этого не даёт сделать ваш проклятый токсичный леволиберальный толерантный рак пищевода. вам пора записаться на курсы политологио-терапии чтобы в дальнейшем не возникало подобных казусов',\n",
       " 'мне вообще похуй кто этот хохол в оп посте и на ваши хохло-ожидания от него, суть в том что это обычная разговорная речь взятая из обсуждения и обыкновенно опирающаяся на контекст этого самого обсуждения.\\n',\n",
       " 'блять, как ты доебал, мы уж поняли, что ты люто хейтишь нестеренко, настолько, что готов высирать целые простыни, даже не особо разбираясь в вопросе. ну не является для нестерова ютуб основным занятием, как для какого-нибудь хованского. есл бы ты следил за этой аутичной тусовочкой, знал бы что нестеров айтишник на удаленке.\\n',\n",
       " 'ошметки лунного модуля нашла японская обсерватория еще в 90-е. ты тупой? летать то летали, модуль садился, только померли космоновтики. их дублеры заменили по возвращении.\\n',\n",
       " 'можете завтра начинать злорадствовать, летим домой в новосибирск, а там все серое и -7.\\n',\n",
       " 'кто это вообще? возвращайся когда бабченко подохнет или еще какая мразь.\\n',\n",
       " 'по бабе видно, что посрала.\\n',\n",
       " 'вот пусть крымодебилы туда и катятся.\\n',\n",
       " 'под босоножками имелись в виду туфли-босоножки типа таких:\\n',\n",
       " 'ты дурачок что ли? это рутинный нахрюк свинюков ходорских проплаток демшизиков - точнее не могу сказать, сорта говна.\\n',\n",
       " 'двачую. заебала эта хуита. просто кусок дерьма. мало того что требует кучу времени что бы её рагадать т.к картинки грузятся как в 90е, так еще и когда правильно все угадал, она мишет капча невалидна и заставляет снова все разгадывать тратя 3 минуты на рагаздывание. в итоге что бы отправить пост тратиться от 3 до 5 минут. а самое тупое что если поставить в настройках старую дваче капчу, она не работает нихуя. в настройках поставил дваче капчу, а уменя опять эта ебанная гугловская срань появляется. ну сколько можно издеваться над двачерами? уберите эту гугловскую хуйню с двача!!!\\n',\n",
       " 'извините, перешёл на современный слэнг. о ребятах. вас устроит?\\n',\n",
       " 'где-то сжигают книги.. а где-то фотографов. возможно, мы сейчас стоим у истоков целого фестиваля..',\n",
       " 'мужик, ты вообще в адеквате? все хорошо? ведёшь себя как малолетка\\n',\n",
       " 'уважаемый, да вы бредите. заварите ка как на картинке на любом заводе, где есть сварка. такая подойдёт?\\n',\n",
       " 'уж сколько раз твердили миру... запишитесь к психотерапевту с описанием симптомов. ну серьезно, взрослый человек, а ведете себя как маленький. если есть депрессия - вам об этом скажут. но это может быть и накопленная усталость, и фаза апатии, и гормональный сбой. как у вас с фантазией дело обстоит? вот и вообразите, что дальше может быть хуже. вплоть до отказа внутренних органов. супруга ваша куда смотрит?\\n',\n",
       " 'это тоже есть, от сторожа до главврача все кумовья - хохлы ведь в основном\\n',\n",
       " 'а вот и да! меня прям разрывало от желания заминусить ваш комментарий после прочтения первых трёх абзацев, но, поняв вашу мысль, решил написать текст рукой. сам я крымчанин, в крыму живут все мои родственники, но я живу и работаю на материковой части россии достаточно давно. так вот, к чему я это: я искренне радовался аннексии , референдуму и получению гражданства рф крымчан. своя-то хата, оказывается, ближе к краю! хотя украину (как страну, а не как государство)люблю и жалею. если кого обидел прошу прощения.\\n',\n",
       " 'у вас хоть под балконом, у меня балкон полностью засран, полностью эти твари засрали его на неделю!! тупо места чистого нет хз в чем дело я их не подкармливал вовсе\\n',\n",
       " 'четверг рыбный день приш л в столовую пустые прилавки не понял, можно поподробней?\\n',\n",
       " 'это где я написал, что собака не виновата?!? тут как с детьми - как воспитали, такой результат и получили. но за детей кто в первую очередь несёт ответственность? так что в любом случае вначале надо п..здить хозяина, а уж потом думать, что с собакой делать.',\n",
       " 'обивку лучше химчистка, душевую кабину силит бенк, пароочиститель убирает застарелый жир, а с известью хуже справляется.\\n',\n",
       " 'не надо всю, галицию нахуй надо слать, пусть пшеки забирают даром.\\n',\n",
       " 'любишь с пьянью и гопниками в одном вагоне ездить?\\n',\n",
       " 'квинтэссенция человеконенавистничества в этих словах ротшильда. и после этого ещё некоторые не верят, что капитал есть источник фашизма. тупые люди не смогут стать богатыми, а умные смогут. ага, поэтому давайте сильно затрудним доступ к образованию, а то образование, что есть и без которого не обойтись, сделаем максимально узкоспециализированным, что бы человек сразу превращался в тупого, сделав лишь шаг в сторону от своей специализации. тогда можно будет бесконечно долго жить припеваючи, присваивая результаты труда этих людей. тупые всегда в итоге будут работать на умных. это скользкая дорожка: тупые не смогут поддерживать общественное производство, а умные могут начать соображать, что к чему. поэтому в итоге подобная система развалится, в один прекрасный день, как песочный замок. но водить за нос трудовой народ они могут еще долго.\\n',\n",
       " '- вовочка, не суй пальцы в розетку. - так они туда не влазят... - а ты гвоздики возьми, придурок!\\n',\n",
       " 'стоп стоп стоп!!!! это получается все 5 лет войны российский агрессор агрессивно продавал газ для финансирования агрессорских войск для агрессии на дабмасе и платил свои агрессорские деньги???? торговля с агрессором во время войны??? это другое????\\n',\n",
       " 'да жидяра это, что тут думать\\n',\n",
       " 'если вы загляните хотя бы в вики, то найдете подобное и на хохла и на москаля. исторически прозвища и самоназвание было у всех народов. прискорбно что сейчас многие из них используются для оскорбления. чухонцы так же было уничижительным словом, применительно в определенном контексте. а пушкина как пример я привел для пояснения, что некоторые прозвища сложились исторически.\\n',\n",
       " 'я не тупо сидел в ординатуре. сначала пишешь, потом ведешь больных, участвуешь в операциях, начнёшь что-то делать. если ты ждешь что тебе все на блюдечке - не иди\\n',\n",
       " 'надо как мститель в маске, переебал по башке и тихо свалил в закат не дожидаясь лавр победителя\\n',\n",
       " 'не понаехами, а просто политическим влиянием пидорахии. как хохлы, грубо говоря.\\n',\n",
       " 'ахах, чувак. скажи, что пошутил неудачно, иначе это пиздец.\\n',\n",
       " 'dlc что делает эта длси?\\n',\n",
       " 'да и, собственно, пусть следуют - генофонд этого вида только чище станет ;d\\n',\n",
       " 'такие придурки гробят свои авто только из-за того что пьяны или без документов.\\n',\n",
       " ', оскорбление пользователя пикабу.\\n',\n",
       " 'она уже там лет 15!!!!!!\\n',\n",
       " 'осталось прифотошопить член вместо пизанской башни\\n',\n",
       " 'я не конкретно про этот случай. чаще на дороге встречаются неадекватные мотоциклисты, нежели нормальные.\\n',\n",
       " 'кукареку пащенко украинская фамилия. известные носители:\\n',\n",
       " 'блт за гребаный проездной в тюрьму????? женщину????? пздц...... что ,условного срока нет что ли? я херею с нашего правосудия...\\n',\n",
       " 'хохловский самый последовательный из всех них. у всех остальных так или иначе присутствуют чёрные пятна и двойные стандарты в идеологии из-за чего и происходит перманентный срач.\\n',\n",
       " 'вам за защиту чукчи по усиленному тарифу платят, раз вы так усердно и активно за него копротивляетесь?\\n',\n",
       " 'истинно так. но мрии жидов вертят шариком несколько тысяч лет. мрии хохлов же больше напоминают бредни душевнобольных. тут я более доверяю иудеям. они вызывают больше доверия, более ответственны и потенциальны. мой выбор - жиды.',\n",
       " 'у нас ключ можно щаказать в любой шарашке, у чурок,которые ключи для замков делают.\\n',\n",
       " 'но отличить когда она говорит дело, а когда бред шизофреника можно только обладая минимальным пониманием темы обсуждения\\n',\n",
       " 'ага, чуть в турцию вас не отправил. забыл, что ты кофий не любишь! да у нас тут погода меняется по семь раз за неделю. вчера было 36, а сегодня снегопад с дождём и гроза. прикольно, блин\\n',\n",
       " '4, кастрированный, любит играть и носиться. и ещё гулять выходим, я покурить выхожу он со мной, побегает, по березам полазит и домой. и зимой на батарее любит валяться (батарея кожухом закрыта), дурачок бывает перележит перегреется сползает и на линолиуме остывает.\\n',\n",
       " 'ты отставил религию это твое дело. но зачем писать посты и осквернять религию. ты говоришь о любви к родным но ты их предал и предал ты их тем что оскверняешь то что им дорого. задай свой любой вопрос об исламе с научной точки зрения и я тебе отвечу с религиозной точки зрения.',\n",
       " 'раз уж среди нас серьёзный аналитик, задам давно мучающий вопрос - скока будет трижды семь?',\n",
       " 'девятый тоже зашёл. почитаю хроники дибила. автора не подскажете?\\n',\n",
       " 'и хули?эмотивист ты ссаный?маргинал тоже говорил, что ему взрослого больше жалко чем зиготу,но это сраные эмоции.этика рационализирует мораль и уберает противоречия,хуй ты мутный\\n',\n",
       " 'короче если вы не сомостоятельный то лаунчем проще чекать плюс он не только том мерс\\n',\n",
       " 'да уж, чел не шизофренией заболел, а просто осознал реальность..)\\n',\n",
       " 'выкинули всяких помойных хмырей, это же на пользу цивилизации. ты посмотри кто со стороны палестины лезет, они же там с детства шахиды-террористы.\\n',\n",
       " 'ты ж не знаешь, сколько у этого коли денег.\\n',\n",
       " 'о! любимые хохляцкие чехо-мантры! давай весь арсенал в тред вываливай! ндс, чм-наташа, гооооол, ндс, пенсии, доходы в мухосранской области упали. я ничего не забыл?\\n',\n",
       " 'нз-менты: здравствуйте, админ пиндосского форума. у вас на форуме брендон писал всякое про шутинг, мы бы хотели всё это скачать себе на флэшку. расскажите, как и что для этого нужно. имейте ввиду, что это письмо под нашим законом номер 50, короч низя его никому показывать и вообще кококо. админ: вы че, охуели пидоры, нихуя я вам не дам. я вообще у себя тут сам это все постил, видосы там, и всякое. ебнулись там совсем со своей цензурой. нахуй двигайте. меня зовут джошуа, мой адрес - пиндосия, такая-то улица такой-то дом, пишите письма мелким почерком. и в очко себе суньте свой закон номер 50. нахуй и вас и вашу говнострану. нз-менты: спасибо за быстрый ответ. мы подумаем.\\n',\n",
       " 'возраст подняли нам... а ноешь ты.. ну а вам еще поднимут,но вы не доживете..\\n',\n",
       " 'о, типичная яжемать что ли? заказывай еду на дом, нанимай няню, думай. дорого? твои проблемы. решение рожать было твоим. а вот подумать о неудобствах, которые ты создаешь своей коляской в магазинах, где и без того узкие проходы, у яжематери наверное вообще в голову не приходит? интересно откуда такое мировоззрение берется у некоторых что им все должны?',\n",
       " 'у барашка есть подруга-кошка) одна из ранних моих вышивок этой серии духов)\\n',\n",
       " 'покажи мне правила что нельзя танцевать на твоей машине? мочиться на твою дверь? ук рф статья 167. умышленные уничтожение или повреждение имущества показывать твоему ребенку член? ук рф статья 135. развратные действия совершение развратных действий без применения насилия лицом, достигшим восемнадцатилетнего возраста, в отношении лица, не достигшего шестнадцатилетнего возраста,. слушай я понимаю что тебе очень хочется мне доказать что танцевать лезгинку на территории мемориала незаконно,но твои познания в юриспруденции настолько ничтожны что я бы тебе посоветовал идти с богом и не смешить людей\\n',\n",
       " 'но отбитый тут ты. ну нафантазировал, ошибся, обострение у меня весеннее, но нахуя ты мне отвечаешь то тогда? чтобы убедить себя в том, что я не прав? да, пожалуйста, я не сопротивляюсь, ты прав во все.\\n',\n",
       " 'а хохлов не напугал рост цен. в этом вся разница.\\n',\n",
       " 'вот это правильно, ящитаю. давно уже пора вести себя охуевше и нагло, как ебучая либерастня со швитыми. нагло пиздеть и переебывать.\\n',\n",
       " 'чувак, ты подписал договор с суммой 68 тыс.? ты уже оплатил? если оба ответа да - смирись, ты лох, без обид.\\n',\n",
       " 'зеркало наизнанку выверни...поставит еще раз - оторви.\\n',\n",
       " 'пчелы любят нектар, мухи любят говно - значит оба утверждают, что было хорошо и спора никакого нету. автор этого мема идиот.',\n",
       " 'а аргентина не дно разве как и остальная латинопиндосская параша? там в отличие от расейской параши хотя бы климат норм. ну а вообще, с её деньгами, в любой дыре жизнь будет раем казаться.\\n',\n",
       " 'два дебила... второму просто не фортануло...\\n',\n",
       " 'пошло ты нахуе моральнопетушиное, клуб мамкиных защитников находится на два блока ниже\\n',\n",
       " 'говорила ей бабушка - ешь не торопясь, подавишься...\\n',\n",
       " 'из-за яек подбитых сошел?\\n',\n",
       " 'а что она сделала? просто стоять рядом - за это в рашке не сажают. пока.\\n',\n",
       " 'охренеть.. ты так коньки отбросишь,дуй в магазин за продуктами,ешь шоколад,кофе,орехи.. короче набирайся сил, и дуй к психотерапевту.. и вообще выходи из дома чаще,хотя бы на те же собеседования,и хуй с ними что откажут,вода камень точит,в результате найдешь работу,короче действуй а не рассуждай,не болей вобщем.. тебе есть ради кого жить,а умереть мы всегда успеем..\\n',\n",
       " 'что за дебилная превычка сразу делать свои ебанутые выводы. почему бы сразу не спросить у ребенка типо почему полусладкое, ребенок бы вполне понятно ситуацию обьяснил.\\n',\n",
       " 'и хули?эмотивист ты ссаный?маргинал тоже говорил, что ему взрослого больше жалко чем зиготу,но это сраные эмоции.этика рационализирует мораль и уберает противоречия,хуй ты мутный',\n",
       " 'запретить покидать свои регионы, где родился там и пригодился лол. ты догадываешься, что у тебя спецы массово попрут не в другие регионы, а вообще нахуй из страны? только и останется, что зарубежных спецов привлекать. твой prism массово отсосёт у i2p, будешь хранить эксабайты бессмысленных байтов.',\n",
       " 'щас бы вот еще в донецки всякие отдыхать ездить. нет, спасибо.\\n',\n",
       " 'плюс питнадцать лахтадырка в долбильню!!!!!!\\n',\n",
       " 'когда чмо начинает кукарекать про отсутствие прогресса - он тупо занимается софистикой ради софистики. здесь же он по сути зачитал верту лекцию о том что такое интерсекциональность\\n',\n",
       " 'добрых дел мастер с похмелья злой\\n',\n",
       " 'а, вот, нагуглилось - видосик сверху ну да, выходит, что загорелось и подъезды разъебало, но здание целиком не разрушилось',\n",
       " 'ля чоурт, брикнувсь на почве передоза валаксом. каво\\n',\n",
       " 'прекрасно. только кроме этих 2 долбоклюев пострадают и нормальные люди.\\n',\n",
       " 'хуесос и пидорас. подмазывается к каким-то интеллктуалам, хотя сам по сути ничего не сделал, только языком пиздит.\\n',\n",
       " 'супер клей и сода хрен оторвешь\\n',\n",
       " 'это скорее хаиль фюрер\\n',\n",
       " 'глубоко пофигу? тем не менее ты вывалил историю на всеобщее обозрение. для чего? для одобрения какой ты крутой нескандалящий? или ищешь одобрения в убеждении что вокруг все педорасы?\\n',\n",
       " 'а ну-ка расскажи мне, как зевсова вера пифагора задушила? в наши дни, спору нет, бритва оккама позволила отсечь религию от социальной этики, как необязательное для существования этики понятие, но давайте вспомним, что именно религия служила связью народов во времена феодальной раздробленности, то есть сама по себе религия - это и есть основа этики, да и уильям оккамский, на секундочку - дитя религии.\\n',\n",
       " 'а теперь покажите семью которая приняла хохла беженца бегущего от зверства путина на драмнбасе.\\n',\n",
       " 'лабковский по ним плачет\\n',\n",
       " 'безвиз не позволяет жить и работать в ес, хохлы там нахуй никому не нужны, без виз только для туристических целей.\\n',\n",
       " 'может я дибил, но когда тебе говорят иди в жопу, то может не стоит с таким встречаться? p.s. а вот худеть надо. я про то. что если ты дорожишь кем-то, то зачем подобное говорить, есть куда больше слов, чтобы высказать свое нет. а девушки ещё больше почему-то это любят ) я хз )\\n',\n",
       " 'вот и нажрали себе сд 2 типа.\\n',\n",
       " 'нy вот они и спойокно сидели пока их не начали электрошоком пытать ради повышения. ты бyдто не при капитализме живешь.',\n",
       " 'откуда у вас мобила трупа (и не вы ли это), который пытался взорвать белый дом при помощи мешка гексагена, предварительно послав нахуй архиерея в храме христа спасителя, а после самоубился семью ударами топора в спину. на этом моменте возрыдал от смеха, спасибо чувак! и за советы огромное спасибо, ты нереально крут!\\n',\n",
       " 'будто я смотрю что то не на торренте.....\\n',\n",
       " 'ну и дебил, теперь на него дело заведут и еще деньгами ущерб возмещать будет\\n',\n",
       " 'уточнил просто. людей меньше 25 лвл считаю пробником человека. но самоутверждением здесь не пахнет.',\n",
       " 'моча сюда не заходит и как привлекать их внимание? флешмоб организовать что-ли? если будешь надоедать моче борьбой с поехавшим, то сам будешь не сильно отличаться от поехавшего. спейсачерам просто пора научиться игнорировать этого идиота и просто бампать другие треды, вместо того чтобы отвечать шизику. всё равно никто не хочет с ним говорить, но у него реально в голове иллюзия создается, что он какой-то интересный человек, хотя по сути ему на лицо ссут, а он думает что с ним нормально общаются. я думаю с ним в жизни никто не общается и даже когда ему на лицо ссут, банят, посылают нахуй, он думает что это общение и радуется как ребенок.\\n']"
      ]
     },
     "execution_count": 63,
     "metadata": {},
     "output_type": "execute_result"
    }
   ],
   "source": [
    "list(false_negatives)"
   ]
  }
 ],
 "metadata": {
  "kernelspec": {
   "display_name": "Python 3",
   "language": "python",
   "name": "python3"
  },
  "language_info": {
   "codemirror_mode": {
    "name": "ipython",
    "version": 3
   },
   "file_extension": ".py",
   "mimetype": "text/x-python",
   "name": "python",
   "nbconvert_exporter": "python",
   "pygments_lexer": "ipython3",
   "version": "3.8.5"
  }
 },
 "nbformat": 4,
 "nbformat_minor": 4
}
