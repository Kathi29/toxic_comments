{
 "cells": [
  {
   "cell_type": "code",
   "execution_count": 1,
   "metadata": {},
   "outputs": [],
   "source": [
    "#Dataset: https://www.kaggle.com/datasets/aybatov/toxic-russian-comments-from-pikabu-and-2ch\n",
    "\n",
    "import pandas as pd\n",
    "pd.set_option(\"display.max_colwidth\", None)\n",
    "toxic_comments = pd.read_csv(\"russian_comments_from_2ch_pikabu.csv\")\n",
    "\n",
    "import warnings\n",
    "warnings.simplefilter(action='ignore', category=FutureWarning)"
   ]
  },
  {
   "cell_type": "code",
   "execution_count": 2,
   "metadata": {},
   "outputs": [
    {
     "name": "stderr",
     "output_type": "stream",
     "text": [
      "[nltk_data] Downloading package stopwords to\n",
      "[nltk_data]     /Users/ekaterinakastaleva/nltk_data...\n",
      "[nltk_data]   Package stopwords is already up-to-date!\n"
     ]
    }
   ],
   "source": [
    "import numpy as np\n",
    "import re\n",
    "import nltk\n",
    "nltk.download(\"stopwords\")\n",
    "from nltk.corpus import stopwords\n",
    "from pymystem3 import Mystem\n",
    "from string import punctuation"
   ]
  },
  {
   "cell_type": "code",
   "execution_count": 3,
   "metadata": {},
   "outputs": [],
   "source": [
    "toxic_values = toxic_comments.values"
   ]
  },
  {
   "cell_type": "code",
   "execution_count": 5,
   "metadata": {},
   "outputs": [
    {
     "data": {
      "text/plain": [
       "comment                                           Вблизи Львова во вторник, 19 марта, стадо кабанов на автодороге международного значения повлекло ДТП, в результате которого получила технические повреждения легковушка, а два кабана погибли на месте происшествия. Об этом в среду, 20 марта, сообщил депутат Львовского горсовета Игорь Зинкевич в Facebook. Как уточнил координатор ОО Варта-1, которая сотрудничает с правоохранительными органами, дорожно-транспортное происшествие произошло на международной трассе Киев - Чоп, в селе Деревач Пустомытовского района. В 23:30 в селе Деревач стадо кабанов перебегало дорогу, и одно авто влетело в это стадо. В результате ДТП у Renault Duster разбита передняя часть автомобиля, два кабана погибли. Полиция на месте происшествия оформила ДТП , - информировал Зинкевич. Накануне на автодороге Чернигов - Киев произошло дорожно-транспортное происшествие с участием трех автомобилей и лося. Напомним, в течение 2018 года в Украине произошло 550 ДТП с участием животных.\\n\n",
       "toxic                                                                                                                                                                                                                                                                                                                                                                                                                                                                                                                                                                                                                                                                                                                                                                                                                                                                                                                                                                                                                                         1.0\n",
       "translated     Near Lviv on Tuesday, March 19, a herd of wild boars on an international highway caused an accident, which resulted in technical damage to a passenger car, and two wild boars died at the scene. On Wednesday, March 20, said the deputy of the Lviv City Council Igor Zinkevich on Facebook. As the coordinator of the public organization Warta-1, which cooperates with law enforcement authorities, specified, a traffic accident occurred on the international route Kiev - Chop, in the village of Derevach, Pustomitovsky district. At 23:30 in the village of Derevach, a herd of boars ran across the road, and one car flew into this herd. As a result of an accident, the Renault Duster crashed the front of the car, two boars were killed. The police at the scene of the accident issued an accident, ”Zinkevich informed. On the eve of the Chernihiv-Kiev highway, a traffic accident occurred involving three cars and an elk. Recall that during 2018 in Ukraine there were 550 accidents involving animals. \n",
       "Name: 5788, dtype: object"
      ]
     },
     "execution_count": 5,
     "metadata": {},
     "output_type": "execute_result"
    }
   ],
   "source": [
    "toxic_comments.loc[5788]"
   ]
  },
  {
   "cell_type": "code",
   "execution_count": 6,
   "metadata": {},
   "outputs": [
    {
     "data": {
      "text/html": [
       "<div>\n",
       "<style scoped>\n",
       "    .dataframe tbody tr th:only-of-type {\n",
       "        vertical-align: middle;\n",
       "    }\n",
       "\n",
       "    .dataframe tbody tr th {\n",
       "        vertical-align: top;\n",
       "    }\n",
       "\n",
       "    .dataframe thead th {\n",
       "        text-align: right;\n",
       "    }\n",
       "</style>\n",
       "<table border=\"1\" class=\"dataframe\">\n",
       "  <thead>\n",
       "    <tr style=\"text-align: right;\">\n",
       "      <th></th>\n",
       "      <th>comment</th>\n",
       "      <th>toxic</th>\n",
       "      <th>translated</th>\n",
       "    </tr>\n",
       "  </thead>\n",
       "  <tbody>\n",
       "    <tr>\n",
       "      <th>0</th>\n",
       "      <td>Верблюдов-то за что? Дебилы, бл...\\n</td>\n",
       "      <td>1.0</td>\n",
       "      <td>Camels, for what? Morons, bl ...</td>\n",
       "    </tr>\n",
       "    <tr>\n",
       "      <th>1</th>\n",
       "      <td>Хохлы, это отдушина затюканого россиянина, мол, вон, а у хохлов еще хуже. Если бы хохлов не было, кисель их бы придумал.\\n</td>\n",
       "      <td>1.0</td>\n",
       "      <td>Ukrainians, this is an outlet vent zatyukanogo Russians, they say, out, and Ukrainians worse. If there were no Ukrainians, jelly would have invented them.</td>\n",
       "    </tr>\n",
       "    <tr>\n",
       "      <th>2</th>\n",
       "      <td>Собаке - собачья смерть\\n</td>\n",
       "      <td>1.0</td>\n",
       "      <td>Dog - Dog Death</td>\n",
       "    </tr>\n",
       "    <tr>\n",
       "      <th>3</th>\n",
       "      <td>Страницу обнови, дебил. Это тоже не оскорбление, а доказанный факт - не-дебил про себя во множественном числе писать не будет. Или мы в тебя верим - это ты и твои воображаемые друзья?\\n</td>\n",
       "      <td>1.0</td>\n",
       "      <td>Refresh the page, moron. This is also not an insult, but a proven fact - I will not write a non-moron to myself in the plural. Or do we believe in you - are you and your imaginary friends?</td>\n",
       "    </tr>\n",
       "    <tr>\n",
       "      <th>4</th>\n",
       "      <td>тебя не убедил 6-страничный пдф в том, что Скрипалей отравила Россия? Анализировать и думать пытаешься? Ватник что ли?)\\n</td>\n",
       "      <td>1.0</td>\n",
       "      <td>did not convince you of the 6-page pdf that Skripale was poisoned by Russia? Are you trying to analyze and think? Padded jacket or what?)</td>\n",
       "    </tr>\n",
       "    <tr>\n",
       "      <th>...</th>\n",
       "      <td>...</td>\n",
       "      <td>...</td>\n",
       "      <td>...</td>\n",
       "    </tr>\n",
       "    <tr>\n",
       "      <th>14407</th>\n",
       "      <td>Вонючий совковый скот прибежал и ноет. А вот и сторонник демократии и свободы слова закукарекал.\\n</td>\n",
       "      <td>1.0</td>\n",
       "      <td>Smelly soviet cattle came running and aching. And here the supporter of democracy and freedom of speech crowed.</td>\n",
       "    </tr>\n",
       "    <tr>\n",
       "      <th>14408</th>\n",
       "      <td>А кого любить? Гоблина тупорылого что-ли? Или какую-нибудь продажную суку из демшизы? Нет уж, спасибо не надо.\\n</td>\n",
       "      <td>1.0</td>\n",
       "      <td>And whom to love? Goblin blunt or what? Or some corrupt demshiz bitch? No, thanks, no.</td>\n",
       "    </tr>\n",
       "    <tr>\n",
       "      <th>14409</th>\n",
       "      <td>Посмотрел Утомленных солнцем 2. И оказалось, что это хороший фильм, такая высокобюджетная артхаусятина, к которой могут быть претензии только потому, что спиздили-распилили и вообще ТАК НЕ БЫВАЕТ. Ну нахуй этих критиков. Обзоры длиннее фильмов, петросянство хуже рашкокомедий, ебанутая ненависть и доебки по мелочам.\\n</td>\n",
       "      <td>0.0</td>\n",
       "      <td>I watched Burnt by the Sun 2. And it turned out that this is a good film, such a high-budget arthouse, to which there can be a complaint only because it was spit-sawed and in general SO DO NOT HAPPEN. Well fuck these critics. Reviews are longer than films, Petrosianism is worse than rash comedies, fucked hatred and trivialities.</td>\n",
       "    </tr>\n",
       "    <tr>\n",
       "      <th>14410</th>\n",
       "      <td>КРЫМОТРЕД НАРУШАЕТ ПРАВИЛА РАЗДЕЛА Т.К В НЕМ НЕТ ОБСУЖДЕНИЯ ПОЛИТИКИ. СВОБОДНОЕ ОБЩЕНИЕ ЭТО В b. ЭТО ТОЖЕ САМОЕ ЕСЛИ Я НА ДОСКЕ О ПОЛИТИКЕ СОЗДАМ ТРЕД О ТОМ КАК ПЛОХО БЕЗ ТЯНОЧКИ. ТАК ЧТО УЕБЫВАЙТЕ В Б ИЛИ НВР СО СВОИМ ЧАТИКОМ ПРЕСТАРЕЛЫХ ГОМОСЕКОВ!\\n</td>\n",
       "      <td>1.0</td>\n",
       "      <td>CRIMEA THREAD VIOLATES THE RULES OF SECTION. TK THERE IS NO POLICY DISCUSSION IN IT. FREE COMMUNICATION THIS IN b. THIS IS ALSO THE MOST IF I AM ON THE POLICY BOARD CREATING THREADS ABOUT BAD WITHOUT A TANCH. SO VISIT TO B or NVR WITH YOUR CHATIK OF THE ELDER GOMOSEKS!</td>\n",
       "    </tr>\n",
       "    <tr>\n",
       "      <th>14411</th>\n",
       "      <td>До сих пор пересматриваю его видео. Орамбо кстати на своем канале пилит похожий контент, но качеством похуже, там же и Шуран не редко светится, храню хрупкую надежду что когда-то он вернется, такая годнота ведь.\\n</td>\n",
       "      <td>0.0</td>\n",
       "      <td>Still reviewing his video. Orambo, by the way, is sawing similar content on its channel, but its quality is worse, Shuran also shines not infrequently in the same place, I keep the fragile hope that he will return someday, such a good thing after all.</td>\n",
       "    </tr>\n",
       "  </tbody>\n",
       "</table>\n",
       "<p>14412 rows × 3 columns</p>\n",
       "</div>"
      ],
      "text/plain": [
       "                                                                                                                                                                                                                                                                                                                              comment  \\\n",
       "0                                                                                                                                                                                                                                                                                                Верблюдов-то за что? Дебилы, бл...\\n   \n",
       "1                                                                                                                                                                                                          Хохлы, это отдушина затюканого россиянина, мол, вон, а у хохлов еще хуже. Если бы хохлов не было, кисель их бы придумал.\\n   \n",
       "2                                                                                                                                                                                                                                                                                                           Собаке - собачья смерть\\n   \n",
       "3                                                                                                                                           Страницу обнови, дебил. Это тоже не оскорбление, а доказанный факт - не-дебил про себя во множественном числе писать не будет. Или мы в тебя верим - это ты и твои воображаемые друзья?\\n   \n",
       "4                                                                                                                                                                                                           тебя не убедил 6-страничный пдф в том, что Скрипалей отравила Россия? Анализировать и думать пытаешься? Ватник что ли?)\\n   \n",
       "...                                                                                                                                                                                                                                                                                                                               ...   \n",
       "14407                                                                                                                                                                                                                              Вонючий совковый скот прибежал и ноет. А вот и сторонник демократии и свободы слова закукарекал.\\n   \n",
       "14408                                                                                                                                                                                                                А кого любить? Гоблина тупорылого что-ли? Или какую-нибудь продажную суку из демшизы? Нет уж, спасибо не надо.\\n   \n",
       "14409  Посмотрел Утомленных солнцем 2. И оказалось, что это хороший фильм, такая высокобюджетная артхаусятина, к которой могут быть претензии только потому, что спиздили-распилили и вообще ТАК НЕ БЫВАЕТ. Ну нахуй этих критиков. Обзоры длиннее фильмов, петросянство хуже рашкокомедий, ебанутая ненависть и доебки по мелочам.\\n   \n",
       "14410                                                                     КРЫМОТРЕД НАРУШАЕТ ПРАВИЛА РАЗДЕЛА Т.К В НЕМ НЕТ ОБСУЖДЕНИЯ ПОЛИТИКИ. СВОБОДНОЕ ОБЩЕНИЕ ЭТО В b. ЭТО ТОЖЕ САМОЕ ЕСЛИ Я НА ДОСКЕ О ПОЛИТИКЕ СОЗДАМ ТРЕД О ТОМ КАК ПЛОХО БЕЗ ТЯНОЧКИ. ТАК ЧТО УЕБЫВАЙТЕ В Б ИЛИ НВР СО СВОИМ ЧАТИКОМ ПРЕСТАРЕЛЫХ ГОМОСЕКОВ!\\n   \n",
       "14411                                                                                                           До сих пор пересматриваю его видео. Орамбо кстати на своем канале пилит похожий контент, но качеством похуже, там же и Шуран не редко светится, храню хрупкую надежду что когда-то он вернется, такая годнота ведь.\\n   \n",
       "\n",
       "       toxic  \\\n",
       "0        1.0   \n",
       "1        1.0   \n",
       "2        1.0   \n",
       "3        1.0   \n",
       "4        1.0   \n",
       "...      ...   \n",
       "14407    1.0   \n",
       "14408    1.0   \n",
       "14409    0.0   \n",
       "14410    1.0   \n",
       "14411    0.0   \n",
       "\n",
       "                                                                                                                                                                                                                                                                                                                                         translated  \n",
       "0                                                                                                                                                                                                                                                                                                                 Camels, for what? Morons, bl ...   \n",
       "1                                                                                                                                                                                       Ukrainians, this is an outlet vent zatyukanogo Russians, they say, out, and Ukrainians worse. If there were no Ukrainians, jelly would have invented them.   \n",
       "2                                                                                                                                                                                                                                                                                                                                  Dog - Dog Death   \n",
       "3                                                                                                                                                     Refresh the page, moron. This is also not an insult, but a proven fact - I will not write a non-moron to myself in the plural. Or do we believe in you - are you and your imaginary friends?   \n",
       "4                                                                                                                                                                                                        did not convince you of the 6-page pdf that Skripale was poisoned by Russia? Are you trying to analyze and think? Padded jacket or what?)   \n",
       "...                                                                                                                                                                                                                                                                                                                                             ...  \n",
       "14407                                                                                                                                                                                                                              Smelly soviet cattle came running and aching. And here the supporter of democracy and freedom of speech crowed.   \n",
       "14408                                                                                                                                                                                                                                                       And whom to love? Goblin blunt or what? Or some corrupt demshiz bitch? No, thanks, no.   \n",
       "14409   I watched Burnt by the Sun 2. And it turned out that this is a good film, such a high-budget arthouse, to which there can be a complaint only because it was spit-sawed and in general SO DO NOT HAPPEN. Well fuck these critics. Reviews are longer than films, Petrosianism is worse than rash comedies, fucked hatred and trivialities.   \n",
       "14410                                                                CRIMEA THREAD VIOLATES THE RULES OF SECTION. TK THERE IS NO POLICY DISCUSSION IN IT. FREE COMMUNICATION THIS IN b. THIS IS ALSO THE MOST IF I AM ON THE POLICY BOARD CREATING THREADS ABOUT BAD WITHOUT A TANCH. SO VISIT TO B or NVR WITH YOUR CHATIK OF THE ELDER GOMOSEKS!   \n",
       "14411                                                                                  Still reviewing his video. Orambo, by the way, is sawing similar content on its channel, but its quality is worse, Shuran also shines not infrequently in the same place, I keep the fragile hope that he will return someday, such a good thing after all.   \n",
       "\n",
       "[14412 rows x 3 columns]"
      ]
     },
     "execution_count": 6,
     "metadata": {},
     "output_type": "execute_result"
    }
   ],
   "source": [
    "toxic_comments"
   ]
  },
  {
   "cell_type": "code",
   "execution_count": 7,
   "metadata": {},
   "outputs": [],
   "source": [
    "toxic_comments.columns=[ \"comment\", \"toxic\",\"translated\"]"
   ]
  },
  {
   "cell_type": "code",
   "execution_count": 8,
   "metadata": {},
   "outputs": [
    {
     "data": {
      "text/plain": [
       "Index(['comment', 'toxic'], dtype='object')"
      ]
     },
     "execution_count": 8,
     "metadata": {},
     "output_type": "execute_result"
    }
   ],
   "source": [
    "toxic_comments=toxic_comments[[\"comment\",\"toxic\"]]\n",
    "toxic_comments.columns"
   ]
  },
  {
   "cell_type": "code",
   "execution_count": 9,
   "metadata": {},
   "outputs": [
    {
     "name": "stdout",
     "output_type": "stream",
     "text": [
      "4826\n",
      "9586\n",
      "9600\n"
     ]
    }
   ],
   "source": [
    "only_toxic_comments = toxic_comments[toxic_comments[\"toxic\"]==1.0]\n",
    "print(len(only_toxic_comments))\n",
    "normal_comments = toxic_comments[toxic_comments[\"toxic\"]==0.0]\n",
    "print(len(normal_comments))\n",
    "normal_comments = normal_comments.iloc[:int(4800)]\n",
    "only_toxic_comments = only_toxic_comments.iloc[:int(4800)]\n",
    "toxic_dataset = pd.concat([only_toxic_comments, normal_comments])\n",
    "print(len(toxic_dataset))"
   ]
  },
  {
   "cell_type": "code",
   "execution_count": 10,
   "metadata": {},
   "outputs": [
    {
     "name": "stdout",
     "output_type": "stream",
     "text": [
      "0       1.0\n",
      "1       1.0\n",
      "2       1.0\n",
      "3       1.0\n",
      "4       1.0\n",
      "       ... \n",
      "8065    0.0\n",
      "8066    0.0\n",
      "8067    0.0\n",
      "8068    0.0\n",
      "8069    0.0\n",
      "Name: toxic, Length: 9600, dtype: float64\n",
      "9600\n"
     ]
    }
   ],
   "source": [
    "y = toxic_dataset.toxic\n",
    "print(y)\n",
    "print(len(y))"
   ]
  },
  {
   "cell_type": "code",
   "execution_count": 11,
   "metadata": {},
   "outputs": [],
   "source": [
    "toxic_dataset=toxic_dataset.comment"
   ]
  },
  {
   "cell_type": "code",
   "execution_count": 12,
   "metadata": {},
   "outputs": [],
   "source": [
    "toxic_dataset = toxic_dataset.str.lower()"
   ]
  },
  {
   "cell_type": "code",
   "execution_count": 14,
   "metadata": {},
   "outputs": [],
   "source": [
    "def remove_links(column):\n",
    "    return re.sub('((www.[^s]+)|(https?://[^s]+))', ' ',column)"
   ]
  },
  {
   "cell_type": "code",
   "execution_count": 15,
   "metadata": {},
   "outputs": [],
   "source": [
    "toxic_dataset = toxic_dataset.apply(lambda column: remove_links(column))\n",
    "toxic_copy = toxic_dataset.copy()"
   ]
  },
  {
   "cell_type": "code",
   "execution_count": 16,
   "metadata": {},
   "outputs": [],
   "source": [
    "russian_stopwords = stopwords.words(\"russian\")"
   ]
  },
  {
   "cell_type": "code",
   "execution_count": 17,
   "metadata": {},
   "outputs": [
    {
     "name": "stdout",
     "output_type": "stream",
     "text": [
      "['и', 'в', 'во', 'не', 'что', 'он', 'на', 'я', 'с', 'со', 'как', 'а', 'то', 'все', 'она', 'так', 'его', 'но', 'да', 'ты', 'к', 'у', 'же', 'вы', 'за', 'бы', 'по', 'только', 'ее', 'мне', 'было', 'вот', 'от', 'меня', 'еще', 'нет', 'о', 'из', 'ему', 'теперь', 'когда', 'даже', 'ну', 'вдруг', 'ли', 'если', 'уже', 'или', 'ни', 'быть', 'был', 'него', 'до', 'вас', 'нибудь', 'опять', 'уж', 'вам', 'ведь', 'там', 'потом', 'себя', 'ничего', 'ей', 'может', 'они', 'тут', 'где', 'есть', 'надо', 'ней', 'для', 'мы', 'тебя', 'их', 'чем', 'была', 'сам', 'чтоб', 'без', 'будто', 'чего', 'раз', 'тоже', 'себе', 'под', 'будет', 'ж', 'тогда', 'кто', 'этот', 'того', 'потому', 'этого', 'какой', 'совсем', 'ним', 'здесь', 'этом', 'один', 'почти', 'мой', 'тем', 'чтобы', 'нее', 'сейчас', 'были', 'куда', 'зачем', 'всех', 'никогда', 'можно', 'при', 'наконец', 'два', 'об', 'другой', 'хоть', 'после', 'над', 'больше', 'тот', 'через', 'эти', 'нас', 'про', 'всего', 'них', 'какая', 'много', 'разве', 'три', 'эту', 'моя', 'впрочем', 'хорошо', 'свою', 'этой', 'перед', 'иногда', 'лучше', 'чуть', 'том', 'нельзя', 'такой', 'им', 'более', 'всегда', 'конечно', 'всю', 'между']\n"
     ]
    },
    {
     "data": {
      "text/plain": [
       "151"
      ]
     },
     "execution_count": 17,
     "metadata": {},
     "output_type": "execute_result"
    }
   ],
   "source": [
    "print(russian_stopwords)\n",
    "len(russian_stopwords)"
   ]
  },
  {
   "cell_type": "code",
   "execution_count": 18,
   "metadata": {},
   "outputs": [],
   "source": [
    "import spacy\n",
    "from spacy import displacy\n",
    "from collections import Counter\n",
    "nlp = spacy.load('ru_core_news_sm')\n",
    "def prep(column, threshold = 1):\n",
    "    threshold = threshold\n",
    "    tokens = [word.lemma_ for word in nlp(column.lower())]\n",
    "    tokens = [token for token in tokens if token not in russian_stopwords\\\n",
    "             and token !=\" \" \\\n",
    "             and token.strip() not in punctuation]\n",
    "    column = \" \".join([word for word in tokens if len(word) > threshold])\n",
    "    return re.sub('[0-9]+', '', column)"
   ]
  },
  {
   "cell_type": "code",
   "execution_count": 19,
   "metadata": {},
   "outputs": [],
   "source": [
    "toxic_dataset = toxic_dataset.apply(lambda column: prep(column))"
   ]
  },
  {
   "cell_type": "code",
   "execution_count": 20,
   "metadata": {},
   "outputs": [
    {
     "name": "stdout",
     "output_type": "stream",
     "text": [
      "5              стан являться эталон современный система здравоохранение рф зимбабве тупой хохол\n",
      "7     упад строить технология разворуют трещинами пош тупой китазы мочь ничто нормально сделать\n",
      "8                                                                         ебать разносить шизик\n",
      "9                                                                        обосрался сиди обтекай\n",
      "10                                            писать хуйню дегенерат поцелуй губа поцелую засос\n",
      "Name: comment, dtype: object\n"
     ]
    }
   ],
   "source": [
    "print(toxic_dataset[5:10])"
   ]
  },
  {
   "cell_type": "code",
   "execution_count": 21,
   "metadata": {},
   "outputs": [],
   "source": [
    "#toxic_comments['toxic'].value_counts()"
   ]
  },
  {
   "cell_type": "code",
   "execution_count": 22,
   "metadata": {},
   "outputs": [],
   "source": [
    "#np.sum(toxic_comments.isnull().any(axis=1))"
   ]
  },
  {
   "cell_type": "markdown",
   "metadata": {},
   "source": [
    "# TF-IDF Vectorizer"
   ]
  },
  {
   "cell_type": "code",
   "execution_count": 21,
   "metadata": {},
   "outputs": [],
   "source": [
    "from sklearn.feature_extraction.text import TfidfVectorizer "
   ]
  },
  {
   "cell_type": "code",
   "execution_count": 22,
   "metadata": {},
   "outputs": [],
   "source": [
    "vectorizer = TfidfVectorizer(\n",
    "ngram_range = (1,3),\n",
    "use_idf = True,\n",
    "smooth_idf = True,\n",
    "norm = 'l2',\n",
    "decode_error = 'replace',\n",
    "max_features = 10000,\n",
    "max_df = .9,\n",
    "min_df = 0\n",
    ")"
   ]
  },
  {
   "cell_type": "code",
   "execution_count": 23,
   "metadata": {},
   "outputs": [
    {
     "name": "stdout",
     "output_type": "stream",
     "text": [
      "[[0. 0. 0. ... 0. 0. 0.]\n",
      " [0. 0. 0. ... 0. 0. 0.]\n",
      " [0. 0. 0. ... 0. 0. 0.]\n",
      " ...\n",
      " [0. 0. 0. ... 0. 0. 0.]\n",
      " [0. 0. 0. ... 0. 0. 0.]\n",
      " [0. 0. 0. ... 0. 0. 0.]]\n"
     ]
    }
   ],
   "source": [
    "X = vectorizer.fit_transform(toxic_dataset).toarray()\n",
    "print(X)"
   ]
  },
  {
   "cell_type": "code",
   "execution_count": 24,
   "metadata": {},
   "outputs": [
    {
     "data": {
      "text/plain": [
       "119442"
      ]
     },
     "execution_count": 24,
     "metadata": {},
     "output_type": "execute_result"
    }
   ],
   "source": [
    "np.count_nonzero(X)"
   ]
  },
  {
   "cell_type": "code",
   "execution_count": 25,
   "metadata": {},
   "outputs": [],
   "source": [
    "pos_map = {v: k for k, v in enumerate(vectorizer.get_feature_names_out())}\n",
    "idf_vals = vectorizer.idf_\n",
    "idf_dict = {k: idf_vals[k] for k in pos_map.values()}"
   ]
  },
  {
   "cell_type": "code",
   "execution_count": 26,
   "metadata": {},
   "outputs": [
    {
     "data": {
      "text/plain": [
       "(10000, 9600)"
      ]
     },
     "execution_count": 26,
     "metadata": {},
     "output_type": "execute_result"
    }
   ],
   "source": [
    "X.T.shape"
   ]
  },
  {
   "cell_type": "code",
   "execution_count": 27,
   "metadata": {},
   "outputs": [],
   "source": [
    "from nltk.tokenize import TweetTokenizer\n",
    "tweet_tokenizer = TweetTokenizer()\n",
    "list_of_tok_tweets = []\n",
    "for f in toxic_dataset:\n",
    "    tweets = tweet_tokenizer.tokenize(f)\n",
    "    list_of_tok_tweets.append(tweets)"
   ]
  },
  {
   "cell_type": "code",
   "execution_count": 28,
   "metadata": {},
   "outputs": [],
   "source": [
    "list_of_tweet_tags = []\n",
    "for f in list_of_tok_tweets:\n",
    "    tags = nlp(\" \".join(f))\n",
    "    list_of_tweet_tags.append(\" \".join([token.tag_ for token in tags]))"
   ]
  },
  {
   "cell_type": "code",
   "execution_count": 29,
   "metadata": {},
   "outputs": [
    {
     "data": {
      "text/plain": [
       "['NOUN VERB NOUN ADJ NOUN NOUN PROPN PROPN ADJ NOUN',\n",
       " 'NOUN VERB NOUN VERB NOUN PROPN ADJ NOUN NOUN PRON ADV VERB',\n",
       " 'VERB VERB NOUN',\n",
       " 'VERB NOUN PROPN',\n",
       " 'VERB NOUN NOUN NOUN NOUN PROPN VERB']"
      ]
     },
     "execution_count": 29,
     "metadata": {},
     "output_type": "execute_result"
    }
   ],
   "source": [
    "list_of_tweet_tags[5:10]"
   ]
  },
  {
   "cell_type": "code",
   "execution_count": 30,
   "metadata": {},
   "outputs": [],
   "source": [
    "pos_vectorizer = TfidfVectorizer(\n",
    "ngram_range = (1,3),\n",
    "tokenizer=None,\n",
    "preprocessor = None,\n",
    "lowercase = False,\n",
    "use_idf = True,\n",
    "smooth_idf = True,\n",
    "norm = \"l2\",\n",
    "decode_error = 'replace',\n",
    "max_features = 5000,\n",
    "max_df = .75,\n",
    "min_df = 5\n",
    ")"
   ]
  },
  {
   "cell_type": "code",
   "execution_count": 31,
   "metadata": {},
   "outputs": [],
   "source": [
    "pos = pos_vectorizer.fit_transform(pd.Series(list_of_tweet_tags)).toarray()\n",
    "pos_vocab = {v: i for i, v in enumerate(pos_vectorizer.get_feature_names_out())}"
   ]
  },
  {
   "cell_type": "code",
   "execution_count": 32,
   "metadata": {},
   "outputs": [
    {
     "data": {
      "application/vnd.jupyter.widget-view+json": {
       "model_id": "6c9d6c5c89584cae992580c329fcd457",
       "version_major": 2,
       "version_minor": 0
      },
      "text/plain": [
       "HBox(children=(HTML(value='Downloading'), FloatProgress(value=0.0, max=1104.0), HTML(value='')))"
      ]
     },
     "metadata": {},
     "output_type": "display_data"
    },
    {
     "name": "stdout",
     "output_type": "stream",
     "text": [
      "\n"
     ]
    }
   ],
   "source": [
    "#Quelle: https://huggingface.co/sismetanin/rubert-ru-sentiment-rusentiment\n",
    "#from polyglot.text import Text as T\n",
    "\n",
    "import textstat\n",
    "textstat.set_lang('ru')\n",
    "\n",
    "from transformers import pipeline\n",
    "classifier = pipeline(model='sismetanin/rubert-ru-sentiment-rusentiment', max_length=512, truncation=True)"
   ]
  },
  {
   "cell_type": "code",
   "execution_count": 33,
   "metadata": {},
   "outputs": [],
   "source": [
    "def feature(text, cleaned):\n",
    "    polarity = classifier(text)[0]['score']\n",
    "    syllables = textstat.syllable_count(cleaned)\n",
    "    num_chars = sum(len(w) for w in cleaned)\n",
    "    num_chars_total = len(text)\n",
    "    num_terms = len(text.split())\n",
    "    num_words = len(cleaned.split())\n",
    "    avg_syl = round(float((syllables + 0.001))/ float(num_words + 0.001),4)\n",
    "    num_unique_terms = len(set(cleaned.split()))\n",
    "    FKRA = round(float(0.39 * float(num_words)/1.0) + float(11.8 * avg_syl) - 15.59,1)\n",
    "    FRE = round(206.835 - 1.015 * (float(num_words)/1.0) - (84.6 * float(avg_syl)),2)\n",
    "    features = [FKRA, FRE, syllables, avg_syl, num_chars, num_chars_total, num_terms, num_words, num_unique_terms, polarity]\n",
    "    return features"
   ]
  },
  {
   "cell_type": "code",
   "execution_count": 34,
   "metadata": {},
   "outputs": [],
   "source": [
    "other_features = pd.concat([toxic_dataset, toxic_copy.rename(\"original\")], axis = 1).apply(lambda row: feature(row['original'], row['comment']), axis=1)"
   ]
  },
  {
   "cell_type": "code",
   "execution_count": 35,
   "metadata": {},
   "outputs": [],
   "source": [
    "all_features = np.concatenate([X, pos, np.array(list(other_features))], axis = 1)"
   ]
  },
  {
   "cell_type": "code",
   "execution_count": 36,
   "metadata": {},
   "outputs": [
    {
     "name": "stdout",
     "output_type": "stream",
     "text": [
      "9600\n",
      "9600\n"
     ]
    }
   ],
   "source": [
    "print(len(all_features))\n",
    "print(len(y))"
   ]
  },
  {
   "cell_type": "code",
   "execution_count": 37,
   "metadata": {},
   "outputs": [],
   "source": [
    "from sklearn.model_selection import train_test_split"
   ]
  },
  {
   "cell_type": "code",
   "execution_count": 38,
   "metadata": {},
   "outputs": [],
   "source": [
    "feature_concat = np.concatenate((all_features, toxic_copy.to_numpy().reshape((-1, 1))), axis = 1)"
   ]
  },
  {
   "cell_type": "code",
   "execution_count": 39,
   "metadata": {},
   "outputs": [],
   "source": [
    "X_train, X_test, y_train, y_test = train_test_split(feature_concat, y, test_size=0.2, random_state=2)"
   ]
  },
  {
   "cell_type": "code",
   "execution_count": 44,
   "metadata": {},
   "outputs": [],
   "source": [
    "X_train = X_train[:, :-1]\n",
    "X_test_comments = X_test[:, -1]\n",
    "X_test = X_test[:, :-1]"
   ]
  },
  {
   "cell_type": "code",
   "execution_count": 45,
   "metadata": {},
   "outputs": [
    {
     "name": "stdout",
     "output_type": "stream",
     "text": [
      "shape of input - training set (7680, 11058)\n",
      "shape of output - training set (7680,)\n",
      "shape of input - testing set (1920, 11058)\n",
      "shape of output - testing set (1920,)\n"
     ]
    }
   ],
   "source": [
    "print(\"shape of input - training set\", X_train.shape)\n",
    "print(\"shape of output - training set\", y_train.shape)\n",
    "print(\"shape of input - testing set\" , X_test.shape)\n",
    "print(\"shape of output - testing set\", y_test.shape)"
   ]
  },
  {
   "cell_type": "markdown",
   "metadata": {},
   "source": [
    "# Generating Model"
   ]
  },
  {
   "cell_type": "code",
   "execution_count": 46,
   "metadata": {},
   "outputs": [],
   "source": [
    "#Quelle: https://vitalflux.com/classification-model-svm-classifier-python-example/\n",
    "\n",
    "from sklearn import svm\n",
    "from sklearn.preprocessing import StandardScaler\n",
    "from sklearn.linear_model import Perceptron, LogisticRegression\n",
    "from sklearn.svm import SVC\n",
    "from sklearn import metrics"
   ]
  },
  {
   "cell_type": "code",
   "execution_count": 47,
   "metadata": {},
   "outputs": [],
   "source": [
    "sc=StandardScaler()"
   ]
  },
  {
   "cell_type": "code",
   "execution_count": 48,
   "metadata": {},
   "outputs": [],
   "source": [
    "sc.fit(X_train)\n",
    "X_train_std = sc.transform(X_train)\n",
    "X_test_std = sc.transform(X_test)"
   ]
  },
  {
   "cell_type": "code",
   "execution_count": 49,
   "metadata": {},
   "outputs": [],
   "source": [
    "svc=SVC(C=1.0, random_state=1, kernel='sigmoid')"
   ]
  },
  {
   "cell_type": "code",
   "execution_count": 50,
   "metadata": {},
   "outputs": [
    {
     "data": {
      "text/plain": [
       "SVC(kernel='sigmoid', random_state=1)"
      ]
     },
     "execution_count": 50,
     "metadata": {},
     "output_type": "execute_result"
    }
   ],
   "source": [
    "svc.fit(X_train_std, y_train)"
   ]
  },
  {
   "cell_type": "code",
   "execution_count": 51,
   "metadata": {},
   "outputs": [],
   "source": [
    "prediction = svc.predict(X_test_std)"
   ]
  },
  {
   "cell_type": "code",
   "execution_count": 52,
   "metadata": {},
   "outputs": [],
   "source": [
    "import pickle"
   ]
  },
  {
   "cell_type": "code",
   "execution_count": 54,
   "metadata": {},
   "outputs": [],
   "source": [
    "vect_file = \"vectorizer\"\n",
    "pos_file = \"pos\"\n",
    "scaler_file = \"scaler\"\n",
    "model_file = \"model\"\n",
    "with open(vect_file, 'wb') as file:\n",
    "    pickle.dump(vectorizer, file)\n",
    "with open(pos_file, 'wb') as file:\n",
    "    pickle.dump(pos_vectorizer, file)\n",
    "with open(scaler_file, 'wb') as file:\n",
    "    pickle.dump(sc,file)\n",
    "with open(model_file, 'wb') as file:\n",
    "    pickle.dump(svc, file)"
   ]
  },
  {
   "cell_type": "code",
   "execution_count": 55,
   "metadata": {},
   "outputs": [
    {
     "name": "stdout",
     "output_type": "stream",
     "text": [
      "Die Genauigkeit beträgt 0.80\n"
     ]
    }
   ],
   "source": [
    "print(\"Die Genauigkeit beträgt %.2f\" %metrics.accuracy_score(y_test, prediction))"
   ]
  },
  {
   "cell_type": "code",
   "execution_count": 67,
   "metadata": {},
   "outputs": [
    {
     "name": "stdout",
     "output_type": "stream",
     "text": [
      "[[737 189]\n",
      " [193 801]]\n"
     ]
    }
   ],
   "source": [
    "from sklearn.metrics import classification_report, confusion_matrix\n",
    "conf_matrix = confusion_matrix(y_test, prediction)\n",
    "print(conf_matrix)"
   ]
  },
  {
   "cell_type": "code",
   "execution_count": 53,
   "metadata": {},
   "outputs": [
    {
     "data": {
      "image/png": "[encoded data removed]",
      "text/plain": [
       "<Figure size 720x720 with 2 Axes>"
      ]
     },
     "metadata": {
      "needs_background": "light"
     },
     "output_type": "display_data"
    }
   ],
   "source": [
    "from matplotlib import pyplot as plt\n",
    "from mlxtend.plotting import plot_confusion_matrix\n",
    "fig, ax = plot_confusion_matrix(conf_mat = conf_matrix, figsize = (10,10),\n",
    "                               show_absolute = True,\n",
    "                               show_normed = True,\n",
    "                               colorbar = True)\n",
    "plt.show()"
   ]
  },
  {
   "cell_type": "code",
   "execution_count": 54,
   "metadata": {},
   "outputs": [],
   "source": [
    "false_negatives = X_test_comments[((1 - prediction).astype(\"int8\") & np.array(y_test.astype(\"int8\"))) == 1]"
   ]
  },
  {
   "cell_type": "code",
   "execution_count": 265,
   "metadata": {},
   "outputs": [
    {
     "data": {
      "text/plain": [
       "['договорились же. а вы что предлагаете, сбросить атомную бомбу на хайфу?\\n',\n",
       " 'я просто общаюсь пидораха пидораха скотоублюдии пидорашки народ такой дранный я просто общаюсь hohlyatus vulgaris\\n',\n",
       " 'и у меня гамно залежалось, тоже отправлю\\n',\n",
       " 'мазохист? я из тебя эту дурь выбью!\\n',\n",
       " 'была же информацию что пиндосы собирают генетические материалы россиян... задумайтесь...\\n',\n",
       " 'спать пора, а то я куни пони прочитал, думаю совсем ебнулись что-ли.\\n',\n",
       " 'такой всепропальщик типа тебя- хуже пидораса. всё него не по-настоящему, всё не имеет смысла, потому что придумано хитрованским жыдом, который с бедного русака профит стрижет. и чтобы жид не обогатился случайно за твой счет, нужно и дальше продолжать гнить в рфии, даже не думая о переменах. это напоминает какой-то 1984 - всё уже уничтожены, никакие перемены невозможны, и всех за яйца держит партия. что тогда делать-то? присоединяюсь к вопросу . вангую, окажется, что ты какой-нибудь красножопый пидорас-космополит, и срочно нужно всем начинать топить за секретную партию октябрят-дзержинцев , состоящую из школьников.\\n',\n",
       " 'кто, кроме сакрамара помнит о свинье гнидине?\\n',\n",
       " 'мы тупо вторглись и хапнули кусок другой страны пыне нужен был его флот, а хохлы грозили разорвать договор аренды. крым целиком забрали просто заодно. так что это была защита стратегических интересов страны.\\n',\n",
       " 'и это все равно все еще лучше быдлоалкаша с митинского радиорынка.\\n',\n",
       " 'тред одного из самых умственноотсталых представителей русской гитарной школы, юрия шильникова, который не может сыграть нормально ни квинту, ни одну из существующих пентатоник, вечно выёбывается на хэммета и слэша компенсируя этим свой низкий гитарный скилл и милипиздрический писюн размером с лягушачью лапку. пидор всея ютуба и скучное унылое говно, от тупого пиздежа которого у людей начинает идти кровь из ушей. также имеет суперпосредственную недогруппу, в которой пытается что-то ковырять и сосать в один и тот же момент, с весьма унылыми запилами на 6й струне и неебически скучным вокалом тёлки ака нуки2.0, люди говорят, что по звучанию группа походит на слот, но на самом деле это просто говно мёртвой собаки. леди и джентльмены, встречайте фредхуеглист',\n",
       " 'казимирко и сам как дерьмовая система.\\n',\n",
       " 'привезли на при мку к ашоту теперь ты хозяин железной горы\\n',\n",
       " 'то есть что напустили дохера аллах-бабахов желающих только получать пособие, курить дурь и опиздюливать трахать местных - это ладно, а вот что трудолюбивые китайские бизнесмены им сетевую аппаратуру приличную поставят - это азазаз, трагедь и нидапустим.\\n',\n",
       " 'он с бухлом мешал, наверное.\\n',\n",
       " 'ах , ты ссука.. как передает общую атмосферу. очень тонкий подтекст. и очень толсто передал все, что нужно.\\n',\n",
       " 'вблизи львова во вторник, 19 марта, стадо кабанов на автодороге международного значения повлекло дтп, в результате которого получила технические повреждения легковушка, а два кабана погибли на месте происшествия. об этом в среду, 20 марта, сообщил депутат львовского горсовета игорь зинкевич в facebook. как уточнил координатор оо варта-1, которая сотрудничает с правоохранительными органами, дорожно-транспортное происшествие произошло на международной трассе киев - чоп, в селе деревач пустомытовского района. в 23:30 в селе деревач стадо кабанов перебегало дорогу, и одно авто влетело в это стадо. в результате дтп у renault duster разбита передняя часть автомобиля, два кабана погибли. полиция на месте происшествия оформила дтп , - информировал зинкевич. накануне на автодороге чернигов - киев произошло дорожно-транспортное происшествие с участием трех автомобилей и лося. напомним, в течение 2018 года в украине произошло 550 дтп с участием животных.\\n',\n",
       " 'ну не, у тебя бомбит от того что богатые люди деньги на кокс и шлюх тратят и еще что-то там эппл говна в жопы заливает, видимо заставляет нищих ниггеров покупать свою продукцию и оббирает до нитки. ты же просто социалист, который понял что планчик не работает, но который все равно хочет зарегулировать, обложить налогами, залезть каждому в карман и указывать на что тратить деньги, а потом обосраться и получить венесуэлу недоумевая от зарплат как в африке и вереща на плохого барина. расовый состав погибших детей пожалуйста.\\n',\n",
       " 'в каждом посте, где обсуждают многодетное быдло, находятся те, кто жалуется на нормальных, которые не могут иметь детей. не сами нормальные с патологическими врождёнными патологиями, которые очевидно в курсе, почему у них детей, а совершенно сторонние люди, которые уверены, что беспричинно люди не могут завести детей.\\n',\n",
       " 'во всем прав. до сих пор он приносит тонны анальной боли всем сортам срынкоскота, от нацидауна до либералошвали. особенно сильно с него горят различные лживые творческие илитки, изрыгая тонны пиздежа про миллиарда расстрелянных, т.к. они не могли при нем поплевывать в холопов. полыхания этих животных наблюдать приятнее всего.\\n',\n",
       " 'не был влиятельным да он и сейчас не особо, разве что обзавелся : хомячками с пятачками\\n',\n",
       " 'это кто там? шаолиньские монахи?\\n',\n",
       " 'какой символизм! колючая проволока как последний заслон здравого смысла. брёвна как первые шаги к пагубной привычке. вращающее бревно как собственно сигарета. пламя с двух сторон символизирующее, что пока горит сигарета с одной стороны ты сжигаешь себя с другой. акулы как символ рака лёгких поджидающий тебя на твоём пути курильщика. срочно в музей этот шедевр! gifx\\n',\n",
       " 'если не бросит - в течении пары лет будет в топе полит ютуба. какой бы тупой пиздой не была ебабельная телка и какую бы дичь она не несла, если она будет работать на свою популярность, хайпить, не забивая хуй - она будет популярна. прямо как мариговори. тоже безмозглая тупая пизда. только у той есть некоторый артистизм и не просто привлекательная внешность, а сексапильное поведение и более острая сексуальная провокация. у этой сучки внешка лучше, а вот с харизмой сильно хуже. надеюсь в будущем таких экспертов начнут щемить за эти самые сексуальные провокации зрителей. иначе они займут огромную часть околополитики.\\n',\n",
       " 'проиграл, когда кто-то из них собрал в конфе сильный состав активистов (хохловский, ткаченко, иоган себастьян) и эталоннейших тп, которые цитировали тп-бинго и приводили факты из передач по рен тв в качестве научных аргументов, понятное дело, что шахматы с курицами кончились тем, что они перевернули фигуры, насрали на доску и довольно захлопали крыльями, но тут кто-то выпустил глав петуха меганыча и он на их курином языке им прокукарекал что-то понятное, что они тут же заткнулись и слились, лол.\\n',\n",
       " 'только дебил пойдет регаться как самозанятый. всем же понятно что эти 4-6 подрастут, когда норм кол-во баранов зарегистрируется. а остальных вычислят при помощи ml. а хули, норм выборка есть, по ней можно обучить ml-модель и запалить остальных далбоебов. не хотите так запалиться? меняйте схемы получения бабла или устраиваетесь на низкооплачиваемую(или высокооплачиваемую тогда и не надо быть самозанятым) халявную работу официально, для того чтоб не вызывать подозрений. кстати, вангую что появятся конторки которые за бабло в месяц будут устривать на халявную работу официально. для прикрытия.\\n',\n",
       " '50к в год это либо он тебе в уши ссыт чтобы ты не завидовал, либо я даже не знаю, в рабстве в каком-то бодишопе? это не средний американец, это лох какой-то. туда даже наши боди шопы перевозят людей на 80к в год и это с учетом визы которая запрещает смену работодателя (т.е. условия там средние а не лучшие, все равно никуда не денешься). ты бы зашел на glassdoor про медианные зарплаты почитал и не позорился со своими выдуманными знакомыми. так и что там со страховками, цифры то хоть смог прочитать? короче методичка у тебя хорошая, но те кто в теме сразу видят какой ты пиздабол.\\n',\n",
       " 'все они немного сволочь! а некоторые даже больше!\\n',\n",
       " 'типичный пикабушник помесь филолога с писателем)\\n',\n",
       " 'прошлые треды можно найти в гугле четверг рыбный день приш л в столовую пустые прилавки\\n',\n",
       " 'каждый сам для себя это решит. как ему умереть и умереть ли вообще. рещая за свою жизнь и смерть ты становишься истинно свободным.\\n',\n",
       " 'да я заебался уже все это ахуенные истории банить.\\n',\n",
       " 'что-то понася совсем понесло. смешно выглядят потуги разных балбесов-драчунов с рингов на имидж брутальности и некой традиционной (?) мужественности. они ведь, как и девицы с шоссе, зарабатывают на хлеб в трусах и физическим трудом, в контакте с телом других мужчин. и за этот контакт они получают деньги.\\n',\n",
       " 'самое забавное что этого дегенерата нельзя оскорблять, иначе сгуха... забавно да? самое мягкое что вертиться на языке это конченный фашистский недоразвитый ублюдочный шлюхин сынок, но сказать это невозможно так как закон это запрещает\\n',\n",
       " 'топорно работаешь - здесь твои порашные заклинания не действуют.\\n',\n",
       " 'бляяяяяяяяяяяяяяяяяяяяяяяяяяяяяяяяяяяяяяяяя\\n',\n",
       " 'среди боевиков были и снайперы с ближнего востока.\\n',\n",
       " 'дед карлик гном и сам леваков неплохо сливает но дело в том что это борьба с мельницами, ибо обещание что мы отнимем у богачей и дадим народу всегда будет пользоваться популярностью\\n',\n",
       " 'за крыжопник и двор, аардом в упор.\\n',\n",
       " 'спать пора,первый час,завтра дел много, восемь дней дома не был, кот усиленно вылизывается ,к погуляшкам готовится, если ты мужик- с праздником тебя, а я спать\\n',\n",
       " 'пиздешь подпиндоссной либерасни. благодаря полезным санкциям, россия вырвалась в лидеры в сфере высокотехнологичного производства.\\n',\n",
       " 'зачем же всех под одну гребёнку, быдлан?\\n',\n",
       " 'защита от химки, яо и противотанковых средств это явно не от народа, дурачка та не включай тут как бы фиделя вспомнить, учитывая врагов, защита лишней не бывает...\\n',\n",
       " 'с тваей мамкай)0) азаза\\n',\n",
       " 'совершенно нет, поскольку тут нет ничего касательно леволиберальной повестки. зачем вы записываете ебанутых истеричек-обиженок в леволибералы?',\n",
       " 'а у тебя писечка поперек, или это только от мамы передаться может?\\n',\n",
       " 'можешь отсыпать пару грузовиков со склада брака? складские площадя освободите)\\n',\n",
       " 'ебанутый что ли. недоношенных что ли. а появятся на улицах они через пару месяцев, им еще ходить научиться надо.\\n',\n",
       " 'паук мухлюет, сквозь стены ходит\\n',\n",
       " 'в этой истории никто не знал, чем кончится, пока не нажрался до такой степени, чтобы такой исход стал вероятен. никто не хочет шлюх ровно до того момента, пока их не захочет, как ни странно. ведь все люди на свете точно знают наперёд исход событий. были бы все алкаши и шлюхоёбы - можно было бы это предугадать, а так и мыслей-то таких не было. стечение обстоятельств. последний этап можно поменять например на посрались и устроили поножовщину - там тоже производители ножей, алкоголя и владельцы саун будут виноваты?) хуйню не неси. это не про перекладывание ответственности, это про роль случайности в судьбе.\\n',\n",
       " 'может ты не в курсе, но в обеих половинках кореи правила одинаковая гебнявая мразь. просто в южной она отвалила от власти в 80-х\\n',\n",
       " 'я такого еще и не видел , каким надо быть дибилом-камикадзе туда залезть да еще в полный рост работать . в беларуси такой хуйни не увидишь\\n',\n",
       " 'я всё прочитал,и даже комментарии,я теперь кулхацкер?\\n',\n",
       " 'цитата... а негодные - могут в тылу работать.\\n',\n",
       " 'и да не ципрофлоксацин а цефалоспорины естественно, замена. два ляпа в одном сообщении.\\n',\n",
       " 'кыс-кыс-кыс или как там надо.и за ушком почесать.\\n',\n",
       " 'не имеет никакого шанса откупиться в наших условиях. а мост может и не окупится, но имеет стратегическое значегие\\n',\n",
       " 'кикбоксера хана батыя руководить калмыкией -бату хасиков, у нас тут регион пустеет, нужно решить проблему с безработицей и трудоустройством. -тебе че, в ебыч прописать? ты мой заместитель или чей? вот и пиздуй работать. - я уже согласовал со всеми отделами план вывода региона из кризиса, нужно чтоб вы посмотрели и поставили подпись. - че это за таблицы? а это что за цифра? пиши понятным языком, а то защеку тебе щяс подпись поставлю.\\n',\n",
       " 'встретил бы я тебя на улице, ох и поплакал бы ты горькими слезами.\\n',\n",
       " 'история конечно жуть, и бабу на кол посадить изо всех сил... но, я дико извиняюсь, кто из животинок таки тимоша ?)\\n',\n",
       " 'хз я не тот холопошизик его и спрашивай макака только зовется макакой это на самом деле довольно мозгоебная штука\\n',\n",
       " 'чтд, у тебя абсолютное непонимание того, что такое экспозиция.\\n',\n",
       " 'вот фак из вронг виз ю?\\n',\n",
       " 'а как же новость о том что доверие к перзиденту пукину охуенно выросло?\\n',\n",
       " 'хуйню несёшь ты. как ещё можно назвать кромсание человека на части? какие аргументы вообще тут могут быть? тут и так всё ясно.',\n",
       " 'а апелляшку небось без заявления на восстановление сроков подали и давай с судьей устно общаться. было бы заявление на восстановление с доказательствами отсидки в тот период, ни один судья бы апелляшку не отфутболил.\\n',\n",
       " 'а какой уровень у тех кто тренды про хохлов создаёт?\\n',\n",
       " 'пидорахен я салоед, ващет. там, где у критика лихие шутки на все случаи, у блядины - кликушество и хейтерство. у критика только беззубый детский американский юмор. у батикова тоже клоунады хватает, впрочем. пидорашке показали говно и палки через объектив дорогой камеры, и говно с палками тут же стало дорогим реквизитом. нихуя. понятно, что у блохеров реквизит плохенький будет, но у критика в роликах хуета хуже аниме-феста твоего города. пикрелейтед.\\n',\n",
       " 'а что с ним не так? заводы мы вывезли к себе, за счет домбассян получили прирост к росстату, хохлы в жопе, осталось только территорию захватить чтобы выкачивать сланцевый газ. ну можно и не сейчас захватывать, газ от этого не испортится, лет через 10-15-20 напасть под предлогом социальной помощи. еще одно приднестровье, пойдет, главное чтобы не выебывались.\\n',\n",
       " 'когда бренды это одно, но когда первый раз вижу - сниму штаны и телефон, то как то стрем. уже шлюх и то по интернету, с отзывами ищут\\n',\n",
       " 'о сектантов завезли. раскол мудэ произошёл?\\n',\n",
       " 'ну и ? пиздюлей не получал что ли ? у меня мелкий говнистый. пару раз чего-то вякнул не по делу фоксу, тот ему веко повредил. ну и всё, теперь с опаской, постоит подумает предварительно. эрделю тому вообще пофиг все эти разборки, как на идиотов смотрит если кто-то цепляется к нему.\\n',\n",
       " 'блять, чувак, реально, прекращай это пить, это не молоко или ты просто долбоеб. с нормального молока прет так же как с плотного покура, просто дольше, а ты походу хлещешь какую-то поеботу и тебе становится плохо, что аж парализует лол.\\n',\n",
       " 'ух, аш встал на эту чуханку и её жирок.\\n',\n",
       " 'хороший миф. дерматологи не согласятся, но кто слушает этих старых пердунов, когда можно подсадить клиента на дорого шампунь со слабым антигрибковым компонентом.\\n',\n",
       " 'да ну, кем считается то? у нас, швабов, пожестче будет, я (лично) так думаю\\n',\n",
       " 'дамочка хочу с вами пообщаться\\n',\n",
       " 'ну вот и кончились добрые дела с даунятами и собачками, опять пошёл кликбейт: лев против - перепалка с быдлом в парке лев против - охрана храма христа спасителя курит и матерится около детей лев против - пьяный пассажир устроил дебош в самолете.\\n',\n",
       " 'ствол хуже, потому что пока ты поднимешь, снимешь с предохранителя итд ты уже труп. с 2 метров боец с ножом успевает нанести удар неготовому противнику, вооружённому пистолетом прежде чем тот начнёт стрелять. большим холодным оружием можно отмахнуться намного быстрее, да и оппонент другую тактику изберёт. время на основании видоса из ютуба,где 2 инструктора по стрельбе и бою на ножах решили проверить, насколько реально от внезапного нападения с пестом отбиться.\\n',\n",
       " 'потому что нищий нацист-это коммунист.у гитлера немцы в очередях не стояли и неграм с арабами не помогали.ну то есть помогали но в меру\\n',\n",
       " 'ты хуй, никого не волнует, что ты там имел ввиду. дядя слишком сильно рванул вперед и надорвался. что дальше: самолет, ракета?\\n',\n",
       " '1 8- звиздуляйтнунг!!!! это сколько же детей на стороне этот хряк начпехал ....\\n',\n",
       " 'о, проход в хохлы, лахта бздит. давай проход в пыню - во сколько раз дороже такой же мост построили бы при пыняномике нынешней? даже предположим, что он будет построен так же хорошо. в 10 раз?\\n',\n",
       " 'а в твоем блять не стояли! вы же пердуны старый все высоко духовные интеллектуалы.\\n',\n",
       " 'зачем рыться в своих диалогах и удалять лишнее? поставил пароль и не паришься. в конце концов это личное дело каждого человека и каждой пары. удобно им так, зачем пристал?\\n',\n",
       " 'даже твоей мамаше-шлюхе? или она продолжит до 60 на панели стоять? серьёзно, как твоя мамаша отнеслась к повышению возраста выхода на пенсию?\\n',\n",
       " 'х новостях ни разу - ни разу не было такого, чтобы пиздюки не напиздели с три короба в свою поль ты тупенький? тебе даже видео показали, а ты оправдываешь нападавшего.\\n',\n",
       " 'а не для здоровья нации. здоровье нации это в первую очередь развитая медицина и диагностика заболеваний. не дай бог тебе попасть в пидорашенскую поликлинику с чем-нибудь тяжелее орви - будешь по месяцу ждать очереди на диагностику, а диагноз тебе поставят года через два, если ты не сдохнешь как падаль в канаве.\\n',\n",
       " 'европы и сша это ещё ладно, но ещё больше трудятся во всяких чуркистанах.\\n',\n",
       " 'до крымнаша таких проблем не было, может не столько рыночек виноват, сколько гебешная мразь?\\n',\n",
       " 'выглядит как злая тройка. посередине мелкий, мозг компании. и сбоку два тупых амбала\\n',\n",
       " 'это потому, что мы в ней просрали. если просрали - значит это плохая война и ее мы не хотим повторить . все остальные - хотим, потому и оправдываем. у имперца всё очень просто.',\n",
       " 'поясняю за била. те, кто его смотрит отморозки, или быдло. они просто не могут представить, что могут оказаться в такой ситуации. а для них омежки это скот, но когда затрагивают их чсв совершенно безобидным пранком, когда облили водой раздвиженцев, то быдло и отморозки встают в позу и говорят о нарушение границ. тем, кому припекает омежки, которые из-за низкой самооценки неосознанно представляют себя на месте героев пранка. а потом в своих влажных фантазия избивают этого пранкера или пытают его. а нормальные люди просто это не смотрят. а если и посмотрят то просто скажут, что он дурак. бил же трус и быдло -- доебывается обычно до слабых, что свойственно гопоте. очень удивилась, что у него так много лайков на видосах. ну видимо это те, кто любят хованского, мопса и прочих быдлоютуберов. не удивлюсь, что била смотрят в основном не из приличных городов, а из всяких мухасрансков. вывод, русские терпилы будут терпеть до конца. как лев против или стопхам(который уже окуклился). включу либераста, как видите это типичный руssкий мир, мы готовы превозносить любое быдло в герои, а потом оправдывать его. с билом ниче не случится, я гарантирую это. он явно не тупой и точно знает, где граница дозволенного, то есть мы не увидим его с лгбт-флагом в чечне, например. так что, дорогие руssкие сосите и дальше хуй и терпите. мимо проходила\\n',\n",
       " 'точно. еле до мусорки его допер, тяжеленный\\n',\n",
       " 'трамп, кстати, наименее фашиствующий из них\\n',\n",
       " 'ебать какокое убогое поделие.\\n',\n",
       " 'жертвовать здоровьем ради извращенца, ну нафиг..\\n',\n",
       " 'с сотовой связью тоже самое скоро будет.',\n",
       " 'видимо у вас проблемы со зрением, товарищ сви нья, вам всё конкретно описали, разжевали, положили в рот, и осталось только проглотить, но вам этого не даёт сделать ваш проклятый токсичный леволиберальный толерантный рак пищевода. вам пора записаться на курсы политологио-терапии чтобы в дальнейшем не возникало подобных казусов',\n",
       " 'мне вообще похуй кто этот хохол в оп посте и на ваши хохло-ожидания от него, суть в том что это обычная разговорная речь взятая из обсуждения и обыкновенно опирающаяся на контекст этого самого обсуждения.\\n',\n",
       " 'блять, как ты доебал, мы уж поняли, что ты люто хейтишь нестеренко, настолько, что готов высирать целые простыни, даже не особо разбираясь в вопросе. ну не является для нестерова ютуб основным занятием, как для какого-нибудь хованского. есл бы ты следил за этой аутичной тусовочкой, знал бы что нестеров айтишник на удаленке.\\n',\n",
       " 'ошметки лунного модуля нашла японская обсерватория еще в 90-е. ты тупой? летать то летали, модуль садился, только померли космоновтики. их дублеры заменили по возвращении.\\n',\n",
       " 'можете завтра начинать злорадствовать, летим домой в новосибирск, а там все серое и -7.\\n',\n",
       " 'кто это вообще? возвращайся когда бабченко подохнет или еще какая мразь.\\n',\n",
       " 'по бабе видно, что посрала.\\n',\n",
       " 'вот пусть крымодебилы туда и катятся.\\n',\n",
       " 'под босоножками имелись в виду туфли-босоножки типа таких:\\n',\n",
       " 'ты дурачок что ли? это рутинный нахрюк свинюков ходорских проплаток демшизиков - точнее не могу сказать, сорта говна.\\n',\n",
       " 'двачую. заебала эта хуита. просто кусок дерьма. мало того что требует кучу времени что бы её рагадать т.к картинки грузятся как в 90е, так еще и когда правильно все угадал, она мишет капча невалидна и заставляет снова все разгадывать тратя 3 минуты на рагаздывание. в итоге что бы отправить пост тратиться от 3 до 5 минут. а самое тупое что если поставить в настройках старую дваче капчу, она не работает нихуя. в настройках поставил дваче капчу, а уменя опять эта ебанная гугловская срань появляется. ну сколько можно издеваться над двачерами? уберите эту гугловскую хуйню с двача!!!\\n',\n",
       " 'извините, перешёл на современный слэнг. о ребятах. вас устроит?\\n',\n",
       " 'где-то сжигают книги.. а где-то фотографов. возможно, мы сейчас стоим у истоков целого фестиваля..',\n",
       " 'мужик, ты вообще в адеквате? все хорошо? ведёшь себя как малолетка\\n',\n",
       " 'уважаемый, да вы бредите. заварите ка как на картинке на любом заводе, где есть сварка. такая подойдёт?\\n',\n",
       " 'уж сколько раз твердили миру... запишитесь к психотерапевту с описанием симптомов. ну серьезно, взрослый человек, а ведете себя как маленький. если есть депрессия - вам об этом скажут. но это может быть и накопленная усталость, и фаза апатии, и гормональный сбой. как у вас с фантазией дело обстоит? вот и вообразите, что дальше может быть хуже. вплоть до отказа внутренних органов. супруга ваша куда смотрит?\\n',\n",
       " 'это тоже есть, от сторожа до главврача все кумовья - хохлы ведь в основном\\n',\n",
       " 'а вот и да! меня прям разрывало от желания заминусить ваш комментарий после прочтения первых трёх абзацев, но, поняв вашу мысль, решил написать текст рукой. сам я крымчанин, в крыму живут все мои родственники, но я живу и работаю на материковой части россии достаточно давно. так вот, к чему я это: я искренне радовался аннексии , референдуму и получению гражданства рф крымчан. своя-то хата, оказывается, ближе к краю! хотя украину (как страну, а не как государство)люблю и жалею. если кого обидел прошу прощения.\\n',\n",
       " 'на хуй себе прищепку прицепи,дебила кусок..\\n',\n",
       " 'у вас хоть под балконом, у меня балкон полностью засран, полностью эти твари засрали его на неделю!! тупо места чистого нет хз в чем дело я их не подкармливал вовсе\\n',\n",
       " 'четверг рыбный день приш л в столовую пустые прилавки не понял, можно поподробней?\\n',\n",
       " 'это где я написал, что собака не виновата?!? тут как с детьми - как воспитали, такой результат и получили. но за детей кто в первую очередь несёт ответственность? так что в любом случае вначале надо п..здить хозяина, а уж потом думать, что с собакой делать.',\n",
       " 'обивку лучше химчистка, душевую кабину силит бенк, пароочиститель убирает застарелый жир, а с известью хуже справляется.\\n',\n",
       " 'не надо всю, галицию нахуй надо слать, пусть пшеки забирают даром.\\n',\n",
       " 'любишь с пьянью и гопниками в одном вагоне ездить?\\n',\n",
       " 'квинтэссенция человеконенавистничества в этих словах ротшильда. и после этого ещё некоторые не верят, что капитал есть источник фашизма. тупые люди не смогут стать богатыми, а умные смогут. ага, поэтому давайте сильно затрудним доступ к образованию, а то образование, что есть и без которого не обойтись, сделаем максимально узкоспециализированным, что бы человек сразу превращался в тупого, сделав лишь шаг в сторону от своей специализации. тогда можно будет бесконечно долго жить припеваючи, присваивая результаты труда этих людей. тупые всегда в итоге будут работать на умных. это скользкая дорожка: тупые не смогут поддерживать общественное производство, а умные могут начать соображать, что к чему. поэтому в итоге подобная система развалится, в один прекрасный день, как песочный замок. но водить за нос трудовой народ они могут еще долго.\\n',\n",
       " '- вовочка, не суй пальцы в розетку. - так они туда не влазят... - а ты гвоздики возьми, придурок!\\n',\n",
       " 'стоп стоп стоп!!!! это получается все 5 лет войны российский агрессор агрессивно продавал газ для финансирования агрессорских войск для агрессии на дабмасе и платил свои агрессорские деньги???? торговля с агрессором во время войны??? это другое????\\n',\n",
       " 'да жидяра это, что тут думать\\n',\n",
       " 'если вы загляните хотя бы в вики, то найдете подобное и на хохла и на москаля. исторически прозвища и самоназвание было у всех народов. прискорбно что сейчас многие из них используются для оскорбления. чухонцы так же было уничижительным словом, применительно в определенном контексте. а пушкина как пример я привел для пояснения, что некоторые прозвища сложились исторически.\\n',\n",
       " 'я не тупо сидел в ординатуре. сначала пишешь, потом ведешь больных, участвуешь в операциях, начнёшь что-то делать. если ты ждешь что тебе все на блюдечке - не иди\\n',\n",
       " 'надо как мститель в маске, переебал по башке и тихо свалил в закат не дожидаясь лавр победителя\\n',\n",
       " 'не понаехами, а просто политическим влиянием пидорахии. как хохлы, грубо говоря.\\n',\n",
       " 'ахах, чувак. скажи, что пошутил неудачно, иначе это пиздец.\\n',\n",
       " 'dlc что делает эта длси?\\n',\n",
       " 'она уже там лет 15!!!!!!\\n',\n",
       " 'осталось прифотошопить член вместо пизанской башни\\n',\n",
       " 'я не конкретно про этот случай. чаще на дороге встречаются неадекватные мотоциклисты, нежели нормальные.\\n',\n",
       " 'кукареку пащенко украинская фамилия. известные носители:\\n',\n",
       " 'блт за гребаный проездной в тюрьму????? женщину????? пздц...... что ,условного срока нет что ли? я херею с нашего правосудия...\\n',\n",
       " 'хохловский самый последовательный из всех них. у всех остальных так или иначе присутствуют чёрные пятна и двойные стандарты в идеологии из-за чего и происходит перманентный срач.\\n',\n",
       " 'вам за защиту чукчи по усиленному тарифу платят, раз вы так усердно и активно за него копротивляетесь?\\n',\n",
       " 'да кто тебя спрашивает, хуесос, срыгнись нахуй в канаву\\n',\n",
       " 'истинно так. но мрии жидов вертят шариком несколько тысяч лет. мрии хохлов же больше напоминают бредни душевнобольных. тут я более доверяю иудеям. они вызывают больше доверия, более ответственны и потенциальны. мой выбор - жиды.',\n",
       " 'у нас ключ можно щаказать в любой шарашке, у чурок,которые ключи для замков делают.\\n',\n",
       " 'но отличить когда она говорит дело, а когда бред шизофреника можно только обладая минимальным пониманием темы обсуждения\\n',\n",
       " 'ага, чуть в турцию вас не отправил. забыл, что ты кофий не любишь! да у нас тут погода меняется по семь раз за неделю. вчера было 36, а сегодня снегопад с дождём и гроза. прикольно, блин\\n',\n",
       " '4, кастрированный, любит играть и носиться. и ещё гулять выходим, я покурить выхожу он со мной, побегает, по березам полазит и домой. и зимой на батарее любит валяться (батарея кожухом закрыта), дурачок бывает перележит перегреется сползает и на линолиуме остывает.\\n',\n",
       " 'ты отставил религию это твое дело. но зачем писать посты и осквернять религию. ты говоришь о любви к родным но ты их предал и предал ты их тем что оскверняешь то что им дорого. задай свой любой вопрос об исламе с научной точки зрения и я тебе отвечу с религиозной точки зрения.',\n",
       " 'раз уж среди нас серьёзный аналитик, задам давно мучающий вопрос - скока будет трижды семь?',\n",
       " 'девятый тоже зашёл. почитаю хроники дибила. автора не подскажете?\\n',\n",
       " 'короче если вы не сомостоятельный то лаунчем проще чекать плюс он не только том мерс\\n',\n",
       " 'да уж, чел не шизофренией заболел, а просто осознал реальность..)\\n',\n",
       " 'выкинули всяких помойных хмырей, это же на пользу цивилизации. ты посмотри кто со стороны палестины лезет, они же там с детства шахиды-террористы.\\n',\n",
       " 'ты ж не знаешь, сколько у этого коли денег.\\n',\n",
       " 'нз-менты: здравствуйте, админ пиндосского форума. у вас на форуме брендон писал всякое про шутинг, мы бы хотели всё это скачать себе на флэшку. расскажите, как и что для этого нужно. имейте ввиду, что это письмо под нашим законом номер 50, короч низя его никому показывать и вообще кококо. админ: вы че, охуели пидоры, нихуя я вам не дам. я вообще у себя тут сам это все постил, видосы там, и всякое. ебнулись там совсем со своей цензурой. нахуй двигайте. меня зовут джошуа, мой адрес - пиндосия, такая-то улица такой-то дом, пишите письма мелким почерком. и в очко себе суньте свой закон номер 50. нахуй и вас и вашу говнострану. нз-менты: спасибо за быстрый ответ. мы подумаем.\\n',\n",
       " 'о, типичная яжемать что ли? заказывай еду на дом, нанимай няню, думай. дорого? твои проблемы. решение рожать было твоим. а вот подумать о неудобствах, которые ты создаешь своей коляской в магазинах, где и без того узкие проходы, у яжематери наверное вообще в голову не приходит? интересно откуда такое мировоззрение берется у некоторых что им все должны?',\n",
       " 'у барашка есть подруга-кошка) одна из ранних моих вышивок этой серии духов)\\n',\n",
       " 'покажи мне правила что нельзя танцевать на твоей машине? мочиться на твою дверь? ук рф статья 167. умышленные уничтожение или повреждение имущества показывать твоему ребенку член? ук рф статья 135. развратные действия совершение развратных действий без применения насилия лицом, достигшим восемнадцатилетнего возраста, в отношении лица, не достигшего шестнадцатилетнего возраста,. слушай я понимаю что тебе очень хочется мне доказать что танцевать лезгинку на территории мемориала незаконно,но твои познания в юриспруденции настолько ничтожны что я бы тебе посоветовал идти с богом и не смешить людей\\n',\n",
       " 'но отбитый тут ты. ну нафантазировал, ошибся, обострение у меня весеннее, но нахуя ты мне отвечаешь то тогда? чтобы убедить себя в том, что я не прав? да, пожалуйста, я не сопротивляюсь, ты прав во все.\\n',\n",
       " 'а хохлов не напугал рост цен. в этом вся разница.\\n',\n",
       " 'вот это правильно, ящитаю. давно уже пора вести себя охуевше и нагло, как ебучая либерастня со швитыми. нагло пиздеть и переебывать.\\n',\n",
       " 'чувак, ты подписал договор с суммой 68 тыс.? ты уже оплатил? если оба ответа да - смирись, ты лох, без обид.\\n',\n",
       " 'пчелы любят нектар, мухи любят говно - значит оба утверждают, что было хорошо и спора никакого нету. автор этого мема идиот.',\n",
       " 'а аргентина не дно разве как и остальная латинопиндосская параша? там в отличие от расейской параши хотя бы климат норм. ну а вообще, с её деньгами, в любой дыре жизнь будет раем казаться.\\n',\n",
       " 'два дебила... второму просто не фортануло...\\n',\n",
       " 'пошло ты нахуе моральнопетушиное, клуб мамкиных защитников находится на два блока ниже\\n',\n",
       " 'говорила ей бабушка - ешь не торопясь, подавишься...\\n',\n",
       " 'из-за яек подбитых сошел?\\n',\n",
       " 'а что она сделала? просто стоять рядом - за это в рашке не сажают. пока.\\n',\n",
       " 'охренеть.. ты так коньки отбросишь,дуй в магазин за продуктами,ешь шоколад,кофе,орехи.. короче набирайся сил, и дуй к психотерапевту.. и вообще выходи из дома чаще,хотя бы на те же собеседования,и хуй с ними что откажут,вода камень точит,в результате найдешь работу,короче действуй а не рассуждай,не болей вобщем.. тебе есть ради кого жить,а умереть мы всегда успеем..\\n',\n",
       " 'что за дебилная превычка сразу делать свои ебанутые выводы. почему бы сразу не спросить у ребенка типо почему полусладкое, ребенок бы вполне понятно ситуацию обьяснил.\\n',\n",
       " 'запретить покидать свои регионы, где родился там и пригодился лол. ты догадываешься, что у тебя спецы массово попрут не в другие регионы, а вообще нахуй из страны? только и останется, что зарубежных спецов привлекать. твой prism массово отсосёт у i2p, будешь хранить эксабайты бессмысленных байтов.',\n",
       " 'щас бы вот еще в донецки всякие отдыхать ездить. нет, спасибо.\\n',\n",
       " 'плюс питнадцать лахтадырка в долбильню!!!!!!\\n',\n",
       " 'когда чмо начинает кукарекать про отсутствие прогресса - он тупо занимается софистикой ради софистики. здесь же он по сути зачитал верту лекцию о том что такое интерсекциональность\\n',\n",
       " 'добрых дел мастер с похмелья злой\\n',\n",
       " 'а, вот, нагуглилось - видосик сверху ну да, выходит, что загорелось и подъезды разъебало, но здание целиком не разрушилось',\n",
       " 'прекрасно. только кроме этих 2 долбоклюев пострадают и нормальные люди.\\n',\n",
       " 'хуесос и пидорас. подмазывается к каким-то интеллктуалам, хотя сам по сути ничего не сделал, только языком пиздит.\\n',\n",
       " 'супер клей и сода хрен оторвешь\\n',\n",
       " 'глубоко пофигу? тем не менее ты вывалил историю на всеобщее обозрение. для чего? для одобрения какой ты крутой нескандалящий? или ищешь одобрения в убеждении что вокруг все педорасы?\\n',\n",
       " 'это называется яжемать моему дитячку сделали лишнюю прививку, увольте эту суку\\n',\n",
       " 'а ну-ка расскажи мне, как зевсова вера пифагора задушила? в наши дни, спору нет, бритва оккама позволила отсечь религию от социальной этики, как необязательное для существования этики понятие, но давайте вспомним, что именно религия служила связью народов во времена феодальной раздробленности, то есть сама по себе религия - это и есть основа этики, да и уильям оккамский, на секундочку - дитя религии.\\n',\n",
       " 'а теперь покажите семью которая приняла хохла беженца бегущего от зверства путина на драмнбасе.\\n',\n",
       " 'лабковский по ним плачет\\n',\n",
       " 'безвиз не позволяет жить и работать в ес, хохлы там нахуй никому не нужны, без виз только для туристических целей.\\n',\n",
       " 'может я дибил, но когда тебе говорят иди в жопу, то может не стоит с таким встречаться? p.s. а вот худеть надо. я про то. что если ты дорожишь кем-то, то зачем подобное говорить, есть куда больше слов, чтобы высказать свое нет. а девушки ещё больше почему-то это любят ) я хз )\\n',\n",
       " 'вот и нажрали себе сд 2 типа.\\n',\n",
       " 'нy вот они и спойокно сидели пока их не начали электрошоком пытать ради повышения. ты бyдто не при капитализме живешь.',\n",
       " 'откуда у вас мобила трупа (и не вы ли это), который пытался взорвать белый дом при помощи мешка гексагена, предварительно послав нахуй архиерея в храме христа спасителя, а после самоубился семью ударами топора в спину. на этом моменте возрыдал от смеха, спасибо чувак! и за советы огромное спасибо, ты нереально крут!\\n',\n",
       " 'будто я смотрю что то не на торренте.....\\n',\n",
       " 'ну и дебил, теперь на него дело заведут и еще деньгами ущерб возмещать будет\\n',\n",
       " 'уточнил просто. людей меньше 25 лвл считаю пробником человека. но самоутверждением здесь не пахнет.',\n",
       " 'моча сюда не заходит и как привлекать их внимание? флешмоб организовать что-ли? если будешь надоедать моче борьбой с поехавшим, то сам будешь не сильно отличаться от поехавшего. спейсачерам просто пора научиться игнорировать этого идиота и просто бампать другие треды, вместо того чтобы отвечать шизику. всё равно никто не хочет с ним говорить, но у него реально в голове иллюзия создается, что он какой-то интересный человек, хотя по сути ему на лицо ссут, а он думает что с ним нормально общаются. я думаю с ним в жизни никто не общается и даже когда ему на лицо ссут, банят, посылают нахуй, он думает что это общение и радуется как ребенок.\\n']"
      ]
     },
     "execution_count": 265,
     "metadata": {},
     "output_type": "execute_result"
    }
   ],
   "source": [
    "list(false_negatives)"
   ]
  },
  {
   "cell_type": "markdown",
   "metadata": {},
   "source": [
    "# War in Ukraine Dataset"
   ]
  },
  {
   "cell_type": "code",
   "execution_count": 146,
   "metadata": {},
   "outputs": [],
   "source": [
    "#Quelle: https://www.kaggle.com/datasets/ustyk5/war-in-ukraine-russian-social-network-discussions\n",
    "import pandas as pd\n",
    "\n",
    "\n",
    "pd.set_option(\"display.max_colwidth\", None)\n",
    "#inform_dataset = pd.read_csv(\"information_war_dataset.csv\", encoding=\"utf-16\")\n",
    "\n",
    "import warnings\n",
    "warnings.simplefilter(action='ignore', category=FutureWarning)"
   ]
  },
  {
   "cell_type": "code",
   "execution_count": 58,
   "metadata": {},
   "outputs": [],
   "source": [
    "#inform_dataset.head()"
   ]
  },
  {
   "cell_type": "code",
   "execution_count": 32,
   "metadata": {},
   "outputs": [],
   "source": [
    "#inform_dataset = inform_dataset[inform_dataset['text'].str.strip().str.len()>0]\n",
    "#inform_dataset = inform_dataset[inform_dataset['text'].str.len()<281]"
   ]
  },
  {
   "cell_type": "code",
   "execution_count": 33,
   "metadata": {},
   "outputs": [],
   "source": [
    "#inform_dataset = inform_dataset['text']"
   ]
  },
  {
   "cell_type": "code",
   "execution_count": 34,
   "metadata": {},
   "outputs": [
    {
     "data": {
      "text/plain": [
       "(279018,)"
      ]
     },
     "execution_count": 34,
     "metadata": {},
     "output_type": "execute_result"
    }
   ],
   "source": [
    "#inform_dataset.drop_duplicates(inplace=True)\n",
    "#inform_dataset.shape"
   ]
  },
  {
   "cell_type": "code",
   "execution_count": 35,
   "metadata": {},
   "outputs": [],
   "source": [
    "#inform_dataset = inform_dataset.iloc[:int(20000)]"
   ]
  },
  {
   "cell_type": "code",
   "execution_count": 36,
   "metadata": {},
   "outputs": [],
   "source": [
    "#inform_dataset.to_csv('war_dataset_snip.csv', index=False)"
   ]
  },
  {
   "cell_type": "code",
   "execution_count": 177,
   "metadata": {},
   "outputs": [],
   "source": [
    "import pandas as pd\n",
    "pd.set_option(\"display.max_colwidth\", None)\n",
    "inform_dataset = pd.read_csv(\"war_dataset_snip.csv\", encoding=\"utf-8\")\n",
    "\n",
    "import warnings\n",
    "warnings.simplefilter(action='ignore', category=FutureWarning)"
   ]
  },
  {
   "cell_type": "code",
   "execution_count": 178,
   "metadata": {},
   "outputs": [
    {
     "data": {
      "text/html": [
       "<div>\n",
       "<style scoped>\n",
       "    .dataframe tbody tr th:only-of-type {\n",
       "        vertical-align: middle;\n",
       "    }\n",
       "\n",
       "    .dataframe tbody tr th {\n",
       "        vertical-align: top;\n",
       "    }\n",
       "\n",
       "    .dataframe thead th {\n",
       "        text-align: right;\n",
       "    }\n",
       "</style>\n",
       "<table border=\"1\" class=\"dataframe\">\n",
       "  <thead>\n",
       "    <tr style=\"text-align: right;\">\n",
       "      <th></th>\n",
       "      <th>text</th>\n",
       "    </tr>\n",
       "  </thead>\n",
       "  <tbody>\n",
       "    <tr>\n",
       "      <th>5</th>\n",
       "      <td>Это дебилизм. К спецоперациям нужно готовится. Подбирать правильных оперов. В некоторых случаях имеет смысл менять навыки. А когда у тебя рандом это уже Вызов, а не спецуха. Это хреновая затея, которая ещё больше закопает этот режим.</td>\n",
       "    </tr>\n",
       "    <tr>\n",
       "      <th>6</th>\n",
       "      <td>[id629168998|Иван], кусок ебаната тупоголового, Роман Стащенко и Владимир Кузнецов погибли по время спецоперации в Дагестане, на кой ты приплетаешь их к конфликту на Донбассе, идиотина укрожопая?</td>\n",
       "    </tr>\n",
       "    <tr>\n",
       "      <th>7</th>\n",
       "      <td>Сейчас в игре наблюдается забавный баг: каждый бой спецоперация сменяется на случайную. А может это не баг, а фича? Может так даже интереснее? Поправят завтра после тех.работ.</td>\n",
       "    </tr>\n",
       "    <tr>\n",
       "      <th>8</th>\n",
       "      <td>Так называемая операция по срыву массовых беспорядков, которые якобы готовились в Киеве и регионах Украины, оказалась фейком. Об этом в эфире интернет-канала «Капитал» заявил политолог Дмитрий Джангиров, передает корреспондент «ПолитНавигатора».</td>\n",
       "    </tr>\n",
       "    <tr>\n",
       "      <th>9</th>\n",
       "      <td>Ну с киа незнаю.,а мазду сам владелец нашёл по трекеру, ещё и целую спецоперацию на два дня организовал.</td>\n",
       "    </tr>\n",
       "  </tbody>\n",
       "</table>\n",
       "</div>"
      ],
      "text/plain": [
       "                                                                                                                                                                                                                                                    text\n",
       "5              Это дебилизм. К спецоперациям нужно готовится. Подбирать правильных оперов. В некоторых случаях имеет смысл менять навыки. А когда у тебя рандом это уже Вызов, а не спецуха. Это хреновая затея, которая ещё больше закопает этот режим.\n",
       "6                                                    [id629168998|Иван], кусок ебаната тупоголового, Роман Стащенко и Владимир Кузнецов погибли по время спецоперации в Дагестане, на кой ты приплетаешь их к конфликту на Донбассе, идиотина укрожопая?\n",
       "7                                                                        Сейчас в игре наблюдается забавный баг: каждый бой спецоперация сменяется на случайную. А может это не баг, а фича? Может так даже интереснее? Поправят завтра после тех.работ.\n",
       "8  Так называемая операция по срыву массовых беспорядков, которые якобы готовились в Киеве и регионах Украины, оказалась фейком. Об этом в эфире интернет-канала «Капитал» заявил политолог Дмитрий Джангиров, передает корреспондент «ПолитНавигатора».\n",
       "9                                                                                                                                               Ну с киа незнаю.,а мазду сам владелец нашёл по трекеру, ещё и целую спецоперацию на два дня организовал."
      ]
     },
     "execution_count": 178,
     "metadata": {},
     "output_type": "execute_result"
    }
   ],
   "source": [
    "inform_dataset[5:10]"
   ]
  },
  {
   "cell_type": "code",
   "execution_count": 179,
   "metadata": {},
   "outputs": [],
   "source": [
    "import re\n",
    "def remove_links(column):\n",
    "    return re.sub('((www.[^s]+)|(https?://[^s]+))', ' ',column)\n",
    "inform_dataset = inform_dataset['text'].apply(lambda column: remove_links(column))"
   ]
  },
  {
   "cell_type": "code",
   "execution_count": 180,
   "metadata": {},
   "outputs": [],
   "source": [
    "inform_copy = inform_dataset.copy()"
   ]
  },
  {
   "cell_type": "code",
   "execution_count": 181,
   "metadata": {},
   "outputs": [],
   "source": [
    "def remove_ids(column):\n",
    "    return re.sub('(\\[)(id)([0-9]+)(\\|)[А-яЁё]+(\\])', ' ', column)\n",
    "inform_dataset_text = inform_dataset.apply(lambda column: remove_ids(column))"
   ]
  },
  {
   "cell_type": "code",
   "execution_count": 182,
   "metadata": {},
   "outputs": [
    {
     "name": "stderr",
     "output_type": "stream",
     "text": [
      "[nltk_data] Downloading package stopwords to\n",
      "[nltk_data]     /Users/ekaterinakastaleva/nltk_data...\n",
      "[nltk_data]   Package stopwords is already up-to-date!\n"
     ]
    }
   ],
   "source": [
    "import nltk\n",
    "nltk.download(\"stopwords\")\n",
    "from nltk.corpus import stopwords\n",
    "russian_stopwords = stopwords.words(\"russian\")"
   ]
  },
  {
   "cell_type": "code",
   "execution_count": 183,
   "metadata": {},
   "outputs": [],
   "source": [
    "import spacy\n",
    "from spacy import displacy\n",
    "from collections import Counter\n",
    "nlp = spacy.load('ru_core_news_sm')\n",
    "def prep(column, threshold = 1):\n",
    "    threshold = threshold\n",
    "    tokens = [word.lemma_ for word in nlp(column.lower())]\n",
    "    tokens = [token for token in tokens if token not in russian_stopwords\\\n",
    "             and token !=\" \" \\\n",
    "             and token.strip() not in punctuation]\n",
    "    column = \" \".join([word for word in tokens if len(word) > threshold])\n",
    "    return re.sub('[0-9]+', '', column)"
   ]
  },
  {
   "cell_type": "code",
   "execution_count": 184,
   "metadata": {},
   "outputs": [],
   "source": [
    "from string import punctuation\n",
    "inform_dataset_text = inform_dataset_text.apply(lambda column: prep(column))"
   ]
  },
  {
   "cell_type": "code",
   "execution_count": 185,
   "metadata": {},
   "outputs": [],
   "source": [
    "from sklearn.feature_extraction.text import TfidfVectorizer \n",
    "import pickle"
   ]
  },
  {
   "cell_type": "code",
   "execution_count": 186,
   "metadata": {},
   "outputs": [],
   "source": [
    "vect_file = 'vectorizer'\n",
    "with open(vect_file, 'rb') as file:\n",
    "    vectorizer = pickle.load(file)"
   ]
  },
  {
   "cell_type": "code",
   "execution_count": 187,
   "metadata": {},
   "outputs": [],
   "source": [
    "XX = vectorizer.fit_transform(inform_dataset_text).toarray()"
   ]
  },
  {
   "cell_type": "code",
   "execution_count": 188,
   "metadata": {},
   "outputs": [],
   "source": [
    "import numpy as np"
   ]
  },
  {
   "cell_type": "code",
   "execution_count": 189,
   "metadata": {},
   "outputs": [],
   "source": [
    "from nltk.tokenize import TweetTokenizer\n",
    "tweet_tokenizer = TweetTokenizer()\n",
    "list_of_tok_tweets_uk = []\n",
    "for f in inform_dataset_text:\n",
    "    tweets = tweet_tokenizer.tokenize(f)\n",
    "    list_of_tok_tweets_uk.append(tweets)"
   ]
  },
  {
   "cell_type": "code",
   "execution_count": 190,
   "metadata": {},
   "outputs": [],
   "source": [
    "list_of_tweet_tags_uk = []\n",
    "for f in list_of_tok_tweets_uk:\n",
    "    tags = nlp(\" \".join(f))\n",
    "    list_of_tweet_tags_uk.append(\" \".join([token.tag_ for token in tags]))"
   ]
  },
  {
   "cell_type": "code",
   "execution_count": 191,
   "metadata": {},
   "outputs": [],
   "source": [
    "pos_file = 'pos'\n",
    "with open(pos_file, 'rb') as file:\n",
    "    pos_vect = pickle.load(file)"
   ]
  },
  {
   "cell_type": "code",
   "execution_count": 192,
   "metadata": {},
   "outputs": [],
   "source": [
    "pos_xx = pos_vectorizer.transform(pd.Series(list_of_tweet_tags_uk)).toarray()"
   ]
  },
  {
   "cell_type": "code",
   "execution_count": 193,
   "metadata": {},
   "outputs": [
    {
     "data": {
      "application/vnd.jupyter.widget-view+json": {
       "model_id": "802fcbb09035448b9d30c4988190513f",
       "version_major": 2,
       "version_minor": 0
      },
      "text/plain": [
       "HBox(children=(HTML(value='Downloading'), FloatProgress(value=0.0, max=1104.0), HTML(value='')))"
      ]
     },
     "metadata": {},
     "output_type": "display_data"
    },
    {
     "name": "stdout",
     "output_type": "stream",
     "text": [
      "\n"
     ]
    }
   ],
   "source": [
    "#Quelle: https://huggingface.co/sismetanin/rubert-ru-sentiment-rusentiment\n",
    "#from polyglot.text import Text as T\n",
    "\n",
    "import textstat\n",
    "textstat.set_lang('ru')\n",
    "\n",
    "from transformers import pipeline\n",
    "classifier = pipeline(model='sismetanin/rubert-ru-sentiment-rusentiment', max_length=512, truncation=True)"
   ]
  },
  {
   "cell_type": "code",
   "execution_count": 194,
   "metadata": {},
   "outputs": [],
   "source": [
    "def feature(text, cleaned):\n",
    "    polarity = classifier(text)[0]['score']\n",
    "    syllables = textstat.syllable_count(cleaned)\n",
    "    num_chars = sum(len(w) for w in cleaned)\n",
    "    num_chars_total = len(text)\n",
    "    num_terms = len(text.split())\n",
    "    num_words = len(cleaned.split())\n",
    "    avg_syl = round(float((syllables + 0.001))/ float(num_words + 0.001),4)\n",
    "    num_unique_terms = len(set(cleaned.split()))\n",
    "    FKRA = round(float(0.39 * float(num_words)/1.0) + float(11.8 * avg_syl) - 15.59,1)\n",
    "    FRE = round(206.835 - 1.015 * (float(num_words)/1.0) - (84.6 * float(avg_syl)),2)\n",
    "    features = [FKRA, FRE, syllables, avg_syl, num_chars, num_chars_total, num_terms, num_words, num_unique_terms, polarity]\n",
    "    return features"
   ]
  },
  {
   "cell_type": "code",
   "execution_count": 195,
   "metadata": {},
   "outputs": [],
   "source": [
    "other_features_uk = pd.concat([inform_dataset_text, inform_copy.rename(\"orig\")], axis = 1).apply(lambda row: feature(row['orig'], row['text']), axis=1)"
   ]
  },
  {
   "cell_type": "code",
   "execution_count": 196,
   "metadata": {},
   "outputs": [],
   "source": [
    "all_features_uk = np.concatenate([XX, pos_xx, np.array(list(other_features_uk))], axis = 1)\n"
   ]
  },
  {
   "cell_type": "code",
   "execution_count": 197,
   "metadata": {},
   "outputs": [],
   "source": [
    "scaler_file = 'scaler'\n",
    "model_file = 'model'\n",
    "with open(scaler_file, 'rb') as file:\n",
    "    sc = pickle.load(file)\n",
    "with open(model_file, 'rb') as file:\n",
    "    svc = pickle.load(file)"
   ]
  },
  {
   "cell_type": "code",
   "execution_count": 198,
   "metadata": {},
   "outputs": [],
   "source": [
    "prediction_uk = svc.predict(sc.transform(all_features_uk))"
   ]
  },
  {
   "cell_type": "code",
   "execution_count": 199,
   "metadata": {},
   "outputs": [],
   "source": [
    "np.savetxt(\"prediction.npy\",prediction_uk)"
   ]
  },
  {
   "cell_type": "code",
   "execution_count": 200,
   "metadata": {},
   "outputs": [
    {
     "data": {
      "text/plain": [
       "10318"
      ]
     },
     "execution_count": 200,
     "metadata": {},
     "output_type": "execute_result"
    }
   ],
   "source": [
    "sum(prediction_uk ==1.)"
   ]
  },
  {
   "cell_type": "code",
   "execution_count": 201,
   "metadata": {},
   "outputs": [],
   "source": [
    "neg = int(sum(prediction_uk == 1.))"
   ]
  },
  {
   "cell_type": "code",
   "execution_count": 202,
   "metadata": {},
   "outputs": [],
   "source": [
    "pos = int(sum(prediction_uk == 0.))"
   ]
  },
  {
   "cell_type": "code",
   "execution_count": 203,
   "metadata": {},
   "outputs": [],
   "source": [
    "import matplotlib.pyplot as plt"
   ]
  },
  {
   "cell_type": "code",
   "execution_count": 204,
   "metadata": {},
   "outputs": [
    {
     "data": {
      "image/png": "[encoded data removed]",
      "text/plain": [
       "<Figure size 720x504 with 1 Axes>"
      ]
     },
     "metadata": {},
     "output_type": "display_data"
    }
   ],
   "source": [
    "labels = ['1.0','0.']\n",
    "data = [neg, pos]\n",
    "colors = ('brown', 'orange')\n",
    "wp = {'linewidth': 1, 'edgecolor': 'green'}\n",
    "def func(pct, allvalues):\n",
    "    absolute = int(pct / 100.*np.sum(allvalues))\n",
    "    return \"{:.1f}%\\n({:d} comments)\".format(pct, absolute)\n",
    "\n",
    "fig, ax = plt.subplots(figsize =(10,7))\n",
    "wedges, texts, grafik_text = ax.pie(data,\n",
    "                                 autopct = lambda pct: func(pct, data),\n",
    "                                 labels = labels,\n",
    "                                 shadow = True,\n",
    "                                 colors = colors,\n",
    "                                 startangle = 90,\n",
    "                                 wedgeprops = wp,\n",
    "                                 textprops = dict(color = 'black'))\n",
    "ax.legend(wedges, labels,\n",
    "         title = \"Labels\",\n",
    "         loc = \"center left\",\n",
    "         bbox_to_anchor = (1,0,0.5, 1))\n",
    "plt.setp(grafik_text, size = 10)\n",
    "ax.set_title('Verteilung von der toxischen/nicht toxischen Rede im Dataset')\n",
    "plt.show()"
   ]
  },
  {
   "cell_type": "code",
   "execution_count": 315,
   "metadata": {},
   "outputs": [],
   "source": [
    "index_uk = np.where(prediction_uk == 0.)"
   ]
  },
  {
   "cell_type": "code",
   "execution_count": 316,
   "metadata": {},
   "outputs": [
    {
     "name": "stdout",
     "output_type": "stream",
     "text": [
      "(array([    1,     7,     9,    11,    12,    13,    14,    15,    16,\n",
      "          18,    19,    22,    23,    25,    27,    33,    35,    39,\n",
      "          40,    41,    45,    46,    49,    53,    54,    59,    60,\n",
      "          63,    66,    67,    68,    71,    72,    84,    85,    87,\n",
      "          91,    94,    99,   110,   112,   117,   122,   123,   124,\n",
      "         128,   129,   130,   132,   133,   136,   146,   147,   148,\n",
      "         150,   151,   152,   157,   158,   159,   161,   162,   164,\n",
      "         166,   168,   169,   173,   175,   176,   177,   178,   179,\n",
      "         181,   182,   183,   185,   186,   187,   188,   191,   192,\n",
      "         193,   195,   197,   200,   201,   203,   204,   205,   206,\n",
      "         208,   211,   212,   213,   214,   216,   219,   221,   224,\n",
      "         227,   229,   231,   232,   233,   235,   236,   237,   238,\n",
      "         239,   240,   241,   243,   249,   252,   253,   254,   255,\n",
      "         257,   263,   265,   268,   269,   270,   272,   273,   277,\n",
      "         278,   280,   281,   282,   285,   289,   290,   295,   296,\n",
      "         298,   300,   301,   302,   303,   304,   305,   306,   312,\n",
      "         313,   314,   316,   319,   320,   322,   323,   325,   326,\n",
      "         328,   331,   334,   335,   338,   339,   341,   342,   344,\n",
      "         347,   348,   350,   352,   353,   356,   357,   358,   361,\n",
      "         363,   365,   366,   367,   370,   371,   372,   376,   377,\n",
      "         378,   379,   382,   383,   384,   386,   387,   389,   390,\n",
      "         392,   399,   401,   403,   404,   409,   410,   412,   413,\n",
      "         414,   415,   416,   418,   419,   422,   423,   428,   430,\n",
      "         433,   434,   436,   439,   440,   443,   444,   445,   452,\n",
      "         456,   464,   466,   470,   475,   477,   481,   482,   483,\n",
      "         485,   488,   493,   495,   498,   502,   503,   504,   506,\n",
      "         507,   509,   510,   511,   512,   513,   514,   515,   516,\n",
      "         517,   520,   524,   526,   527,   531,   535,   536,   538,\n",
      "         540,   542,   543,   545,   547,   548,   549,   550,   551,\n",
      "         554,   555,   557,   558,   559,   562,   563,   564,   566,\n",
      "         567,   568,   569,   570,   573,   581,   582,   583,   584,\n",
      "         587,   588,   590,   591,   592,   593,   595,   596,   597,\n",
      "         598,   600,   602,   603,   606,   607,   608,   611,   613,\n",
      "         614,   615,   617,   618,   621,   622,   625,   626,   627,\n",
      "         633,   634,   635,   638,   640,   641,   643,   650,   657,\n",
      "         660,   661,   662,   663,   664,   666,   667,   668,   670,\n",
      "         671,   672,   674,   675,   677,   682,   683,   684,   685,\n",
      "         689,   690,   691,   692,   693,   695,   697,   699,   700,\n",
      "         701,   702,   703,   704,   705,   706,   707,   708,   711,\n",
      "         714,   720,   721,   722,   723,   724,   725,   726,   727,\n",
      "         729,   739,   742,   750,   751,   754,   756,   758,   759,\n",
      "         763,   764,   765,   766,   769,   771,   772,   773,   779,\n",
      "         786,   788,   795,   799,   801,   804,   808,   809,   810,\n",
      "         812,   820,   824,   825,   827,   833,   835,   837,   838,\n",
      "         840,   844,   849,   852,   853,   854,   855,   857,   859,\n",
      "         860,   862,   864,   867,   868,   869,   871,   872,   873,\n",
      "         875,   878,   880,   888,   890,   891,   894,   896,   897,\n",
      "         900,   902,   903,   904,   905,   906,   908,   915,   917,\n",
      "         918,   919,   922,   923,   924,   928,   929,   931,   932,\n",
      "         933,   934,   935,   936,   938,   942,   943,   944,   945,\n",
      "         949,   951,   952,   953,   954,   955,   956,   957,   958,\n",
      "         959,   960,   961,   962,   968,   969,   972,   973,   976,\n",
      "         985,   986,   987,   988,   989,   992,   993,   995,   996,\n",
      "        1001,  1003,  1004,  1006,  1007,  1008,  1009,  1011,  1012,\n",
      "        1015,  1019,  1020,  1021,  1023,  1027,  1030,  1031,  1032,\n",
      "        1034,  1035,  1036,  1040,  1042,  1043,  1045,  1048,  1049,\n",
      "        1050,  1052,  1056,  1058,  1060,  1062,  1063,  1065,  1066,\n",
      "        1068,  1069,  1073,  1075,  1079,  1084,  1085,  1086,  1087,\n",
      "        1088,  1093,  1096,  1098,  1100,  1102,  1103,  1106,  1107,\n",
      "        1110,  1112,  1117,  1122,  1123,  1124,  1125,  1127,  1132,\n",
      "        1133,  1136,  1137,  1141,  1144,  1146,  1147,  1150,  1154,\n",
      "        1155,  1156,  1159,  1161,  1162,  1163,  1164,  1166,  1168,\n",
      "        1170,  1173,  1179,  1180,  1181,  1185,  1195,  1198,  1199,\n",
      "        1202,  1204,  1207,  1210,  1216,  1217,  1218,  1220,  1221,\n",
      "        1222,  1224,  1228,  1229,  1230,  1231,  1233,  1234,  1235,\n",
      "        1236,  1237,  1246,  1248,  1250,  1254,  1256,  1259,  1263,\n",
      "        1264,  1269,  1275,  1276,  1277,  1280,  1281,  1285,  1287,\n",
      "        1289,  1291,  1292,  1293,  1299,  1301,  1303,  1305,  1306,\n",
      "        1308,  1317,  1323,  1325,  1327,  1328,  1329,  1330,  1332,\n",
      "        1333,  1334,  1335,  1337,  1339,  1340,  1342,  1343,  1345,\n",
      "        1346,  1347,  1348,  1351,  1353,  1354,  1356,  1357,  1359,\n",
      "        1360,  1361,  1362,  1364,  1367,  1370,  1371,  1373,  1374,\n",
      "        1375,  1376,  1379,  1385,  1388,  1389,  1390,  1391,  1392,\n",
      "        1395,  1396,  1397,  1398,  1404,  1410,  1411,  1412,  1413,\n",
      "        1418,  1421,  1423,  1425,  1427,  1429,  1434,  1435,  1438,\n",
      "        1440,  1444,  1445,  1446,  1448,  1449,  1450,  1451,  1453,\n",
      "        1455,  1457,  1458,  1459,  1460,  1461,  1462,  1463,  1468,\n",
      "        1469,  1470,  1472,  1474,  1479,  1482,  1483,  1484,  1485,\n",
      "        1486,  1487,  1489,  1490,  1494,  1495,  1496,  1497,  1498,\n",
      "        1499,  1500,  1501,  1502,  1505,  1507,  1510,  1511,  1512,\n",
      "        1513,  1517,  1518,  1520,  1521,  1523,  1525,  1530,  1531,\n",
      "        1532,  1533,  1535,  1538,  1539,  1543,  1545,  1548,  1550,\n",
      "        1551,  1552,  1555,  1557,  1559,  1560,  1562,  1563,  1566,\n",
      "        1569,  1570,  1571,  1572,  1573,  1574,  1575,  1577,  1579,\n",
      "        1580,  1581,  1582,  1585,  1586,  1591,  1592,  1599,  1600,\n",
      "        1601,  1603,  1604,  1608,  1609,  1611,  1612,  1614,  1615,\n",
      "        1616,  1617,  1618,  1619,  1628,  1629,  1630,  1636,  1637,\n",
      "        1646,  1649,  1650,  1652,  1654,  1655,  1658,  1659,  1660,\n",
      "        1663,  1665,  1666,  1668,  1671,  1672,  1673,  1675,  1677,\n",
      "        1678,  1684,  1685,  1686,  1687,  1690,  1695,  1696,  1698,\n",
      "        1703,  1709,  1710,  1711,  1713,  1715,  1719,  1725,  1726,\n",
      "        1727,  1728,  1729,  1730,  1733,  1735,  1737,  1740,  1742,\n",
      "        1743,  1746,  1747,  1755,  1760,  1762,  1764,  1765,  1766,\n",
      "        1768,  1769,  1770,  1782,  1783,  1785,  1786,  1789,  1797,\n",
      "        1801,  1812,  1815,  1816,  1821,  1825,  1828,  1829,  1830,\n",
      "        1835,  1836,  1838,  1843,  1844,  1845,  1846,  1854,  1856,\n",
      "        1858,  1862,  1863,  1864,  1865,  1866,  1868,  1870,  1872,\n",
      "        1873,  1877,  1881,  1885,  1890,  1893,  1895,  1906,  1917,\n",
      "        1921,  1925,  1926,  1929,  1930,  1931,  1933,  1934,  1936,\n",
      "        1941,  1942,  1943,  1946,  1947,  1948,  1951,  1952,  1954,\n",
      "        1956,  1958,  1959,  1961,  1963,  1965,  1967,  1968,  1972,\n",
      "        1973,  1978,  1981,  1983,  1986,  1989,  1990,  1992,  1999,\n",
      "        2001,  2006,  2007,  2008,  2009,  2012,  2013,  2015,  2023,\n",
      "        2025,  2027,  2034,  2035,  2036,  2045,  2046,  2048,  2050,\n",
      "        2051,  2057,  2058,  2060,  2061,  2063,  2064,  2066,  2073,\n",
      "        2074,  2076,  2080,  2081,  2084,  2088,  2089,  2091,  2094,\n",
      "        2095,  2097,  2099,  2100,  2101,  2104,  2110,  2111,  2117,\n",
      "        2118,  2119,  2120,  2122,  2123,  2124,  2125,  2131,  2133,\n",
      "        2134,  2137,  2138,  2139,  2143,  2144,  2145,  2147,  2153,\n",
      "        2159,  2162,  2163,  2164,  2165,  2176,  2178,  2181,  2193,\n",
      "        2197,  2202,  2203,  2210,  2214,  2215,  2217,  2218,  2219,\n",
      "        2228,  2229,  2231,  2240,  2244,  2245,  2249,  2250,  2252,\n",
      "        2253,  2259,  2260,  2268,  2270,  2274,  2276,  2277,  2281,\n",
      "        2283,  2285,  2286,  2287,  2288,  2292,  2298,  2301,  2302,\n",
      "        2305,  2307,  2309,  2311,  2312,  2314,  2322,  2324,  2331,\n",
      "        2334,  2338,  2339,  2341,  2342,  2344,  2348,  2351,  2352,\n",
      "        2354,  2356,  2358,  2359,  2360,  2363,  2366,  2371,  2372,\n",
      "        2376,  2381,  2389,  2392,  2393,  2395,  2397,  2398,  2400,\n",
      "        2403,  2404,  2405,  2407,  2410,  2411,  2412,  2413,  2414,\n",
      "        2425,  2427,  2432,  2433,  2435,  2438,  2439,  2442,  2443,\n",
      "        2446,  2449,  2454,  2457,  2458,  2460,  2467,  2471,  2472,\n",
      "        2475,  2476,  2478,  2480,  2484,  2487,  2489,  2492,  2493,\n",
      "        2494,  2496,  2497,  2498,  2500,  2501,  2502,  2503,  2504,\n",
      "        2505,  2507,  2509,  2510,  2513,  2514,  2516,  2519,  2521,\n",
      "        2523,  2524,  2525,  2527,  2529,  2530,  2531,  2535,  2536,\n",
      "        2537,  2540,  2542,  2543,  2547,  2552,  2553,  2554,  2555,\n",
      "        2556,  2563,  2564,  2565,  2566,  2567,  2571,  2573,  2574,\n",
      "        2576,  2580,  2582,  2583,  2584,  2588,  2594,  2601,  2603,\n",
      "        2606,  2607,  2608,  2615,  2617,  2625,  2627,  2631,  2632,\n",
      "        2633,  2634,  2635,  2636,  2637,  2638,  2639,  2641,  2642,\n",
      "        2643,  2644,  2651,  2652,  2653,  2656,  2657,  2658,  2664,\n",
      "        2665,  2668,  2672,  2673,  2676,  2677,  2679,  2680,  2681,\n",
      "        2682,  2684,  2685,  2688,  2690,  2693,  2694,  2695,  2697,\n",
      "        2700,  2702,  2704,  2705,  2707,  2711,  2713,  2715,  2716,\n",
      "        2718,  2720,  2722,  2735,  2738,  2741,  2748,  2750,  2751,\n",
      "        2754,  2755,  2762,  2764,  2767,  2772,  2773,  2781,  2782,\n",
      "        2786,  2788,  2789,  2796,  2798,  2799,  2800,  2801,  2804,\n",
      "        2808,  2812,  2813,  2817,  2820,  2822,  2823,  2827,  2832,\n",
      "        2835,  2836,  2838,  2842,  2844,  2845,  2846,  2847,  2848,\n",
      "        2850,  2852,  2854,  2856,  2858,  2859,  2861,  2862,  2870,\n",
      "        2871,  2873,  2876,  2878,  2880,  2886,  2887,  2888,  2891,\n",
      "        2892,  2893,  2895,  2897,  2899,  2900,  2903,  2905,  2909,\n",
      "        2910,  2911,  2913,  2914,  2915,  2916,  2917,  2925,  2933,\n",
      "        2935,  2936,  2937,  2938,  2940,  2945,  2946,  2947,  2950,\n",
      "        2956,  2962,  2963,  2964,  2965,  2967,  2968,  2969,  2971,\n",
      "        2972,  2976,  2977,  2980,  2981,  2982,  2985,  2986,  2987,\n",
      "        2990,  2991,  2994,  2995,  2997,  2999,  3000,  3001,  3002,\n",
      "        3004,  3008,  3013,  3014,  3015,  3017,  3018,  3020,  3027,\n",
      "        3029,  3032,  3033,  3034,  3036,  3042,  3043,  3046,  3048,\n",
      "        3049,  3050,  3052,  3055,  3056,  3059,  3060,  3061,  3063,\n",
      "        3065,  3068,  3071,  3073,  3075,  3076,  3078,  3081,  3082,\n",
      "        3090,  3096,  3097,  3100,  3102,  3103,  3104,  3106,  3111,\n",
      "        3114,  3116,  3117,  3119,  3120,  3122,  3123,  3124,  3131,\n",
      "        3132,  3134,  3137,  3144,  3147,  3150,  3153,  3154,  3155,\n",
      "        3158,  3159,  3165,  3168,  3174,  3177,  3179,  3180,  3182,\n",
      "        3183,  3185,  3186,  3187,  3193,  3196,  3201,  3207,  3209,\n",
      "        3211,  3212,  3216,  3217,  3219,  3225,  3228,  3229,  3231,\n",
      "        3239,  3241,  3243,  3246,  3248,  3250,  3251,  3253,  3254,\n",
      "        3257,  3260,  3263,  3265,  3267,  3269,  3270,  3271,  3273,\n",
      "        3275,  3276,  3277,  3280,  3281,  3285,  3290,  3292,  3293,\n",
      "        3294,  3295,  3296,  3298,  3299,  3302,  3303,  3309,  3310,\n",
      "        3313,  3314,  3319,  3325,  3326,  3328,  3331,  3332,  3335,\n",
      "        3336,  3338,  3340,  3343,  3347,  3349,  3356,  3362,  3363,\n",
      "        3365,  3368,  3370,  3371,  3373,  3376,  3377,  3380,  3383,\n",
      "        3388,  3389,  3393,  3394,  3397,  3398,  3401,  3402,  3403,\n",
      "        3405,  3407,  3412,  3413,  3414,  3416,  3418,  3419,  3420,\n",
      "        3422,  3423,  3425,  3430,  3432,  3435,  3437,  3441,  3445,\n",
      "        3446,  3447,  3448,  3450,  3451,  3456,  3459,  3460,  3461,\n",
      "        3464,  3465,  3466,  3468,  3469,  3473,  3474,  3476,  3477,\n",
      "        3479,  3480,  3481,  3483,  3485,  3486,  3487,  3489,  3490,\n",
      "        3494,  3496,  3497,  3498,  3501,  3503,  3504,  3505,  3506,\n",
      "        3509,  3510,  3511,  3512,  3515,  3523,  3529,  3532,  3542,\n",
      "        3544,  3545,  3546,  3547,  3548,  3549,  3550,  3551,  3553,\n",
      "        3555,  3556,  3559,  3561,  3562,  3563,  3564,  3566,  3567,\n",
      "        3568,  3570,  3574,  3575,  3576,  3581,  3582,  3584,  3585,\n",
      "        3587,  3589,  3593,  3594,  3595,  3596,  3597,  3598,  3599,\n",
      "        3600,  3601,  3602,  3603,  3605,  3606,  3608,  3611,  3614,\n",
      "        3620,  3622,  3624,  3628,  3629,  3631,  3636,  3638,  3641,\n",
      "        3644,  3648,  3650,  3651,  3652,  3656,  3658,  3661,  3663,\n",
      "        3665,  3666,  3667,  3668,  3669,  3671,  3672,  3673,  3677,\n",
      "        3680,  3683,  3684,  3689,  3691,  3695,  3698,  3704,  3710,\n",
      "        3713,  3714,  3717,  3718,  3719,  3724,  3726,  3729,  3734,\n",
      "        3735,  3738,  3739,  3740,  3745,  3747,  3749,  3750,  3752,\n",
      "        3753,  3755,  3757,  3758,  3760,  3761,  3763,  3766,  3768,\n",
      "        3769,  3770,  3773,  3775,  3777,  3780,  3781,  3783,  3784,\n",
      "        3785,  3786,  3787,  3789,  3791,  3792,  3794,  3795,  3798,\n",
      "        3799,  3801,  3807,  3808,  3812,  3817,  3820,  3824,  3828,\n",
      "        3829,  3831,  3832,  3833,  3836,  3837,  3839,  3841,  3843,\n",
      "        3844,  3847,  3848,  3849,  3851,  3853,  3854,  3855,  3859,\n",
      "        3866,  3867,  3868,  3872,  3876,  3877,  3878,  3879,  3880,\n",
      "        3881,  3886,  3888,  3889,  3890,  3891,  3892,  3896,  3901,\n",
      "        3902,  3903,  3904,  3906,  3907,  3908,  3909,  3910,  3912,\n",
      "        3913,  3914,  3916,  3917,  3919,  3920,  3922,  3924,  3925,\n",
      "        3929,  3930,  3932,  3936,  3938,  3939,  3940,  3942,  3943,\n",
      "        3945,  3946,  3947,  3950,  3951,  3953,  3955,  3960,  3963,\n",
      "        3965,  3966,  3967,  3968,  3970,  3971,  3972,  3974,  3983,\n",
      "        3984,  3985,  3986,  3987,  3988,  3992,  3994,  3995,  3996,\n",
      "        3997,  3998,  4001,  4004,  4005,  4006,  4007,  4008,  4009,\n",
      "        4010,  4011,  4012,  4015,  4017,  4018,  4020,  4021,  4022,\n",
      "        4024,  4025,  4026,  4027,  4028,  4030,  4031,  4032,  4033,\n",
      "        4036,  4038,  4039,  4045,  4046,  4051,  4053,  4057,  4059,\n",
      "        4060,  4063,  4066,  4068,  4071,  4072,  4073,  4075,  4076,\n",
      "        4080,  4082,  4083,  4085,  4086,  4087,  4088,  4090,  4091,\n",
      "        4092,  4096,  4097,  4098,  4100,  4102,  4104,  4106,  4107,\n",
      "        4108,  4110,  4111,  4114,  4116,  4117,  4118,  4119,  4121,\n",
      "        4123,  4125,  4126,  4128,  4129,  4130,  4137,  4138,  4139,\n",
      "        4141,  4144,  4146,  4147,  4150,  4152,  4153,  4156,  4158,\n",
      "        4160,  4161,  4164,  4165,  4166,  4168,  4169,  4171,  4172,\n",
      "        4173,  4176,  4178,  4181,  4185,  4188,  4191,  4192,  4193,\n",
      "        4194,  4195,  4198,  4199,  4200,  4204,  4208,  4209,  4212,\n",
      "        4214,  4216,  4218,  4219,  4221,  4222,  4225,  4226,  4228,\n",
      "        4233,  4234,  4235,  4236,  4237,  4239,  4240,  4242,  4244,\n",
      "        4245,  4248,  4250,  4259,  4260,  4268,  4270,  4273,  4277,\n",
      "        4279,  4285,  4286,  4287,  4288,  4292,  4296,  4298,  4299,\n",
      "        4301,  4302,  4303,  4307,  4309,  4312,  4313,  4315,  4316,\n",
      "        4317,  4319,  4320,  4323,  4325,  4331,  4333,  4335,  4336,\n",
      "        4337,  4338,  4339,  4340,  4343,  4345,  4346,  4347,  4348,\n",
      "        4350,  4351,  4352,  4353,  4356,  4358,  4361,  4364,  4365,\n",
      "        4366,  4367,  4368,  4371,  4373,  4374,  4375,  4379,  4382,\n",
      "        4384,  4385,  4386,  4388,  4391,  4392,  4393,  4394,  4395,\n",
      "        4400,  4401,  4402,  4404,  4406,  4410,  4413,  4415,  4416,\n",
      "        4417,  4419,  4421,  4422,  4423,  4427,  4429,  4433,  4438,\n",
      "        4442,  4443,  4445,  4446,  4448,  4450,  4454,  4457,  4458,\n",
      "        4460,  4461,  4464,  4466,  4468,  4470,  4472,  4474,  4479,\n",
      "        4480,  4481,  4483,  4484,  4489,  4490,  4495,  4503,  4504,\n",
      "        4506,  4507,  4508,  4509,  4511,  4512,  4513,  4516,  4517,\n",
      "        4518,  4520,  4523,  4524,  4526,  4529,  4530,  4531,  4542,\n",
      "        4550,  4551,  4552,  4553,  4554,  4557,  4558,  4559,  4563,\n",
      "        4567,  4568,  4569,  4572,  4578,  4581,  4582,  4584,  4587,\n",
      "        4588,  4593,  4594,  4595,  4596,  4600,  4601,  4603,  4608,\n",
      "        4609,  4610,  4611,  4613,  4615,  4616,  4618,  4622,  4625,\n",
      "        4626,  4627,  4628,  4630,  4631,  4632,  4633,  4634,  4637,\n",
      "        4638,  4639,  4641,  4643,  4644,  4645,  4646,  4647,  4648,\n",
      "        4649,  4652,  4654,  4656,  4657,  4658,  4661,  4662,  4666,\n",
      "        4668,  4672,  4674,  4677,  4678,  4679,  4683,  4685,  4692,\n",
      "        4694,  4695,  4696,  4697,  4698,  4702,  4703,  4704,  4707,\n",
      "        4708,  4709,  4710,  4711,  4712,  4714,  4715,  4716,  4719,\n",
      "        4721,  4722,  4724,  4728,  4729,  4731,  4733,  4737,  4742,\n",
      "        4743,  4744,  4749,  4750,  4751,  4753,  4758,  4759,  4763,\n",
      "        4765,  4767,  4769,  4770,  4771,  4775,  4776,  4779,  4780,\n",
      "        4783,  4784,  4785,  4789,  4796,  4802,  4803,  4807,  4809,\n",
      "        4810,  4811,  4818,  4819,  4820,  4822,  4823,  4825,  4826,\n",
      "        4829,  4834,  4837,  4839,  4840,  4843,  4844,  4845,  4846,\n",
      "        4847,  4849,  4850,  4851,  4852,  4854,  4858,  4864,  4871,\n",
      "        4873,  4875,  4876,  4877,  4879,  4881,  4882,  4883,  4887,\n",
      "        4889,  4890,  4894,  4895,  4896,  4898,  4901,  4903,  4905,\n",
      "        4914,  4916,  4918,  4919,  4920,  4921,  4923,  4925,  4926,\n",
      "        4931,  4932,  4933,  4936,  4938,  4939,  4940,  4942,  4943,\n",
      "        4944,  4945,  4946,  4948,  4951,  4953,  4956,  4957,  4958,\n",
      "        4959,  4962,  4964,  4967,  4968,  4969,  4971,  4973,  4975,\n",
      "        4976,  4978,  4982,  4983,  4984,  4985,  4987,  4990,  4993,\n",
      "        4995,  4996,  4998,  5000,  5001,  5002,  5003,  5006,  5007,\n",
      "        5009,  5010,  5013,  5020,  5021,  5022,  5023,  5027,  5031,\n",
      "        5032,  5033,  5034,  5036,  5037,  5038,  5040,  5041,  5042,\n",
      "        5043,  5044,  5045,  5048,  5051,  5054,  5055,  5057,  5060,\n",
      "        5061,  5062,  5063,  5064,  5067,  5069,  5070,  5071,  5073,\n",
      "        5076,  5077,  5080,  5085,  5087,  5088,  5089,  5090,  5092,\n",
      "        5094,  5096,  5098,  5100,  5101,  5106,  5110,  5112,  5113,\n",
      "        5115,  5116,  5117,  5119,  5120,  5121,  5125,  5128,  5133,\n",
      "        5134,  5136,  5137,  5138,  5139,  5140,  5141,  5142,  5143,\n",
      "        5145,  5147,  5148,  5149,  5150,  5151,  5152,  5153,  5154,\n",
      "        5161,  5162,  5163,  5164,  5165,  5168,  5174,  5175,  5176,\n",
      "        5178,  5179,  5183,  5187,  5190,  5191,  5192,  5196,  5197,\n",
      "        5198,  5199,  5200,  5201,  5202,  5203,  5204,  5205,  5207,\n",
      "        5210,  5211,  5213,  5214,  5215,  5216,  5218,  5222,  5223,\n",
      "        5226,  5227,  5228,  5229,  5232,  5234,  5235,  5239,  5240,\n",
      "        5241,  5242,  5243,  5245,  5249,  5251,  5256,  5259,  5260,\n",
      "        5262,  5263,  5264,  5265,  5266,  5267,  5270,  5271,  5272,\n",
      "        5273,  5274,  5275,  5276,  5277,  5281,  5282,  5284,  5286,\n",
      "        5290,  5291,  5292,  5293,  5294,  5295,  5296,  5301,  5302,\n",
      "        5306,  5308,  5314,  5315,  5316,  5317,  5318,  5321,  5322,\n",
      "        5324,  5325,  5329,  5330,  5331,  5334,  5341,  5345,  5346,\n",
      "        5347,  5348,  5350,  5355,  5357,  5359,  5360,  5363,  5365,\n",
      "        5366,  5367,  5377,  5379,  5380,  5381,  5384,  5385,  5388,\n",
      "        5390,  5391,  5392,  5393,  5395,  5401,  5404,  5405,  5406,\n",
      "        5408,  5411,  5414,  5416,  5417,  5418,  5421,  5422,  5423,\n",
      "        5424,  5425,  5427,  5430,  5431,  5432,  5435,  5437,  5440,\n",
      "        5441,  5446,  5447,  5449,  5450,  5451,  5452,  5454,  5455,\n",
      "        5456,  5457,  5458,  5459,  5464,  5467,  5468,  5474,  5475,\n",
      "        5477,  5478,  5480,  5484,  5486,  5489,  5492,  5493,  5494,\n",
      "        5495,  5496,  5498,  5502,  5505,  5507,  5508,  5510,  5511,\n",
      "        5512,  5513,  5514,  5515,  5518,  5519,  5521,  5522,  5524,\n",
      "        5526,  5528,  5529,  5530,  5531,  5532,  5535,  5536,  5538,\n",
      "        5540,  5542,  5545,  5547,  5549,  5552,  5553,  5554,  5556,\n",
      "        5557,  5559,  5561,  5564,  5567,  5571,  5573,  5574,  5577,\n",
      "        5578,  5580,  5581,  5586,  5589,  5590,  5594,  5596,  5597,\n",
      "        5601,  5604,  5606,  5607,  5608,  5609,  5611,  5616,  5620,\n",
      "        5621,  5622,  5626,  5627,  5628,  5631,  5632,  5633,  5638,\n",
      "        5639,  5640,  5642,  5644,  5646,  5647,  5649,  5651,  5653,\n",
      "        5663,  5664,  5665,  5669,  5671,  5674,  5679,  5680,  5685,\n",
      "        5686,  5687,  5696,  5702,  5703,  5704,  5706,  5707,  5708,\n",
      "        5710,  5711,  5714,  5716,  5733,  5734,  5735,  5736,  5739,\n",
      "        5741,  5744,  5746,  5747,  5749,  5750,  5752,  5753,  5754,\n",
      "        5755,  5757,  5758,  5760,  5763,  5764,  5765,  5766,  5769,\n",
      "        5770,  5771,  5772,  5773,  5774,  5775,  5776,  5778,  5779,\n",
      "        5780,  5782,  5784,  5787,  5790,  5792,  5793,  5794,  5798,\n",
      "        5801,  5806,  5807,  5808,  5809,  5810,  5815,  5816,  5821,\n",
      "        5822,  5823,  5832,  5834,  5836,  5839,  5843,  5844,  5850,\n",
      "        5851,  5854,  5859,  5860,  5863,  5866,  5867,  5868,  5869,\n",
      "        5870,  5871,  5873,  5874,  5875,  5876,  5879,  5881,  5883,\n",
      "        5885,  5887,  5888,  5890,  5891,  5892,  5897,  5898,  5899,\n",
      "        5902,  5906,  5907,  5908,  5909,  5910,  5913,  5923,  5924,\n",
      "        5926,  5927,  5928,  5931,  5932,  5935,  5936,  5938,  5939,\n",
      "        5946,  5949,  5951,  5952,  5954,  5955,  5960,  5961,  5962,\n",
      "        5968,  5976,  5977,  5979,  5982,  5983,  5985,  5987,  5988,\n",
      "        5994,  5997,  5999,  6000,  6002,  6003,  6006,  6007,  6009,\n",
      "        6010,  6015,  6018,  6019,  6021,  6022,  6023,  6024,  6026,\n",
      "        6027,  6028,  6029,  6033,  6034,  6035,  6036,  6037,  6039,\n",
      "        6044,  6045,  6046,  6049,  6053,  6054,  6055,  6057,  6058,\n",
      "        6061,  6066,  6068,  6076,  6077,  6078,  6080,  6084,  6085,\n",
      "        6086,  6087,  6088,  6091,  6093,  6094,  6098,  6100,  6101,\n",
      "        6102,  6103,  6104,  6105,  6107,  6108,  6111,  6115,  6116,\n",
      "        6117,  6119,  6121,  6122,  6128,  6129,  6133,  6136,  6138,\n",
      "        6139,  6141,  6142,  6143,  6144,  6145,  6146,  6147,  6148,\n",
      "        6150,  6152,  6153,  6154,  6156,  6157,  6158,  6159,  6160,\n",
      "        6161,  6162,  6163,  6164,  6167,  6168,  6169,  6170,  6172,\n",
      "        6174,  6175,  6178,  6179,  6181,  6182,  6185,  6186,  6187,\n",
      "        6189,  6190,  6191,  6193,  6196,  6197,  6198,  6200,  6201,\n",
      "        6202,  6203,  6205,  6206,  6208,  6210,  6211,  6213,  6215,\n",
      "        6216,  6217,  6222,  6223,  6224,  6227,  6229,  6231,  6234,\n",
      "        6238,  6240,  6241,  6243,  6244,  6246,  6248,  6249,  6254,\n",
      "        6261,  6269,  6270,  6272,  6274,  6276,  6279,  6280,  6283,\n",
      "        6284,  6285,  6287,  6289,  6290,  6291,  6292,  6293,  6294,\n",
      "        6295,  6298,  6299,  6302,  6303,  6304,  6305,  6306,  6307,\n",
      "        6308,  6309,  6310,  6313,  6317,  6318,  6322,  6325,  6329,\n",
      "        6330,  6334,  6335,  6341,  6344,  6345,  6346,  6356,  6357,\n",
      "        6359,  6361,  6364,  6366,  6367,  6368,  6369,  6371,  6373,\n",
      "        6375,  6377,  6379,  6382,  6384,  6388,  6389,  6391,  6392,\n",
      "        6395,  6396,  6397,  6398,  6400,  6401,  6404,  6405,  6406,\n",
      "        6408,  6409,  6411,  6413,  6415,  6416,  6417,  6418,  6419,\n",
      "        6421,  6422,  6423,  6426,  6427,  6429,  6431,  6435,  6436,\n",
      "        6437,  6443,  6445,  6447,  6449,  6450,  6453,  6454,  6455,\n",
      "        6456,  6458,  6459,  6460,  6462,  6463,  6465,  6469,  6470,\n",
      "        6474,  6476,  6477,  6478,  6480,  6481,  6482,  6483,  6485,\n",
      "        6486,  6490,  6492,  6493,  6495,  6496,  6497,  6499,  6500,\n",
      "        6502,  6503,  6505,  6510,  6511,  6513,  6516,  6518,  6520,\n",
      "        6523,  6524,  6525,  6527,  6528,  6529,  6530,  6531,  6533,\n",
      "        6534,  6536,  6538,  6540,  6542,  6543,  6545,  6547,  6548,\n",
      "        6549,  6552,  6554,  6555,  6558,  6560,  6562,  6564,  6567,\n",
      "        6569,  6570,  6571,  6572,  6575,  6578,  6580,  6581,  6582,\n",
      "        6583,  6584,  6589,  6590,  6592,  6593,  6594,  6597,  6598,\n",
      "        6600,  6601,  6602,  6604,  6605,  6606,  6607,  6613,  6614,\n",
      "        6615,  6620,  6624,  6625,  6627,  6629,  6631,  6633,  6634,\n",
      "        6639,  6640,  6642,  6643,  6644,  6645,  6648,  6650,  6652,\n",
      "        6653,  6657,  6658,  6659,  6660,  6661,  6663,  6666,  6669,\n",
      "        6670,  6671,  6673,  6676,  6680,  6683,  6684,  6686,  6688,\n",
      "        6689,  6691,  6692,  6693,  6694,  6695,  6697,  6698,  6699,\n",
      "        6700,  6701,  6702,  6703,  6704,  6706,  6707,  6708,  6709,\n",
      "        6710,  6712,  6713,  6714,  6718,  6721,  6723,  6724,  6725,\n",
      "        6726,  6727,  6729,  6731,  6733,  6735,  6736,  6738,  6739,\n",
      "        6741,  6742,  6743,  6746,  6748,  6752,  6753,  6755,  6756,\n",
      "        6758,  6761,  6767,  6769,  6772,  6775,  6776,  6781,  6787,\n",
      "        6788,  6789,  6792,  6793,  6794,  6795,  6796,  6803,  6805,\n",
      "        6808,  6811,  6813,  6814,  6815,  6819,  6821,  6823,  6825,\n",
      "        6826,  6828,  6830,  6831,  6833,  6835,  6836,  6840,  6841,\n",
      "        6844,  6845,  6848,  6851,  6854,  6856,  6860,  6862,  6863,\n",
      "        6865,  6867,  6869,  6870,  6872,  6874,  6880,  6882,  6884,\n",
      "        6887,  6891,  6894,  6895,  6896,  6901,  6904,  6905,  6906,\n",
      "        6908,  6909,  6914,  6915,  6919,  6920,  6923,  6926,  6929,\n",
      "        6931,  6932,  6933,  6940,  6944,  6945,  6947,  6948,  6950,\n",
      "        6951,  6954,  6956,  6957,  6958,  6971,  6972,  6973,  6977,\n",
      "        6979,  6983,  6985,  6986,  6989,  6990,  6991,  6993,  6994,\n",
      "        6996,  6998,  7000,  7003,  7004,  7008,  7009,  7010,  7011,\n",
      "        7014,  7017,  7020,  7023,  7025,  7028,  7030,  7032,  7033,\n",
      "        7034,  7035,  7036,  7037,  7038,  7039,  7040,  7042,  7043,\n",
      "        7045,  7047,  7048,  7051,  7052,  7055,  7057,  7058,  7064,\n",
      "        7065,  7066,  7071,  7072,  7075,  7077,  7079,  7081,  7086,\n",
      "        7087,  7088,  7089,  7090,  7095,  7096,  7100,  7101,  7103,\n",
      "        7104,  7105,  7111,  7112,  7117,  7122,  7123,  7126,  7129,\n",
      "        7134,  7135,  7137,  7141,  7143,  7145,  7147,  7149,  7150,\n",
      "        7156,  7157,  7162,  7164,  7165,  7166,  7167,  7173,  7174,\n",
      "        7175,  7176,  7177,  7181,  7183,  7184,  7186,  7187,  7188,\n",
      "        7191,  7193,  7194,  7195,  7196,  7199,  7202,  7207,  7208,\n",
      "        7209,  7213,  7214,  7222,  7223,  7224,  7225,  7226,  7229,\n",
      "        7230,  7231,  7232,  7238,  7241,  7242,  7244,  7247,  7249,\n",
      "        7250,  7254,  7257,  7258,  7262,  7264,  7265,  7266,  7267,\n",
      "        7269,  7271,  7272,  7275,  7276,  7279,  7281,  7283,  7284,\n",
      "        7293,  7294,  7296,  7297,  7301,  7307,  7309,  7310,  7311,\n",
      "        7312,  7313,  7318,  7322,  7326,  7329,  7330,  7340,  7342,\n",
      "        7343,  7344,  7346,  7349,  7353,  7354,  7355,  7357,  7363,\n",
      "        7364,  7365,  7366,  7367,  7368,  7369,  7370,  7372,  7373,\n",
      "        7380,  7381,  7384,  7387,  7389,  7390,  7391,  7392,  7393,\n",
      "        7394,  7396,  7397,  7398,  7399,  7403,  7404,  7405,  7407,\n",
      "        7410,  7413,  7414,  7416,  7418,  7419,  7421,  7427,  7428,\n",
      "        7430,  7433,  7437,  7438,  7439,  7441,  7443,  7447,  7448,\n",
      "        7449,  7451,  7452,  7455,  7460,  7461,  7462,  7464,  7465,\n",
      "        7466,  7469,  7470,  7471,  7473,  7475,  7476,  7477,  7478,\n",
      "        7485,  7486,  7487,  7490,  7491,  7495,  7497,  7503,  7504,\n",
      "        7505,  7511,  7512,  7514,  7515,  7517,  7519,  7523,  7524,\n",
      "        7530,  7531,  7533,  7535,  7536,  7537,  7539,  7543,  7546,\n",
      "        7547,  7548,  7549,  7550,  7551,  7553,  7556,  7557,  7559,\n",
      "        7563,  7565,  7566,  7568,  7570,  7574,  7581,  7583,  7584,\n",
      "        7585,  7586,  7588,  7590,  7591,  7592,  7593,  7596,  7598,\n",
      "        7604,  7606,  7610,  7612,  7614,  7616,  7618,  7620,  7621,\n",
      "        7622,  7623,  7624,  7625,  7626,  7627,  7628,  7631,  7633,\n",
      "        7634,  7636,  7637,  7638,  7639,  7642,  7644,  7645,  7646,\n",
      "        7648,  7651,  7652,  7653,  7654,  7655,  7656,  7657,  7658,\n",
      "        7659,  7666,  7669,  7673,  7674,  7676,  7680,  7687,  7688,\n",
      "        7689,  7691,  7694,  7695,  7696,  7698,  7700,  7701,  7702,\n",
      "        7704,  7706,  7709,  7712,  7714,  7715,  7716,  7718,  7719,\n",
      "        7721,  7722,  7730,  7731,  7732,  7733,  7734,  7735,  7738,\n",
      "        7740,  7743,  7745,  7746,  7747,  7748,  7749,  7753,  7754,\n",
      "        7757,  7758,  7769,  7772,  7773,  7774,  7775,  7776,  7778,\n",
      "        7781,  7783,  7784,  7786,  7789,  7790,  7792,  7793,  7796,\n",
      "        7797,  7799,  7800,  7801,  7802,  7804,  7809,  7812,  7814,\n",
      "        7817,  7818,  7821,  7826,  7827,  7829,  7830,  7831,  7832,\n",
      "        7836,  7837,  7841,  7844,  7847,  7850,  7853,  7855,  7859,\n",
      "        7860,  7861,  7862,  7866,  7868,  7872,  7873,  7875,  7876,\n",
      "        7877,  7878,  7881,  7884,  7890,  7892,  7895,  7896,  7898,\n",
      "        7900,  7903,  7904,  7905,  7907,  7908,  7909,  7911,  7913,\n",
      "        7914,  7917,  7918,  7921,  7924,  7926,  7928,  7929,  7931,\n",
      "        7935,  7938,  7939,  7940,  7941,  7942,  7943,  7947,  7954,\n",
      "        7959,  7960,  7961,  7962,  7963,  7969,  7970,  7972,  7975,\n",
      "        7977,  7978,  7985,  7987,  7988,  7989,  7991,  7994,  7995,\n",
      "        7997,  7999,  8003,  8006,  8007,  8008,  8009,  8011,  8012,\n",
      "        8014,  8017,  8019,  8020,  8022,  8024,  8026,  8029,  8030,\n",
      "        8031,  8032,  8033,  8035,  8038,  8040,  8041,  8042,  8049,\n",
      "        8051,  8052,  8056,  8060,  8061,  8062,  8063,  8064,  8065,\n",
      "        8066,  8071,  8073,  8076,  8077,  8078,  8079,  8082,  8083,\n",
      "        8085,  8087,  8088,  8090,  8091,  8092,  8094,  8095,  8096,\n",
      "        8099,  8100,  8101,  8102,  8103,  8104,  8106,  8107,  8108,\n",
      "        8109,  8111,  8112,  8115,  8116,  8118,  8119,  8121,  8122,\n",
      "        8123,  8124,  8126,  8128,  8129,  8131,  8132,  8135,  8137,\n",
      "        8138,  8143,  8144,  8145,  8146,  8151,  8153,  8154,  8155,\n",
      "        8157,  8159,  8162,  8163,  8166,  8171,  8174,  8178,  8179,\n",
      "        8180,  8181,  8182,  8184,  8187,  8188,  8192,  8196,  8197,\n",
      "        8198,  8200,  8201,  8208,  8209,  8214,  8215,  8216,  8217,\n",
      "        8219,  8220,  8221,  8222,  8224,  8225,  8229,  8230,  8231,\n",
      "        8233,  8234,  8235,  8238,  8239,  8241,  8242,  8247,  8248,\n",
      "        8249,  8251,  8256,  8257,  8260,  8262,  8268,  8269,  8270,\n",
      "        8271,  8272,  8273,  8275,  8276,  8280,  8281,  8286,  8287,\n",
      "        8292,  8294,  8295,  8296,  8298,  8300,  8301,  8303,  8304,\n",
      "        8305,  8307,  8308,  8310,  8314,  8320,  8322,  8324,  8325,\n",
      "        8326,  8328,  8331,  8336,  8339,  8340,  8342,  8343,  8345,\n",
      "        8348,  8354,  8355,  8356,  8357,  8361,  8365,  8367,  8371,\n",
      "        8373,  8376,  8381,  8382,  8383,  8386,  8387,  8389,  8390,\n",
      "        8391,  8394,  8395,  8396,  8397,  8399,  8400,  8404,  8406,\n",
      "        8408,  8412,  8413,  8414,  8417,  8418,  8419,  8420,  8421,\n",
      "        8428,  8430,  8431,  8435,  8438,  8440,  8441,  8442,  8446,\n",
      "        8448,  8449,  8450,  8451,  8453,  8456,  8459,  8460,  8461,\n",
      "        8464,  8466,  8468,  8470,  8471,  8472,  8476,  8477,  8479,\n",
      "        8481,  8483,  8484,  8485,  8487,  8488,  8490,  8491,  8493,\n",
      "        8496,  8498,  8499,  8501,  8503,  8504,  8506,  8509,  8512,\n",
      "        8514,  8515,  8520,  8521,  8523,  8525,  8530,  8531,  8533,\n",
      "        8534,  8537,  8538,  8539,  8542,  8545,  8548,  8549,  8550,\n",
      "        8554,  8555,  8557,  8560,  8565,  8566,  8573,  8574,  8575,\n",
      "        8576,  8578,  8579,  8582,  8583,  8584,  8585,  8586,  8589,\n",
      "        8590,  8591,  8593,  8594,  8598,  8599,  8600,  8601,  8602,\n",
      "        8603,  8606,  8607,  8609,  8610,  8611,  8614,  8615,  8616,\n",
      "        8617,  8620,  8623,  8624,  8628,  8629,  8630,  8632,  8634,\n",
      "        8635,  8639,  8643,  8646,  8647,  8648,  8650,  8655,  8657,\n",
      "        8658,  8659,  8660,  8664,  8665,  8668,  8669,  8670,  8678,\n",
      "        8681,  8683,  8686,  8688,  8690,  8691,  8692,  8695,  8699,\n",
      "        8701,  8702,  8704,  8706,  8707,  8709,  8710,  8711,  8716,\n",
      "        8717,  8722,  8724,  8728,  8729,  8734,  8739,  8741,  8742,\n",
      "        8744,  8745,  8747,  8748,  8750,  8754,  8756,  8758,  8763,\n",
      "        8764,  8768,  8769,  8770,  8775,  8777,  8781,  8783,  8785,\n",
      "        8786,  8788,  8793,  8795,  8799,  8806,  8810,  8812,  8814,\n",
      "        8819,  8820,  8821,  8822,  8824,  8826,  8828,  8830,  8831,\n",
      "        8832,  8834,  8835,  8836,  8837,  8843,  8845,  8847,  8848,\n",
      "        8849,  8850,  8853,  8854,  8856,  8859,  8861,  8862,  8863,\n",
      "        8864,  8865,  8868,  8869,  8870,  8872,  8873,  8874,  8875,\n",
      "        8876,  8880,  8882,  8884,  8885,  8887,  8888,  8892,  8897,\n",
      "        8900,  8903,  8906,  8907,  8908,  8909,  8910,  8913,  8917,\n",
      "        8918,  8926,  8928,  8929,  8931,  8935,  8936,  8937,  8940,\n",
      "        8947,  8949,  8953,  8954,  8958,  8959,  8960,  8961,  8962,\n",
      "        8963,  8964,  8965,  8966,  8973,  8974,  8977,  8979,  8982,\n",
      "        8983,  8984,  8985,  8986,  8987,  8988,  8989,  8990,  8991,\n",
      "        8992,  8995,  8996,  8997,  8998,  9000,  9003,  9004,  9005,\n",
      "        9006,  9007,  9008,  9009,  9010,  9011,  9012,  9013,  9014,\n",
      "        9016,  9017,  9018,  9021,  9022,  9023,  9024,  9026,  9030,\n",
      "        9031,  9032,  9034,  9035,  9037,  9038,  9039,  9044,  9045,\n",
      "        9047,  9048,  9049,  9050,  9051,  9052,  9053,  9055,  9056,\n",
      "        9060,  9061,  9062,  9066,  9067,  9068,  9069,  9072,  9073,\n",
      "        9079,  9082,  9084,  9085,  9086,  9089,  9094,  9098,  9100,\n",
      "        9101,  9102,  9106,  9107,  9108,  9111,  9114,  9115,  9116,\n",
      "        9119,  9120,  9124,  9126,  9127,  9130,  9133,  9134,  9136,\n",
      "        9138,  9143,  9144,  9146,  9151,  9154,  9155,  9156,  9159,\n",
      "        9160,  9161,  9163,  9164,  9165,  9166,  9167,  9169,  9170,\n",
      "        9171,  9174,  9177,  9179,  9180,  9185,  9186,  9187,  9188,\n",
      "        9192,  9196,  9197,  9200,  9201,  9202,  9205,  9207,  9208,\n",
      "        9211,  9213,  9215,  9216,  9217,  9218,  9219,  9222,  9223,\n",
      "        9224,  9226,  9227,  9228,  9230,  9231,  9232,  9235,  9237,\n",
      "        9238,  9241,  9242,  9253,  9254,  9257,  9258,  9260,  9261,\n",
      "        9262,  9263,  9265,  9266,  9267,  9268,  9270,  9271,  9275,\n",
      "        9276,  9278,  9280,  9281,  9282,  9284,  9285,  9286,  9287,\n",
      "        9288,  9294,  9297,  9300,  9301,  9303,  9307,  9310,  9311,\n",
      "        9312,  9315,  9316,  9317,  9320,  9322,  9323,  9325,  9327,\n",
      "        9329,  9332,  9333,  9335,  9338,  9342,  9343,  9345,  9349,\n",
      "        9352,  9353,  9354,  9355,  9356,  9360,  9363,  9364,  9367,\n",
      "        9374,  9375,  9378,  9380,  9381,  9382,  9383,  9384,  9385,\n",
      "        9386,  9390,  9392,  9393,  9397,  9398,  9400,  9402,  9404,\n",
      "        9408,  9410,  9411,  9414,  9415,  9416,  9420,  9422,  9425,\n",
      "        9426,  9427,  9429,  9430,  9434,  9435,  9438,  9439,  9440,\n",
      "        9441,  9443,  9444,  9446,  9455,  9457,  9458,  9459,  9463,\n",
      "        9464,  9466,  9467,  9469,  9470,  9472,  9476,  9477,  9478,\n",
      "        9483,  9484,  9486,  9487,  9493,  9494,  9498,  9511,  9513,\n",
      "        9514,  9519,  9521,  9523,  9524,  9525,  9529,  9530,  9533,\n",
      "        9535,  9536,  9546,  9547,  9549,  9550,  9551,  9554,  9557,\n",
      "        9561,  9562,  9564,  9566,  9568,  9569,  9571,  9572,  9573,\n",
      "        9574,  9575,  9577,  9579,  9581,  9584,  9585,  9586,  9589,\n",
      "        9591,  9594,  9597,  9599,  9600,  9603,  9605,  9609,  9610,\n",
      "        9611,  9612,  9620,  9621,  9622,  9624,  9625,  9627,  9628,\n",
      "        9629,  9631,  9632,  9634,  9636,  9637,  9641,  9642,  9645,\n",
      "        9647,  9649,  9650,  9651,  9652,  9653,  9654,  9655,  9656,\n",
      "        9657,  9658,  9660,  9661,  9662,  9665,  9668,  9669,  9670,\n",
      "        9676,  9677,  9679,  9680,  9681,  9682,  9683,  9685,  9686,\n",
      "        9687,  9690,  9691,  9693,  9694,  9696,  9697,  9699,  9701,\n",
      "        9703,  9704,  9705,  9706,  9707,  9709,  9710,  9712,  9713,\n",
      "        9714,  9717,  9720,  9721,  9722,  9723,  9724,  9729,  9732,\n",
      "        9734,  9737,  9738,  9739,  9740,  9743,  9746,  9747,  9748,\n",
      "        9749,  9751,  9752,  9754,  9755,  9756,  9758,  9759,  9760,\n",
      "        9761,  9762,  9763,  9764,  9765,  9766,  9768,  9769,  9775,\n",
      "        9777,  9778,  9780,  9783,  9786,  9787,  9789,  9790,  9797,\n",
      "        9798,  9800,  9801,  9804,  9807,  9808,  9810,  9812,  9814,\n",
      "        9817,  9821,  9822,  9825,  9826,  9829,  9832,  9834,  9839,\n",
      "        9843,  9844,  9846,  9848,  9849,  9851,  9855,  9857,  9858,\n",
      "        9861,  9863,  9864,  9866,  9867,  9874,  9876,  9877,  9878,\n",
      "        9880,  9881,  9882,  9884,  9886,  9890,  9892,  9893,  9896,\n",
      "        9897,  9898,  9901,  9902,  9904,  9906,  9908,  9912,  9913,\n",
      "        9916,  9919,  9928,  9930,  9931,  9936,  9938,  9939,  9940,\n",
      "        9942,  9943,  9947,  9951,  9952,  9954,  9956,  9957,  9959,\n",
      "        9960,  9961,  9962,  9963,  9964,  9965,  9969,  9971,  9978,\n",
      "        9979,  9982,  9984,  9986,  9988,  9989,  9990,  9992,  9993,\n",
      "        9995,  9997,  9998, 10001, 10002, 10003, 10004, 10007, 10011,\n",
      "       10012, 10015, 10017, 10021, 10024, 10027, 10028, 10031, 10033,\n",
      "       10035, 10036, 10037, 10038, 10041, 10042, 10043, 10044, 10045,\n",
      "       10051, 10052, 10053, 10055, 10059, 10060, 10067, 10069, 10071,\n",
      "       10072, 10073, 10074, 10075, 10078, 10080, 10082, 10083, 10084,\n",
      "       10085, 10086, 10095, 10097, 10098, 10100, 10102, 10104, 10106,\n",
      "       10108, 10109, 10110, 10111, 10112, 10113, 10114, 10115, 10117,\n",
      "       10118, 10119, 10120, 10122, 10123, 10127, 10128, 10129, 10132,\n",
      "       10135, 10138, 10140, 10146, 10147, 10148, 10149, 10150, 10151,\n",
      "       10152, 10153, 10154, 10155, 10156, 10158, 10161, 10162, 10165,\n",
      "       10167, 10169, 10174, 10176, 10178, 10180, 10181, 10184, 10185,\n",
      "       10187, 10189, 10193, 10197, 10198, 10199, 10200, 10201, 10211,\n",
      "       10215, 10220, 10222, 10223, 10228, 10229, 10233, 10234, 10235,\n",
      "       10236, 10240, 10242, 10243, 10244, 10245, 10247, 10250, 10251,\n",
      "       10252, 10253, 10255, 10256, 10258, 10259, 10264, 10265, 10267,\n",
      "       10268, 10270, 10271, 10273, 10274, 10275, 10280, 10291, 10293,\n",
      "       10294, 10295, 10296, 10300, 10305, 10307, 10309, 10311, 10313,\n",
      "       10314, 10315, 10316, 10317, 10318, 10319, 10320, 10323, 10324,\n",
      "       10326, 10327, 10328, 10331, 10335, 10339, 10341, 10347, 10348,\n",
      "       10350, 10351, 10352, 10353, 10354, 10355, 10356, 10357, 10358,\n",
      "       10359, 10360, 10363, 10364, 10365, 10369, 10370, 10371, 10373,\n",
      "       10375, 10377, 10378, 10380, 10381, 10383, 10388, 10390, 10391,\n",
      "       10395, 10397, 10398, 10400, 10401, 10403, 10405, 10407, 10409,\n",
      "       10410, 10412, 10414, 10419, 10422, 10429, 10430, 10436, 10440,\n",
      "       10441, 10448, 10449, 10450, 10451, 10454, 10456, 10457, 10458,\n",
      "       10459, 10460, 10461, 10464, 10469, 10471, 10473, 10474, 10477,\n",
      "       10480, 10481, 10485, 10486, 10487, 10488, 10493, 10495, 10498,\n",
      "       10499, 10500, 10501, 10502, 10503, 10504, 10505, 10508, 10509,\n",
      "       10510, 10511, 10512, 10515, 10516, 10517, 10518, 10519, 10520,\n",
      "       10521, 10524, 10528, 10533, 10537, 10539, 10540, 10541, 10542,\n",
      "       10543, 10544, 10545, 10546, 10547, 10548, 10549, 10550, 10553,\n",
      "       10555, 10556, 10557, 10559, 10560, 10562, 10565, 10566, 10568,\n",
      "       10574, 10576, 10577, 10583, 10585, 10586, 10588, 10589, 10590,\n",
      "       10592, 10593, 10597, 10598, 10600, 10601, 10602, 10603, 10604,\n",
      "       10606, 10607, 10609, 10610, 10611, 10612, 10613, 10618, 10620,\n",
      "       10621, 10624, 10625, 10627, 10629, 10630, 10632, 10633, 10635,\n",
      "       10636, 10638, 10641, 10644, 10646, 10648, 10650, 10651, 10653,\n",
      "       10654, 10655, 10656, 10660, 10671, 10672, 10673, 10674, 10676,\n",
      "       10679, 10681, 10685, 10686, 10688, 10690, 10696, 10699, 10700,\n",
      "       10702, 10703, 10706, 10707, 10713, 10715, 10716, 10717, 10720,\n",
      "       10724, 10729, 10730, 10733, 10735, 10736, 10737, 10738, 10744,\n",
      "       10745, 10747, 10749, 10752, 10755, 10757, 10758, 10761, 10762,\n",
      "       10763, 10764, 10765, 10766, 10768, 10774, 10777, 10779, 10781,\n",
      "       10782, 10783, 10784, 10787, 10788, 10789, 10790, 10792, 10794,\n",
      "       10795, 10796, 10801, 10802, 10803, 10804, 10809, 10811, 10812,\n",
      "       10813, 10814, 10816, 10817, 10818, 10821, 10822, 10823, 10825,\n",
      "       10827, 10828, 10830, 10832, 10833, 10834, 10835, 10836, 10837,\n",
      "       10838, 10839, 10840, 10842, 10844, 10845, 10851, 10852, 10854,\n",
      "       10858, 10860, 10865, 10866, 10872, 10874, 10878, 10879, 10882,\n",
      "       10884, 10890, 10891, 10894, 10896, 10897, 10900, 10902, 10905,\n",
      "       10906, 10908, 10910, 10911, 10916, 10918, 10919, 10920, 10921,\n",
      "       10922, 10923, 10924, 10926, 10927, 10930, 10931, 10932, 10934,\n",
      "       10935, 10940, 10942, 10944, 10945, 10951, 10952, 10958, 10959,\n",
      "       10961, 10963, 10964, 10966, 10972, 10975, 10976, 10980, 10986,\n",
      "       10988, 10989, 10991, 10992, 10997, 10998, 11003, 11006, 11007,\n",
      "       11008, 11009, 11011, 11012, 11015, 11016, 11018, 11019, 11020,\n",
      "       11022, 11025, 11026, 11027, 11031, 11032, 11036, 11038, 11041,\n",
      "       11042, 11043, 11045, 11053, 11055, 11056, 11058, 11060, 11069,\n",
      "       11070, 11071, 11073, 11075, 11079, 11081, 11085, 11087, 11090,\n",
      "       11092, 11093, 11094, 11095, 11096, 11097, 11099, 11101, 11103,\n",
      "       11104, 11105, 11107, 11108, 11110, 11115, 11117, 11118, 11122,\n",
      "       11123, 11127, 11128, 11131, 11134, 11136, 11138, 11139, 11140,\n",
      "       11143, 11144, 11145, 11147, 11150, 11152, 11154, 11155, 11156,\n",
      "       11158, 11160, 11162, 11164, 11165, 11166, 11168, 11170, 11171,\n",
      "       11173, 11174, 11177, 11178, 11179, 11188, 11189, 11190, 11192,\n",
      "       11194, 11195, 11196, 11197, 11202, 11204, 11207, 11208, 11209,\n",
      "       11211, 11212, 11219, 11224, 11226, 11227, 11229, 11230, 11231,\n",
      "       11234, 11235, 11239, 11240, 11241, 11242, 11243, 11244, 11245,\n",
      "       11247, 11250, 11252, 11254, 11255, 11257, 11258, 11259, 11260,\n",
      "       11261, 11263, 11265, 11267, 11268, 11270, 11273, 11275, 11279,\n",
      "       11286, 11293, 11294, 11296, 11299, 11300, 11301, 11306, 11307,\n",
      "       11309, 11312, 11314, 11315, 11317, 11318, 11319, 11320, 11322,\n",
      "       11324, 11325, 11327, 11328, 11329, 11330, 11332, 11335, 11336,\n",
      "       11341, 11342, 11343, 11346, 11349, 11351, 11356, 11358, 11360,\n",
      "       11361, 11362, 11363, 11364, 11365, 11368, 11372, 11373, 11374,\n",
      "       11378, 11385, 11387, 11389, 11390, 11392, 11393, 11395, 11396,\n",
      "       11398, 11400, 11404, 11406, 11407, 11408, 11410, 11412, 11414,\n",
      "       11415, 11417, 11418, 11425, 11428, 11429, 11430, 11431, 11435,\n",
      "       11436, 11438, 11439, 11440, 11442, 11443, 11444, 11445, 11447,\n",
      "       11448, 11449, 11450, 11452, 11454, 11455, 11456, 11457, 11458,\n",
      "       11459, 11461, 11462, 11464, 11465, 11467, 11472, 11473, 11475,\n",
      "       11476, 11477, 11478, 11479, 11482, 11486, 11488, 11489, 11491,\n",
      "       11494, 11495, 11496, 11497, 11498, 11499, 11501, 11502, 11509,\n",
      "       11510, 11514, 11515, 11516, 11517, 11518, 11520, 11523, 11526,\n",
      "       11528, 11530, 11531, 11532, 11533, 11534, 11538, 11540, 11543,\n",
      "       11544, 11545, 11549, 11551, 11553, 11556, 11557, 11558, 11560,\n",
      "       11562, 11565, 11566, 11568, 11569, 11573, 11575, 11578, 11579,\n",
      "       11580, 11581, 11583, 11584, 11586, 11589, 11593, 11595, 11596,\n",
      "       11598, 11599, 11602, 11607, 11609, 11610, 11616, 11617, 11622,\n",
      "       11626, 11627, 11628, 11630, 11631, 11632, 11633, 11636, 11638,\n",
      "       11645, 11646, 11647, 11648, 11653, 11654, 11655, 11657, 11658,\n",
      "       11660, 11662, 11665, 11669, 11670, 11671, 11672, 11673, 11675,\n",
      "       11676, 11677, 11680, 11681, 11682, 11685, 11686, 11688, 11692,\n",
      "       11695, 11696, 11697, 11698, 11699, 11701, 11704, 11706, 11708,\n",
      "       11709, 11712, 11716, 11718, 11719, 11722, 11724, 11728, 11729,\n",
      "       11731, 11733, 11734, 11735, 11737, 11738, 11739, 11740, 11745,\n",
      "       11746, 11748, 11750, 11751, 11756, 11758, 11760, 11764, 11766,\n",
      "       11768, 11769, 11770, 11775, 11776, 11778, 11780, 11781, 11782,\n",
      "       11783, 11784, 11785, 11789, 11790, 11793, 11796, 11798, 11805,\n",
      "       11806, 11809, 11811, 11813, 11816, 11821, 11822, 11823, 11824,\n",
      "       11825, 11826, 11830, 11832, 11833, 11836, 11837, 11838, 11839,\n",
      "       11841, 11842, 11843, 11846, 11848, 11849, 11851, 11853, 11857,\n",
      "       11858, 11860, 11862, 11870, 11872, 11873, 11876, 11877, 11879,\n",
      "       11881, 11884, 11886, 11888, 11890, 11894, 11901, 11903, 11904,\n",
      "       11905, 11906, 11907, 11910, 11912, 11913, 11915, 11919, 11920,\n",
      "       11921, 11923, 11926, 11928, 11929, 11930, 11931, 11932, 11933,\n",
      "       11938, 11944, 11945, 11946, 11947, 11948, 11952, 11953, 11954,\n",
      "       11955, 11958, 11959, 11960, 11961, 11962, 11964, 11966, 11967,\n",
      "       11972, 11973, 11974, 11978, 11979, 11981, 11982, 11985, 11987,\n",
      "       11989, 11991, 11992, 11995, 11996, 11997, 11998, 12001, 12002,\n",
      "       12006, 12007, 12008, 12010, 12012, 12015, 12017, 12019, 12021,\n",
      "       12022, 12023, 12025, 12026, 12027, 12029, 12030, 12031, 12032,\n",
      "       12035, 12038, 12042, 12045, 12046, 12047, 12048, 12051, 12053,\n",
      "       12054, 12056, 12058, 12059, 12060, 12062, 12066, 12067, 12069,\n",
      "       12070, 12073, 12074, 12077, 12079, 12080, 12085, 12088, 12089,\n",
      "       12093, 12094, 12099, 12100, 12101, 12102, 12103, 12106, 12108,\n",
      "       12118, 12120, 12122, 12125, 12129, 12130, 12133, 12135, 12136,\n",
      "       12141, 12142, 12143, 12145, 12151, 12153, 12156, 12160, 12162,\n",
      "       12163, 12164, 12166, 12167, 12173, 12174, 12175, 12176, 12177,\n",
      "       12180, 12182, 12186, 12187, 12188, 12189, 12190, 12195, 12197,\n",
      "       12199, 12200, 12201, 12203, 12206, 12207, 12208, 12210, 12213,\n",
      "       12214, 12215, 12219, 12221, 12222, 12223, 12225, 12227, 12230,\n",
      "       12231, 12233, 12234, 12235, 12236, 12237, 12238, 12239, 12240,\n",
      "       12241, 12242, 12247, 12250, 12252, 12257, 12259, 12260, 12266,\n",
      "       12267, 12269, 12270, 12272, 12273, 12277, 12278, 12282, 12284,\n",
      "       12285, 12286, 12288, 12290, 12293, 12296, 12297, 12298, 12301,\n",
      "       12302, 12303, 12305, 12306, 12307, 12308, 12312, 12316, 12321,\n",
      "       12324, 12325, 12326, 12328, 12331, 12332, 12334, 12335, 12336,\n",
      "       12338, 12342, 12347, 12348, 12349, 12350, 12352, 12353, 12358,\n",
      "       12361, 12362, 12364, 12367, 12369, 12370, 12373, 12377, 12379,\n",
      "       12380, 12381, 12384, 12385, 12386, 12391, 12399, 12401, 12402,\n",
      "       12403, 12404, 12405, 12406, 12410, 12411, 12412, 12414, 12416,\n",
      "       12421, 12422, 12425, 12427, 12429, 12430, 12431, 12433, 12442,\n",
      "       12444, 12445, 12446, 12447, 12448, 12449, 12452, 12454, 12455,\n",
      "       12457, 12460, 12462, 12463, 12465, 12467, 12469, 12474, 12479,\n",
      "       12482, 12484, 12486, 12487, 12488, 12489, 12492, 12493, 12494,\n",
      "       12497, 12499, 12500, 12501, 12502, 12503, 12506, 12507, 12508,\n",
      "       12509, 12513, 12514, 12516, 12517, 12519, 12520, 12521, 12522,\n",
      "       12523, 12524, 12532, 12533, 12538, 12540, 12542, 12544, 12545,\n",
      "       12546, 12547, 12548, 12549, 12553, 12554, 12556, 12559, 12561,\n",
      "       12563, 12564, 12565, 12566, 12568, 12569, 12571, 12572, 12574,\n",
      "       12576, 12578, 12579, 12582, 12583, 12584, 12585, 12586, 12588,\n",
      "       12592, 12593, 12594, 12596, 12597, 12598, 12601, 12602, 12603,\n",
      "       12605, 12612, 12613, 12614, 12622, 12623, 12626, 12627, 12629,\n",
      "       12630, 12631, 12632, 12633, 12634, 12636, 12637, 12638, 12639,\n",
      "       12640, 12641, 12642, 12643, 12645, 12646, 12649, 12650, 12651,\n",
      "       12658, 12659, 12662, 12664, 12665, 12666, 12668, 12672, 12675,\n",
      "       12676, 12677, 12681, 12687, 12688, 12690, 12691, 12693, 12695,\n",
      "       12698, 12704, 12705, 12706, 12707, 12708, 12709, 12710, 12711,\n",
      "       12714, 12715, 12721, 12722, 12723, 12725, 12728, 12730, 12731,\n",
      "       12732, 12733, 12734, 12736, 12737, 12740, 12741, 12743, 12744,\n",
      "       12745, 12746, 12747, 12751, 12753, 12754, 12755, 12758, 12760,\n",
      "       12763, 12765, 12767, 12768, 12769, 12770, 12771, 12773, 12774,\n",
      "       12778, 12779, 12783, 12785, 12788, 12789, 12791, 12793, 12796,\n",
      "       12801, 12802, 12805, 12809, 12811, 12812, 12813, 12814, 12815,\n",
      "       12818, 12819, 12820, 12821, 12824, 12825, 12827, 12828, 12831,\n",
      "       12832, 12833, 12834, 12835, 12837, 12838, 12839, 12840, 12842,\n",
      "       12843, 12844, 12849, 12850, 12851, 12853, 12856, 12859, 12860,\n",
      "       12862, 12864, 12867, 12869, 12875, 12878, 12880, 12881, 12882,\n",
      "       12883, 12884, 12887, 12888, 12890, 12896, 12900, 12903, 12905,\n",
      "       12906, 12908, 12909, 12910, 12911, 12912, 12913, 12917, 12918,\n",
      "       12920, 12922, 12925, 12926, 12927, 12928, 12929, 12930, 12932,\n",
      "       12933, 12935, 12936, 12937, 12945, 12946, 12949, 12950, 12951,\n",
      "       12952, 12955, 12956, 12959, 12961, 12962, 12963, 12964, 12971,\n",
      "       12972, 12973, 12974, 12978, 12982, 12983, 12984, 12986, 12993,\n",
      "       12996, 12998, 13001, 13002, 13006, 13007, 13008, 13011, 13012,\n",
      "       13013, 13016, 13017, 13020, 13022, 13023, 13024, 13025, 13026,\n",
      "       13028, 13029, 13033, 13034, 13035, 13036, 13039, 13040, 13043,\n",
      "       13048, 13049, 13052, 13059, 13060, 13063, 13065, 13068, 13069,\n",
      "       13070, 13073, 13076, 13077, 13078, 13079, 13080, 13082, 13084,\n",
      "       13085, 13086, 13088, 13090, 13091, 13096, 13097, 13098, 13099,\n",
      "       13101, 13104, 13105, 13106, 13108, 13109, 13111, 13112, 13113,\n",
      "       13114, 13116, 13117, 13119, 13120, 13122, 13124, 13125, 13126,\n",
      "       13129, 13130, 13131, 13137, 13138, 13139, 13140, 13144, 13148,\n",
      "       13149, 13152, 13153, 13154, 13155, 13156, 13157, 13158, 13159,\n",
      "       13160, 13161, 13162, 13163, 13165, 13166, 13167, 13168, 13170,\n",
      "       13172, 13173, 13177, 13178, 13183, 13184, 13185, 13186, 13187,\n",
      "       13188, 13189, 13190, 13191, 13192, 13195, 13196, 13198, 13201,\n",
      "       13203, 13204, 13207, 13213, 13214, 13216, 13217, 13220, 13221,\n",
      "       13222, 13226, 13227, 13230, 13231, 13232, 13234, 13235, 13238,\n",
      "       13239, 13240, 13241, 13243, 13246, 13247, 13250, 13251, 13252,\n",
      "       13257, 13258, 13265, 13266, 13267, 13268, 13271, 13273, 13275,\n",
      "       13278, 13281, 13283, 13284, 13285, 13286, 13287, 13289, 13290,\n",
      "       13293, 13294, 13297, 13298, 13300, 13302, 13303, 13304, 13305,\n",
      "       13306, 13307, 13308, 13310, 13311, 13313, 13316, 13317, 13318,\n",
      "       13324, 13326, 13327, 13328, 13331, 13338, 13339, 13340, 13342,\n",
      "       13345, 13346, 13347, 13348, 13356, 13358, 13360, 13362, 13363,\n",
      "       13364, 13366, 13373, 13378, 13379, 13382, 13384, 13385, 13387,\n",
      "       13388, 13389, 13390, 13391, 13392, 13393, 13397, 13398, 13399,\n",
      "       13400, 13403, 13404, 13406, 13408, 13409, 13411, 13413, 13414,\n",
      "       13418, 13419, 13420, 13422, 13423, 13426, 13429, 13432, 13435,\n",
      "       13437, 13438, 13440, 13441, 13445, 13448, 13449, 13452, 13454,\n",
      "       13455, 13458, 13463, 13464, 13466, 13471, 13473, 13474, 13477,\n",
      "       13478, 13479, 13480, 13481, 13482, 13483, 13487, 13488, 13490,\n",
      "       13493, 13494, 13495, 13496, 13497, 13498, 13499, 13503, 13512,\n",
      "       13515, 13516, 13518, 13522, 13523, 13524, 13527, 13530, 13533,\n",
      "       13534, 13536, 13537, 13539, 13540, 13541, 13542, 13543, 13545,\n",
      "       13546, 13549, 13550, 13551, 13552, 13553, 13554, 13555, 13556,\n",
      "       13557, 13559, 13563, 13564, 13565, 13566, 13567, 13571, 13575,\n",
      "       13577, 13580, 13583, 13584, 13585, 13587, 13590, 13591, 13592,\n",
      "       13593, 13594, 13595, 13596, 13599, 13602, 13604, 13605, 13607,\n",
      "       13608, 13614, 13616, 13618, 13619, 13620, 13621, 13622, 13623,\n",
      "       13624, 13626, 13628, 13633, 13634, 13638, 13644, 13646, 13649,\n",
      "       13657, 13662, 13663, 13667, 13668, 13669, 13670, 13671, 13672,\n",
      "       13680, 13684, 13685, 13687, 13689, 13691, 13693, 13694, 13696,\n",
      "       13697, 13701, 13702, 13703, 13706, 13707, 13708, 13710, 13711,\n",
      "       13712, 13715, 13721, 13722, 13723, 13724, 13727, 13728, 13729,\n",
      "       13733, 13735, 13737, 13741, 13743, 13745, 13747, 13748, 13749,\n",
      "       13750, 13751, 13752, 13754, 13756, 13758, 13759, 13760, 13761,\n",
      "       13762, 13763, 13764, 13766, 13769, 13770, 13771, 13777, 13778,\n",
      "       13780, 13783, 13784, 13786, 13788, 13789, 13791, 13793, 13794,\n",
      "       13795, 13798, 13799, 13802, 13803, 13804, 13807, 13808, 13810,\n",
      "       13811, 13814, 13815, 13819, 13821, 13824, 13825, 13828, 13829,\n",
      "       13831, 13836, 13838, 13839, 13840, 13842, 13844, 13845, 13846,\n",
      "       13848, 13850, 13851, 13853, 13854, 13855, 13860, 13861, 13862,\n",
      "       13864, 13865, 13866, 13868, 13869, 13871, 13873, 13878, 13882,\n",
      "       13887, 13888, 13889, 13890, 13892, 13896, 13898, 13899, 13900,\n",
      "       13903, 13906, 13908, 13912, 13913, 13914, 13915, 13916, 13917,\n",
      "       13918, 13921, 13922, 13926, 13927, 13928, 13929, 13931, 13932,\n",
      "       13934, 13936, 13937, 13938, 13941, 13943, 13944, 13948, 13949,\n",
      "       13956, 13957, 13959, 13960, 13963, 13964, 13966, 13967, 13968,\n",
      "       13969, 13970, 13971, 13974, 13976, 13979, 13980, 13982, 13984,\n",
      "       13987, 13989, 13990, 13992, 13993, 13994, 13996, 13997, 13999,\n",
      "       14001, 14002, 14003, 14011, 14015, 14017, 14018, 14020, 14021,\n",
      "       14023, 14025, 14026, 14027, 14029, 14034, 14035, 14038, 14041,\n",
      "       14043, 14045, 14046, 14047, 14048, 14049, 14050, 14052, 14054,\n",
      "       14055, 14057, 14059, 14060, 14061, 14062, 14065, 14067, 14070,\n",
      "       14072, 14074, 14078, 14079, 14080, 14082, 14083, 14085, 14086,\n",
      "       14090, 14091, 14093, 14094, 14095, 14097, 14098, 14100, 14101,\n",
      "       14102, 14105, 14108, 14109, 14110, 14111, 14112, 14114, 14116,\n",
      "       14117, 14119, 14120, 14122, 14127, 14129, 14130, 14132, 14133,\n",
      "       14134, 14138, 14144, 14145, 14146, 14149, 14150, 14151, 14153,\n",
      "       14155, 14158, 14164, 14166, 14172, 14173, 14176, 14178, 14179,\n",
      "       14180, 14182, 14184, 14186, 14189, 14192, 14193, 14194, 14200,\n",
      "       14201, 14204, 14209, 14211, 14212, 14213, 14215, 14216, 14219,\n",
      "       14220, 14222, 14224, 14226, 14227, 14228, 14229, 14230, 14231,\n",
      "       14232, 14233, 14237, 14238, 14239, 14240, 14241, 14242, 14243,\n",
      "       14244, 14248, 14249, 14251, 14256, 14257, 14260, 14261, 14264,\n",
      "       14266, 14269, 14270, 14271, 14273, 14274, 14275, 14277, 14278,\n",
      "       14280, 14281, 14282, 14284, 14285, 14289, 14291, 14292, 14295,\n",
      "       14296, 14298, 14300, 14301, 14302, 14304, 14305, 14306, 14307,\n",
      "       14309, 14312, 14313, 14314, 14315, 14316, 14318, 14323, 14324,\n",
      "       14326, 14327, 14328, 14331, 14332, 14338, 14339, 14340, 14342,\n",
      "       14345, 14347, 14348, 14352, 14354, 14356, 14359, 14364, 14365,\n",
      "       14366, 14370, 14371, 14372, 14373, 14380, 14381, 14382, 14383,\n",
      "       14384, 14387, 14388, 14390, 14391, 14392, 14396, 14397, 14400,\n",
      "       14405, 14407, 14408, 14409, 14414, 14416, 14418, 14420, 14425,\n",
      "       14426, 14427, 14428, 14429, 14431, 14432, 14438, 14440, 14441,\n",
      "       14443, 14449, 14450, 14452, 14454, 14457, 14458, 14462, 14465,\n",
      "       14467, 14468, 14469, 14471, 14473, 14474, 14478, 14479, 14481,\n",
      "       14483, 14484, 14486, 14487, 14489, 14490, 14492, 14494, 14496,\n",
      "       14497, 14498, 14499, 14502, 14507, 14511, 14513, 14514, 14518,\n",
      "       14519, 14525, 14527, 14528, 14530, 14532, 14534, 14535, 14536,\n",
      "       14537, 14539, 14540, 14541, 14544, 14545, 14547, 14548, 14549,\n",
      "       14551, 14554, 14556, 14557, 14560, 14563, 14566, 14568, 14572,\n",
      "       14573, 14575, 14579, 14582, 14585, 14587, 14589, 14592, 14595,\n",
      "       14596, 14598, 14599, 14606, 14609, 14610, 14618, 14621, 14625,\n",
      "       14627, 14628, 14630, 14634, 14637, 14638, 14640, 14642, 14643,\n",
      "       14646, 14654, 14655, 14656, 14657, 14658, 14659, 14662, 14663,\n",
      "       14671, 14676, 14681, 14683, 14687, 14688, 14689, 14691, 14692,\n",
      "       14695, 14697, 14698, 14700, 14701, 14702, 14704, 14709, 14712,\n",
      "       14715, 14716, 14717, 14720, 14721, 14726, 14728, 14731, 14732,\n",
      "       14733, 14734, 14735, 14736, 14739, 14741, 14742, 14744, 14748,\n",
      "       14750, 14751, 14753, 14754, 14758, 14766, 14767, 14769, 14772,\n",
      "       14774, 14775, 14776, 14779, 14780, 14784, 14787, 14790, 14792,\n",
      "       14795, 14796, 14799, 14800, 14802, 14809, 14810, 14813, 14815,\n",
      "       14816, 14819, 14820, 14821, 14824, 14826, 14830, 14835, 14836,\n",
      "       14837, 14840, 14842, 14844, 14845, 14846, 14847, 14848, 14849,\n",
      "       14850, 14857, 14858, 14859, 14861, 14862, 14863, 14864, 14866,\n",
      "       14868, 14874, 14875, 14879, 14885, 14887, 14889, 14891, 14892,\n",
      "       14895, 14900, 14901, 14904, 14907, 14909, 14910, 14911, 14912,\n",
      "       14913, 14914, 14917, 14918, 14919, 14920, 14921, 14923, 14924,\n",
      "       14928, 14930, 14931, 14933, 14934, 14935, 14936, 14939, 14946,\n",
      "       14947, 14948, 14949, 14952, 14955, 14957, 14958, 14962, 14963,\n",
      "       14968, 14970, 14972, 14973, 14975, 14978, 14982, 14983, 14987,\n",
      "       14988, 14989, 14990, 14991, 14993, 14994, 14995, 14996, 14997,\n",
      "       14999, 15000, 15003, 15005, 15009, 15010, 15015, 15018, 15020,\n",
      "       15021, 15022, 15025, 15031, 15033, 15034, 15037, 15038, 15039,\n",
      "       15042, 15043, 15044, 15047, 15049, 15050, 15052, 15054, 15057,\n",
      "       15058, 15059, 15060, 15061, 15062, 15065, 15067, 15070, 15071,\n",
      "       15075, 15076, 15078, 15080, 15083, 15085, 15086, 15087, 15088,\n",
      "       15090, 15093, 15094, 15095, 15096, 15097, 15099, 15101, 15106,\n",
      "       15107, 15109, 15111, 15115, 15116, 15117, 15121, 15122, 15125,\n",
      "       15129, 15130, 15131, 15132, 15133, 15135, 15136, 15138, 15139,\n",
      "       15141, 15142, 15143, 15144, 15145, 15146, 15147, 15149, 15150,\n",
      "       15159, 15160, 15161, 15162, 15163, 15164, 15165, 15167, 15168,\n",
      "       15169, 15170, 15172, 15176, 15180, 15185, 15186, 15188, 15190,\n",
      "       15192, 15193, 15195, 15196, 15198, 15201, 15204, 15205, 15207,\n",
      "       15208, 15209, 15210, 15211, 15213, 15214, 15216, 15219, 15220,\n",
      "       15222, 15224, 15225, 15226, 15228, 15230, 15231, 15233, 15234,\n",
      "       15236, 15238, 15239, 15240, 15241, 15242, 15243, 15244, 15246,\n",
      "       15247, 15249, 15252, 15254, 15255, 15257, 15259, 15260, 15261,\n",
      "       15262, 15263, 15264, 15267, 15268, 15270, 15271, 15274, 15277,\n",
      "       15281, 15284, 15286, 15287, 15288, 15289, 15290, 15291, 15294,\n",
      "       15297, 15299, 15300, 15302, 15303, 15306, 15308, 15309, 15312,\n",
      "       15314, 15315, 15316, 15317, 15318, 15322, 15324, 15325, 15326,\n",
      "       15328, 15329, 15333, 15334, 15335, 15338, 15339, 15340, 15344,\n",
      "       15345, 15347, 15350, 15351, 15352, 15353, 15354, 15356, 15357,\n",
      "       15360, 15362, 15364, 15366, 15367, 15370, 15371, 15377, 15378,\n",
      "       15382, 15383, 15386, 15388, 15389, 15393, 15396, 15398, 15399,\n",
      "       15401, 15403, 15404, 15410, 15411, 15416, 15417, 15421, 15426,\n",
      "       15427, 15429, 15431, 15432, 15433, 15435, 15437, 15438, 15439,\n",
      "       15440, 15443, 15446, 15448, 15449, 15450, 15451, 15453, 15455,\n",
      "       15457, 15459, 15460, 15461, 15462, 15463, 15464, 15466, 15467,\n",
      "       15468, 15472, 15475, 15477, 15479, 15481, 15483, 15484, 15486,\n",
      "       15488, 15489, 15490, 15497, 15499, 15506, 15508, 15511, 15513,\n",
      "       15514, 15517, 15519, 15520, 15521, 15522, 15524, 15525, 15527,\n",
      "       15529, 15533, 15534, 15535, 15536, 15539, 15540, 15544, 15545,\n",
      "       15546, 15550, 15552, 15557, 15558, 15559, 15565, 15566, 15572,\n",
      "       15577, 15578, 15579, 15584, 15585, 15590, 15592, 15593, 15601,\n",
      "       15602, 15604, 15605, 15607, 15609, 15610, 15614, 15615, 15617,\n",
      "       15619, 15620, 15622, 15623, 15625, 15628, 15629, 15630, 15632,\n",
      "       15634, 15636, 15638, 15640, 15644, 15645, 15647, 15649, 15654,\n",
      "       15657, 15659, 15660, 15662, 15666, 15670, 15672, 15673, 15674,\n",
      "       15677, 15681, 15683, 15685, 15686, 15691, 15694, 15702, 15708,\n",
      "       15713, 15716, 15717, 15719, 15722, 15723, 15726, 15727, 15728,\n",
      "       15729, 15734, 15735, 15736, 15737, 15739, 15741, 15742, 15743,\n",
      "       15744, 15746, 15752, 15761, 15763, 15764, 15765, 15766, 15767,\n",
      "       15768, 15770, 15771, 15773, 15775, 15777, 15779, 15780, 15781,\n",
      "       15783, 15784, 15787, 15793, 15795, 15797, 15798, 15799, 15805,\n",
      "       15807, 15808, 15809, 15812, 15813, 15814, 15815, 15818, 15821,\n",
      "       15823, 15824, 15826, 15828, 15829, 15830, 15832, 15836, 15839,\n",
      "       15841, 15843, 15844, 15845, 15849, 15851, 15856, 15857, 15858,\n",
      "       15865, 15867, 15870, 15874, 15876, 15877, 15880, 15885, 15886,\n",
      "       15887, 15890, 15895, 15896, 15897, 15899, 15901, 15904, 15906,\n",
      "       15907, 15910, 15911, 15913, 15914, 15920, 15924, 15926, 15927,\n",
      "       15928, 15930, 15931, 15932, 15933, 15934, 15936, 15937, 15938,\n",
      "       15940, 15942, 15943, 15944, 15946, 15949, 15950, 15951, 15952,\n",
      "       15953, 15954, 15957, 15959, 15960, 15961, 15967, 15968, 15971,\n",
      "       15974, 15977, 15978, 15979, 15983, 15987, 15989, 15990, 15991,\n",
      "       15992, 15994, 15995, 15997, 15998, 16003, 16005, 16006, 16007,\n",
      "       16008, 16009, 16010, 16011, 16012, 16013, 16014, 16019, 16020,\n",
      "       16021, 16023, 16025, 16028, 16030, 16031, 16033, 16036, 16037,\n",
      "       16038, 16041, 16042, 16043, 16044, 16045, 16047, 16049, 16052,\n",
      "       16053, 16056, 16058, 16062, 16063, 16064, 16065, 16066, 16067,\n",
      "       16069, 16070, 16072, 16075, 16076, 16079, 16080, 16083, 16090,\n",
      "       16091, 16092, 16093, 16094, 16098, 16101, 16102, 16103, 16105,\n",
      "       16108, 16109, 16112, 16113, 16114, 16118, 16122, 16123, 16126,\n",
      "       16127, 16129, 16130, 16131, 16134, 16135, 16136, 16140, 16143,\n",
      "       16144, 16146, 16148, 16149, 16150, 16151, 16152, 16155, 16156,\n",
      "       16158, 16160, 16162, 16164, 16165, 16167, 16168, 16170, 16175,\n",
      "       16176, 16177, 16179, 16180, 16185, 16186, 16188, 16191, 16192,\n",
      "       16193, 16194, 16197, 16198, 16199, 16201, 16202, 16203, 16205,\n",
      "       16207, 16212, 16218, 16221, 16223, 16224, 16228, 16238, 16239,\n",
      "       16240, 16242, 16246, 16250, 16252, 16254, 16255, 16256, 16257,\n",
      "       16260, 16262, 16263, 16264, 16265, 16266, 16267, 16269, 16272,\n",
      "       16275, 16277, 16278, 16283, 16284, 16287, 16288, 16289, 16291,\n",
      "       16292, 16295, 16296, 16300, 16301, 16302, 16303, 16304, 16305,\n",
      "       16306, 16309, 16311, 16313, 16314, 16316, 16317, 16322, 16323,\n",
      "       16325, 16326, 16327, 16330, 16331, 16332, 16333, 16334, 16335,\n",
      "       16336, 16339, 16342, 16344, 16347, 16353, 16356, 16357, 16358,\n",
      "       16360, 16362, 16365, 16366, 16368, 16370, 16371, 16374, 16375,\n",
      "       16376, 16378, 16379, 16380, 16382, 16383, 16385, 16386, 16387,\n",
      "       16388, 16389, 16390, 16391, 16393, 16394, 16396, 16397, 16398,\n",
      "       16399, 16400, 16401, 16402, 16407, 16408, 16410, 16411, 16413,\n",
      "       16416, 16418, 16419, 16427, 16429, 16432, 16435, 16437, 16439,\n",
      "       16440, 16441, 16444, 16447, 16454, 16455, 16457, 16458, 16459,\n",
      "       16464, 16465, 16466, 16468, 16469, 16472, 16474, 16481, 16483,\n",
      "       16484, 16485, 16487, 16488, 16490, 16492, 16493, 16494, 16495,\n",
      "       16496, 16499, 16501, 16502, 16504, 16505, 16507, 16508, 16509,\n",
      "       16510, 16513, 16514, 16515, 16517, 16518, 16520, 16521, 16523,\n",
      "       16524, 16525, 16526, 16528, 16529, 16530, 16531, 16532, 16533,\n",
      "       16538, 16539, 16540, 16544, 16547, 16552, 16554, 16557, 16558,\n",
      "       16560, 16561, 16562, 16563, 16564, 16572, 16582, 16584, 16585,\n",
      "       16590, 16592, 16598, 16601, 16604, 16606, 16610, 16616, 16619,\n",
      "       16621, 16622, 16626, 16627, 16628, 16629, 16631, 16632, 16633,\n",
      "       16634, 16636, 16637, 16639, 16640, 16641, 16642, 16644, 16645,\n",
      "       16648, 16651, 16652, 16654, 16655, 16659, 16660, 16661, 16662,\n",
      "       16664, 16665, 16666, 16667, 16671, 16672, 16673, 16674, 16675,\n",
      "       16677, 16678, 16681, 16682, 16684, 16688, 16691, 16692, 16695,\n",
      "       16696, 16698, 16700, 16701, 16703, 16705, 16706, 16707, 16708,\n",
      "       16712, 16714, 16715, 16719, 16721, 16723, 16728, 16730, 16731,\n",
      "       16734, 16735, 16738, 16740, 16741, 16744, 16747, 16749, 16750,\n",
      "       16752, 16754, 16755, 16760, 16762, 16765, 16772, 16776, 16780,\n",
      "       16781, 16783, 16784, 16786, 16788, 16789, 16793, 16797, 16798,\n",
      "       16800, 16801, 16802, 16804, 16805, 16808, 16811, 16814, 16816,\n",
      "       16819, 16821, 16822, 16823, 16824, 16825, 16826, 16828, 16829,\n",
      "       16830, 16831, 16833, 16836, 16837, 16838, 16841, 16842, 16849,\n",
      "       16850, 16851, 16854, 16857, 16858, 16861, 16862, 16863, 16867,\n",
      "       16872, 16876, 16878, 16880, 16881, 16882, 16883, 16885, 16887,\n",
      "       16888, 16889, 16890, 16893, 16896, 16897, 16899, 16901, 16902,\n",
      "       16903, 16907, 16908, 16910, 16913, 16916, 16917, 16918, 16919,\n",
      "       16920, 16921, 16922, 16923, 16924, 16925, 16926, 16927, 16929,\n",
      "       16931, 16934, 16936, 16937, 16938, 16939, 16940, 16941, 16944,\n",
      "       16945, 16946, 16948, 16949, 16950, 16953, 16954, 16957, 16958,\n",
      "       16959, 16961, 16962, 16963, 16968, 16973, 16974, 16978, 16979,\n",
      "       16982, 16985, 16994, 16995, 16996, 16997, 16999, 17000, 17005,\n",
      "       17007, 17009, 17010, 17013, 17014, 17016, 17017, 17024, 17026,\n",
      "       17027, 17031, 17032, 17033, 17034, 17036, 17037, 17038, 17039,\n",
      "       17045, 17046, 17049, 17053, 17056, 17057, 17059, 17061, 17062,\n",
      "       17064, 17065, 17066, 17069, 17070, 17072, 17074, 17075, 17076,\n",
      "       17081, 17084, 17086, 17087, 17089, 17090, 17091, 17092, 17094,\n",
      "       17095, 17097, 17098, 17099, 17100, 17110, 17111, 17113, 17118,\n",
      "       17119, 17121, 17127, 17128, 17130, 17131, 17132, 17135, 17136,\n",
      "       17137, 17138, 17139, 17141, 17144, 17145, 17146, 17148, 17149,\n",
      "       17151, 17154, 17155, 17156, 17157, 17158, 17160, 17162, 17163,\n",
      "       17164, 17166, 17168, 17170, 17174, 17181, 17183, 17185, 17186,\n",
      "       17190, 17191, 17192, 17195, 17198, 17199, 17204, 17206, 17211,\n",
      "       17213, 17214, 17216, 17217, 17218, 17219, 17226, 17227, 17228,\n",
      "       17229, 17230, 17231, 17232, 17236, 17238, 17240, 17242, 17246,\n",
      "       17247, 17248, 17249, 17250, 17252, 17259, 17262, 17263, 17267,\n",
      "       17270, 17271, 17275, 17276, 17277, 17279, 17283, 17286, 17292,\n",
      "       17294, 17295, 17297, 17298, 17299, 17300, 17301, 17302, 17306,\n",
      "       17307, 17308, 17311, 17312, 17313, 17314, 17317, 17323, 17326,\n",
      "       17329, 17331, 17333, 17334, 17336, 17337, 17339, 17340, 17342,\n",
      "       17343, 17347, 17348, 17349, 17350, 17353, 17355, 17359, 17360,\n",
      "       17362, 17363, 17366, 17367, 17369, 17372, 17374, 17376, 17379,\n",
      "       17383, 17384, 17386, 17388, 17391, 17393, 17394, 17396, 17397,\n",
      "       17398, 17399, 17400, 17401, 17402, 17403, 17404, 17406, 17408,\n",
      "       17410, 17411, 17412, 17414, 17416, 17418, 17422, 17423, 17424,\n",
      "       17425, 17427, 17428, 17432, 17433, 17434, 17435, 17441, 17442,\n",
      "       17443, 17444, 17447, 17451, 17453, 17454, 17457, 17458, 17459,\n",
      "       17460, 17463, 17466, 17467, 17473, 17477, 17480, 17483, 17485,\n",
      "       17486, 17487, 17489, 17494, 17495, 17496, 17498, 17503, 17508,\n",
      "       17510, 17511, 17513, 17515, 17517, 17518, 17520, 17521, 17525,\n",
      "       17529, 17531, 17532, 17534, 17535, 17536, 17540, 17541, 17542,\n",
      "       17545, 17547, 17549, 17550, 17552, 17558, 17560, 17562, 17563,\n",
      "       17565, 17567, 17570, 17573, 17574, 17576, 17577, 17578, 17579,\n",
      "       17580, 17581, 17582, 17583, 17585, 17586, 17587, 17590, 17591,\n",
      "       17593, 17594, 17598, 17601, 17605, 17608, 17609, 17610, 17616,\n",
      "       17618, 17620, 17625, 17626, 17628, 17635, 17637, 17638, 17639,\n",
      "       17640, 17641, 17644, 17645, 17647, 17648, 17650, 17654, 17656,\n",
      "       17658, 17659, 17660, 17661, 17669, 17671, 17672, 17673, 17675,\n",
      "       17677, 17678, 17682, 17683, 17684, 17685, 17689, 17691, 17693,\n",
      "       17694, 17699, 17701, 17703, 17714, 17717, 17721, 17723, 17724,\n",
      "       17725, 17727, 17728, 17731, 17736, 17737, 17740, 17741, 17744,\n",
      "       17745, 17746, 17747, 17749, 17751, 17752, 17753, 17755, 17759,\n",
      "       17760, 17761, 17764, 17767, 17769, 17773, 17774, 17776, 17778,\n",
      "       17779, 17786, 17792, 17794, 17798, 17801, 17803, 17804, 17807,\n",
      "       17808, 17809, 17811, 17813, 17818, 17819, 17820, 17822, 17830,\n",
      "       17831, 17832, 17833, 17835, 17836, 17837, 17839, 17840, 17843,\n",
      "       17845, 17847, 17848, 17849, 17850, 17851, 17859, 17860, 17861,\n",
      "       17862, 17863, 17866, 17867, 17879, 17880, 17881, 17884, 17885,\n",
      "       17891, 17892, 17896, 17897, 17898, 17899, 17901, 17904, 17906,\n",
      "       17915, 17920, 17922, 17923, 17928, 17931, 17932, 17936, 17938,\n",
      "       17939, 17940, 17941, 17942, 17943, 17944, 17945, 17946, 17947,\n",
      "       17948, 17949, 17954, 17955, 17956, 17957, 17958, 17959, 17960,\n",
      "       17961, 17963, 17969, 17975, 17978, 17979, 17980, 17981, 17982,\n",
      "       17983, 17984, 17990, 17991, 17992, 17993, 17994, 17997, 18000,\n",
      "       18001, 18002, 18003, 18006, 18007, 18012, 18014, 18016, 18017,\n",
      "       18021, 18023, 18025, 18030, 18031, 18032, 18033, 18036, 18037,\n",
      "       18039, 18040, 18042, 18045, 18046, 18047, 18049, 18053, 18055,\n",
      "       18056, 18057, 18058, 18060, 18061, 18063, 18064, 18065, 18066,\n",
      "       18067, 18068, 18070, 18072, 18074, 18078, 18081, 18085, 18087,\n",
      "       18088, 18089, 18097, 18098, 18102, 18103, 18104, 18105, 18109,\n",
      "       18110, 18113, 18114, 18117, 18119, 18124, 18125, 18131, 18132,\n",
      "       18135, 18140, 18143, 18145, 18147, 18148, 18152, 18153, 18158,\n",
      "       18159, 18161, 18162, 18163, 18167, 18168, 18169, 18171, 18172,\n",
      "       18176, 18177, 18178, 18180, 18181, 18183, 18185, 18187, 18188,\n",
      "       18191, 18193, 18194, 18198, 18199, 18202, 18205, 18207, 18209,\n",
      "       18211, 18214, 18215, 18216, 18217, 18221, 18224, 18226, 18234,\n",
      "       18238, 18240, 18241, 18243, 18244, 18247, 18249, 18250, 18252,\n",
      "       18253, 18256, 18257, 18258, 18259, 18261, 18263, 18264, 18265,\n",
      "       18266, 18267, 18268, 18270, 18271, 18274, 18279, 18284, 18287,\n",
      "       18289, 18291, 18292, 18295, 18296, 18297, 18298, 18301, 18302,\n",
      "       18303, 18304, 18305, 18306, 18307, 18308, 18311, 18313, 18314,\n",
      "       18316, 18322, 18324, 18325, 18327, 18330, 18331, 18335, 18336,\n",
      "       18338, 18339, 18343, 18344, 18345, 18346, 18347, 18354, 18355,\n",
      "       18356, 18358, 18360, 18363, 18365, 18366, 18368, 18369, 18370,\n",
      "       18371, 18372, 18376, 18378, 18381, 18383, 18384, 18385, 18393,\n",
      "       18397, 18399, 18401, 18402, 18403, 18406, 18407, 18408, 18410,\n",
      "       18413, 18416, 18417, 18418, 18419, 18420, 18423, 18425, 18427,\n",
      "       18433, 18436, 18437, 18438, 18439, 18442, 18443, 18448, 18449,\n",
      "       18450, 18452, 18453, 18454, 18455, 18456, 18457, 18459, 18463,\n",
      "       18464, 18470, 18471, 18475, 18477, 18479, 18480, 18481, 18483,\n",
      "       18484, 18485, 18487, 18491, 18493, 18498, 18503, 18504, 18506,\n",
      "       18507, 18508, 18510, 18511, 18512, 18513, 18515, 18516, 18517,\n",
      "       18519, 18520, 18521, 18522, 18525, 18526, 18528, 18529, 18531,\n",
      "       18533, 18534, 18536, 18538, 18540, 18541, 18542, 18544, 18546,\n",
      "       18547, 18548, 18549, 18551, 18553, 18555, 18559, 18564, 18565,\n",
      "       18566, 18571, 18572, 18573, 18574, 18575, 18577, 18578, 18580,\n",
      "       18582, 18584, 18586, 18587, 18588, 18591, 18592, 18595, 18597,\n",
      "       18598, 18600, 18601, 18602, 18603, 18606, 18607, 18611, 18613,\n",
      "       18616, 18618, 18621, 18622, 18623, 18624, 18625, 18626, 18627,\n",
      "       18628, 18629, 18632, 18633, 18634, 18635, 18636, 18638, 18639,\n",
      "       18640, 18642, 18646, 18650, 18657, 18661, 18665, 18669, 18671,\n",
      "       18673, 18675, 18676, 18677, 18680, 18682, 18684, 18687, 18690,\n",
      "       18693, 18695, 18696, 18698, 18703, 18704, 18705, 18706, 18708,\n",
      "       18711, 18713, 18714, 18716, 18717, 18718, 18719, 18720, 18724,\n",
      "       18727, 18728, 18730, 18733, 18735, 18737, 18738, 18740, 18742,\n",
      "       18744, 18748, 18749, 18750, 18751, 18753, 18755, 18757, 18764,\n",
      "       18765, 18767, 18768, 18770, 18772, 18773, 18777, 18778, 18779,\n",
      "       18784, 18785, 18787, 18788, 18793, 18794, 18796, 18798, 18802,\n",
      "       18804, 18805, 18806, 18809, 18811, 18812, 18813, 18814, 18815,\n",
      "       18817, 18820, 18822, 18823, 18824, 18828, 18829, 18834, 18835,\n",
      "       18837, 18838, 18839, 18840, 18841, 18843, 18844, 18846, 18847,\n",
      "       18849, 18850, 18852, 18856, 18857, 18859, 18860, 18862, 18865,\n",
      "       18866, 18867, 18873, 18875, 18876, 18877, 18879, 18880, 18883,\n",
      "       18885, 18891, 18892, 18893, 18895, 18896, 18899, 18902, 18904,\n",
      "       18905, 18907, 18909, 18910, 18911, 18915, 18918, 18919, 18921,\n",
      "       18927, 18928, 18932, 18935, 18936, 18937, 18940, 18942, 18944,\n",
      "       18945, 18949, 18950, 18952, 18953, 18955, 18956, 18957, 18958,\n",
      "       18960, 18962, 18963, 18964, 18965, 18969, 18972, 18978, 18980,\n",
      "       18981, 18982, 18983, 18993, 18994, 18995, 18996, 18999, 19000,\n",
      "       19001, 19002, 19004, 19008, 19012, 19014, 19015, 19016, 19018,\n",
      "       19019, 19021, 19023, 19025, 19026, 19029, 19030, 19031, 19032,\n",
      "       19036, 19037, 19041, 19042, 19044, 19046, 19050, 19051, 19054,\n",
      "       19057, 19058, 19059, 19060, 19061, 19065, 19067, 19071, 19072,\n",
      "       19077, 19079, 19080, 19081, 19083, 19084, 19085, 19092, 19093,\n",
      "       19094, 19095, 19096, 19098, 19099, 19100, 19101, 19103, 19105,\n",
      "       19106, 19108, 19109, 19110, 19111, 19114, 19115, 19118, 19119,\n",
      "       19121, 19122, 19123, 19124, 19126, 19128, 19132, 19134, 19137,\n",
      "       19138, 19139, 19141, 19142, 19143, 19145, 19146, 19147, 19148,\n",
      "       19149, 19150, 19152, 19154, 19156, 19158, 19159, 19160, 19164,\n",
      "       19165, 19166, 19167, 19172, 19173, 19174, 19175, 19176, 19177,\n",
      "       19178, 19179, 19181, 19182, 19185, 19186, 19187, 19189, 19191,\n",
      "       19192, 19195, 19196, 19199, 19205, 19206, 19208, 19209, 19210,\n",
      "       19213, 19214, 19216, 19218, 19219, 19222, 19224, 19226, 19227,\n",
      "       19228, 19229, 19230, 19231, 19232, 19233, 19237, 19240, 19241,\n",
      "       19243, 19247, 19248, 19249, 19253, 19256, 19257, 19258, 19259,\n",
      "       19262, 19264, 19266, 19267, 19268, 19269, 19270, 19277, 19279,\n",
      "       19280, 19281, 19282, 19285, 19290, 19291, 19293, 19295, 19296,\n",
      "       19297, 19298, 19299, 19300, 19301, 19303, 19304, 19308, 19313,\n",
      "       19314, 19315, 19317, 19318, 19319, 19321, 19322, 19323, 19324,\n",
      "       19326, 19328, 19329, 19331, 19333, 19334, 19335, 19338, 19339,\n",
      "       19343, 19344, 19346, 19349, 19351, 19352, 19353, 19355, 19356,\n",
      "       19358, 19360, 19364, 19365, 19366, 19367, 19368, 19369, 19371,\n",
      "       19374, 19376, 19377, 19379, 19380, 19381, 19384, 19387, 19388,\n",
      "       19390, 19392, 19393, 19394, 19399, 19401, 19402, 19414, 19416,\n",
      "       19420, 19421, 19425, 19427, 19428, 19429, 19430, 19431, 19434,\n",
      "       19435, 19437, 19439, 19445, 19449, 19450, 19451, 19453, 19456,\n",
      "       19457, 19459, 19462, 19463, 19465, 19466, 19467, 19468, 19469,\n",
      "       19470, 19472, 19473, 19475, 19476, 19477, 19478, 19481, 19482,\n",
      "       19483, 19487, 19490, 19494, 19497, 19498, 19499, 19500, 19504,\n",
      "       19508, 19511, 19512, 19514, 19515, 19516, 19518, 19519, 19530,\n",
      "       19531, 19534, 19537, 19538, 19541, 19542, 19543, 19545, 19546,\n",
      "       19548, 19550, 19552, 19554, 19555, 19556, 19557, 19559, 19563,\n",
      "       19567, 19569, 19570, 19571, 19572, 19573, 19574, 19575, 19576,\n",
      "       19578, 19580, 19581, 19584, 19587, 19589, 19590, 19592, 19601,\n",
      "       19602, 19603, 19605, 19606, 19607, 19609, 19610, 19611, 19615,\n",
      "       19617, 19619, 19623, 19625, 19626, 19630, 19634, 19635, 19637,\n",
      "       19638, 19641, 19644, 19647, 19648, 19649, 19650, 19653, 19654,\n",
      "       19655, 19656, 19658, 19660, 19661, 19666, 19668, 19672, 19673,\n",
      "       19675, 19677, 19679, 19680, 19681, 19682, 19683, 19685, 19686,\n",
      "       19687, 19692, 19693, 19695, 19696, 19697, 19700, 19702, 19703,\n",
      "       19704, 19706, 19708, 19710, 19711, 19712, 19713, 19714, 19715,\n",
      "       19716, 19717, 19723, 19726, 19729, 19734, 19741, 19743, 19746,\n",
      "       19747, 19749, 19753, 19755, 19756, 19757, 19760, 19763, 19764,\n",
      "       19767, 19768, 19769, 19771, 19772, 19773, 19774, 19775, 19776,\n",
      "       19778, 19779, 19781, 19782, 19783, 19788, 19789, 19792, 19793,\n",
      "       19796, 19798, 19799, 19804, 19806, 19807, 19811, 19813, 19814,\n",
      "       19815, 19817, 19818, 19819, 19820, 19826, 19828, 19829, 19830,\n",
      "       19833, 19834, 19835, 19836, 19837, 19839, 19840, 19841, 19842,\n",
      "       19843, 19846, 19847, 19848, 19849, 19850, 19851, 19852, 19859,\n",
      "       19860, 19862, 19864, 19866, 19868, 19869, 19870, 19871, 19874,\n",
      "       19875, 19876, 19878, 19879, 19883, 19886, 19888, 19889, 19893,\n",
      "       19894, 19895, 19896, 19897, 19899, 19904, 19909, 19910, 19912,\n",
      "       19915, 19917, 19921, 19923, 19925, 19929, 19930, 19936, 19937,\n",
      "       19939, 19940, 19941, 19942, 19945, 19950, 19955, 19957, 19958,\n",
      "       19960, 19961, 19962, 19966, 19968, 19969, 19970, 19971, 19972,\n",
      "       19975, 19977, 19979, 19981, 19984, 19985, 19986, 19989, 19990,\n",
      "       19992, 19993, 19994, 19995, 19997, 19998, 19999]),)\n"
     ]
    }
   ],
   "source": [
    "import sys\n",
    "import numpy\n",
    "numpy.set_printoptions(threshold=sys.maxsize)\n",
    "print(index_uk)"
   ]
  }
 ],
 "metadata": {
  "kernelspec": {
   "display_name": "Python 3",
   "language": "python",
   "name": "python3"
  },
  "language_info": {
   "codemirror_mode": {
    "name": "ipython",
    "version": 3
   },
   "file_extension": ".py",
   "mimetype": "text/x-python",
   "name": "python",
   "nbconvert_exporter": "python",
   "pygments_lexer": "ipython3",
   "version": "3.8.5"
  }
 },
 "nbformat": 4,
 "nbformat_minor": 4
}
